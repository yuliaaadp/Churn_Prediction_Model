{
 "cells": [
  {
   "cell_type": "markdown",
   "metadata": {
    "id": "8YoSrWrUpRbx"
   },
   "source": [
    "# **CHURN PREDICTION**"
   ]
  },
  {
   "cell_type": "markdown",
   "metadata": {
    "id": "Y615bikJqGwT"
   },
   "source": [
    "**Churn** adalah:\n",
    "\n",
    "\n",
    "1.  seberapa besar persentase jumlah akun yang membatalkan atau tidak meneruskan langganan\n",
    "2.   seberapa banyak jumlah pelanggan yang berhenti menggunakan produk\n",
    "3. besarnya kemungkinan seorang pelanggan akan berhenti menggunakan produk\n",
    "\n",
    "Dievaluasi dalam **suatu periode waktu yang spesifik** (bulanan, kuartal, tahunan).\n",
    "\n",
    "Churn Rate yang tinggi dapat **berdampak buruk terhadap bisnis** dan dapat menunjukkan **ketidakpuasan**.\n",
    "\n",
    "**Churn Rate** = (Jumlah pelanggan di awal periode - Jumlah pelanggan di akhir periode) / Jumlah pelanggan di awal periode\n",
    "\n",
    "**Tantangan**\n",
    "\n",
    "Teknik pemodelan prediksi churn berusaha **memahami perilaku dan atribut pelanggan yang menandakan risiko dan waktu pelanggan pergi**. Dari hal tersebut terdapat beberapa tantangan, di antaranya:\n",
    "\n",
    "1. kesulitan mendapatkan data\n",
    "2. keakuratan teknik\n",
    "3. adanya resiko dimana insentif khusus yang berfokus pada retensi dapat diberikan kepada pelanggan aktif yang tidak churn\n",
    "4. model churn prediction harus mengandalkan data real-time"
   ]
  },
  {
   "cell_type": "markdown",
   "metadata": {
    "id": "DuGsGZsLuyeW"
   },
   "source": [
    "#Membaca Data"
   ]
  },
  {
   "cell_type": "code",
   "execution_count": 2,
   "metadata": {
    "colab": {
     "base_uri": "https://localhost:8080/"
    },
    "id": "PEBQ42J-ub8u",
    "outputId": "d61487b9-afbc-4974-857a-2131fcb8c813"
   },
   "outputs": [
    {
     "name": "stdout",
     "output_type": "stream",
     "text": [
      "Drive already mounted at /content/drive; to attempt to forcibly remount, call drive.mount(\"/content/drive\", force_remount=True).\n"
     ]
    }
   ],
   "source": [
    "from google.colab import drive\n",
    "drive.mount('/content/drive')"
   ]
  },
  {
   "cell_type": "code",
   "execution_count": 3,
   "metadata": {
    "id": "e8j7YjRVuuzg"
   },
   "outputs": [],
   "source": [
    "import pandas as pd\n",
    "import numpy as np\n",
    "import matplotlib.pyplot as plt\n",
    "import seaborn as sns"
   ]
  },
  {
   "cell_type": "markdown",
   "metadata": {
    "id": "vyFN1Ycbvjg4"
   },
   "source": [
    "# Mengenal Data"
   ]
  },
  {
   "cell_type": "markdown",
   "metadata": {
    "id": "cO2NtXeX-fga"
   },
   "source": [
    "Dataset terdiri dari beberapa fitur, sebagai berikut:\n",
    "- RowNumber : Nomor urut data\n",
    "- CustomerId : Nomor ID dari customer\n",
    "- Surname : Nama belakang customer\n",
    "- CreditScore : Skor kredit dari customer (semakin tinggi nilainya maka mengidentifikasikan seorang customer sering berinteraksi dengan bank/layanannya)\n",
    "- Geography : Negara domisili customer\n",
    "- Gender : Jenis kelamin customer\n",
    "- Age : Umur customer\n",
    "- Tenure : Waktu seorang customer menjadi pelanggan bank (tahun)\n",
    "- Balance : Saldo yang dimiliki oleh customer\n",
    "- NumOfProducts : Jumlah produk atau layanan bank yang dimiliki oleh customer\n",
    "- HasCrCard : Identifikasi customer perihal kepemilikan kartu kredit\n",
    "- IsActiveMember : Identifikasi customer perihal status aktif sebagai member\n",
    "- EstimatedSalary : Gaji dari customer terkait\n",
    "- Exited : Identifikasi customer apakah churn atau tidak (1 - Churn, 0 - Non Churn)"
   ]
  },
  {
   "cell_type": "code",
   "execution_count": 4,
   "metadata": {
    "colab": {
     "base_uri": "https://localhost:8080/",
     "height": 424
    },
    "id": "ilZGRBT8urtr",
    "outputId": "5875d9e6-5206-4bde-cc23-9ab5ae6e6b02"
   },
   "outputs": [
    {
     "data": {
      "text/html": [
       "\n",
       "  <div id=\"df-ab883ecc-bbf6-4056-a51d-99f9079c56c2\">\n",
       "    <div class=\"colab-df-container\">\n",
       "      <div>\n",
       "<style scoped>\n",
       "    .dataframe tbody tr th:only-of-type {\n",
       "        vertical-align: middle;\n",
       "    }\n",
       "\n",
       "    .dataframe tbody tr th {\n",
       "        vertical-align: top;\n",
       "    }\n",
       "\n",
       "    .dataframe thead th {\n",
       "        text-align: right;\n",
       "    }\n",
       "</style>\n",
       "<table border=\"1\" class=\"dataframe\">\n",
       "  <thead>\n",
       "    <tr style=\"text-align: right;\">\n",
       "      <th></th>\n",
       "      <th>RowNumber</th>\n",
       "      <th>CustomerId</th>\n",
       "      <th>Surname</th>\n",
       "      <th>CreditScore</th>\n",
       "      <th>Geography</th>\n",
       "      <th>Gender</th>\n",
       "      <th>Age</th>\n",
       "      <th>Tenure</th>\n",
       "      <th>Balance</th>\n",
       "      <th>NumOfProducts</th>\n",
       "      <th>HasCrCard</th>\n",
       "      <th>IsActiveMember</th>\n",
       "      <th>EstimatedSalary</th>\n",
       "      <th>Exited</th>\n",
       "    </tr>\n",
       "  </thead>\n",
       "  <tbody>\n",
       "    <tr>\n",
       "      <th>0</th>\n",
       "      <td>1</td>\n",
       "      <td>15634602</td>\n",
       "      <td>Hargrave</td>\n",
       "      <td>619</td>\n",
       "      <td>France</td>\n",
       "      <td>Female</td>\n",
       "      <td>42</td>\n",
       "      <td>2</td>\n",
       "      <td>0.00</td>\n",
       "      <td>1</td>\n",
       "      <td>1</td>\n",
       "      <td>1</td>\n",
       "      <td>101348.88</td>\n",
       "      <td>1</td>\n",
       "    </tr>\n",
       "    <tr>\n",
       "      <th>1</th>\n",
       "      <td>2</td>\n",
       "      <td>15647311</td>\n",
       "      <td>Hill</td>\n",
       "      <td>608</td>\n",
       "      <td>Spain</td>\n",
       "      <td>Female</td>\n",
       "      <td>41</td>\n",
       "      <td>1</td>\n",
       "      <td>83807.86</td>\n",
       "      <td>1</td>\n",
       "      <td>0</td>\n",
       "      <td>1</td>\n",
       "      <td>112542.58</td>\n",
       "      <td>0</td>\n",
       "    </tr>\n",
       "    <tr>\n",
       "      <th>2</th>\n",
       "      <td>3</td>\n",
       "      <td>15619304</td>\n",
       "      <td>Onio</td>\n",
       "      <td>502</td>\n",
       "      <td>France</td>\n",
       "      <td>Female</td>\n",
       "      <td>42</td>\n",
       "      <td>8</td>\n",
       "      <td>159660.80</td>\n",
       "      <td>3</td>\n",
       "      <td>1</td>\n",
       "      <td>0</td>\n",
       "      <td>113931.57</td>\n",
       "      <td>1</td>\n",
       "    </tr>\n",
       "    <tr>\n",
       "      <th>3</th>\n",
       "      <td>4</td>\n",
       "      <td>15701354</td>\n",
       "      <td>Boni</td>\n",
       "      <td>699</td>\n",
       "      <td>France</td>\n",
       "      <td>Female</td>\n",
       "      <td>39</td>\n",
       "      <td>1</td>\n",
       "      <td>0.00</td>\n",
       "      <td>2</td>\n",
       "      <td>0</td>\n",
       "      <td>0</td>\n",
       "      <td>93826.63</td>\n",
       "      <td>0</td>\n",
       "    </tr>\n",
       "    <tr>\n",
       "      <th>4</th>\n",
       "      <td>5</td>\n",
       "      <td>15737888</td>\n",
       "      <td>Mitchell</td>\n",
       "      <td>850</td>\n",
       "      <td>Spain</td>\n",
       "      <td>Female</td>\n",
       "      <td>43</td>\n",
       "      <td>2</td>\n",
       "      <td>125510.82</td>\n",
       "      <td>1</td>\n",
       "      <td>1</td>\n",
       "      <td>1</td>\n",
       "      <td>79084.10</td>\n",
       "      <td>0</td>\n",
       "    </tr>\n",
       "    <tr>\n",
       "      <th>...</th>\n",
       "      <td>...</td>\n",
       "      <td>...</td>\n",
       "      <td>...</td>\n",
       "      <td>...</td>\n",
       "      <td>...</td>\n",
       "      <td>...</td>\n",
       "      <td>...</td>\n",
       "      <td>...</td>\n",
       "      <td>...</td>\n",
       "      <td>...</td>\n",
       "      <td>...</td>\n",
       "      <td>...</td>\n",
       "      <td>...</td>\n",
       "      <td>...</td>\n",
       "    </tr>\n",
       "    <tr>\n",
       "      <th>9995</th>\n",
       "      <td>9996</td>\n",
       "      <td>15606229</td>\n",
       "      <td>Obijiaku</td>\n",
       "      <td>771</td>\n",
       "      <td>France</td>\n",
       "      <td>Male</td>\n",
       "      <td>39</td>\n",
       "      <td>5</td>\n",
       "      <td>0.00</td>\n",
       "      <td>2</td>\n",
       "      <td>1</td>\n",
       "      <td>0</td>\n",
       "      <td>96270.64</td>\n",
       "      <td>0</td>\n",
       "    </tr>\n",
       "    <tr>\n",
       "      <th>9996</th>\n",
       "      <td>9997</td>\n",
       "      <td>15569892</td>\n",
       "      <td>Johnstone</td>\n",
       "      <td>516</td>\n",
       "      <td>France</td>\n",
       "      <td>Male</td>\n",
       "      <td>35</td>\n",
       "      <td>10</td>\n",
       "      <td>57369.61</td>\n",
       "      <td>1</td>\n",
       "      <td>1</td>\n",
       "      <td>1</td>\n",
       "      <td>101699.77</td>\n",
       "      <td>0</td>\n",
       "    </tr>\n",
       "    <tr>\n",
       "      <th>9997</th>\n",
       "      <td>9998</td>\n",
       "      <td>15584532</td>\n",
       "      <td>Liu</td>\n",
       "      <td>709</td>\n",
       "      <td>France</td>\n",
       "      <td>Female</td>\n",
       "      <td>36</td>\n",
       "      <td>7</td>\n",
       "      <td>0.00</td>\n",
       "      <td>1</td>\n",
       "      <td>0</td>\n",
       "      <td>1</td>\n",
       "      <td>42085.58</td>\n",
       "      <td>1</td>\n",
       "    </tr>\n",
       "    <tr>\n",
       "      <th>9998</th>\n",
       "      <td>9999</td>\n",
       "      <td>15682355</td>\n",
       "      <td>Sabbatini</td>\n",
       "      <td>772</td>\n",
       "      <td>Germany</td>\n",
       "      <td>Male</td>\n",
       "      <td>42</td>\n",
       "      <td>3</td>\n",
       "      <td>75075.31</td>\n",
       "      <td>2</td>\n",
       "      <td>1</td>\n",
       "      <td>0</td>\n",
       "      <td>92888.52</td>\n",
       "      <td>1</td>\n",
       "    </tr>\n",
       "    <tr>\n",
       "      <th>9999</th>\n",
       "      <td>10000</td>\n",
       "      <td>15628319</td>\n",
       "      <td>Walker</td>\n",
       "      <td>792</td>\n",
       "      <td>France</td>\n",
       "      <td>Female</td>\n",
       "      <td>28</td>\n",
       "      <td>4</td>\n",
       "      <td>130142.79</td>\n",
       "      <td>1</td>\n",
       "      <td>1</td>\n",
       "      <td>0</td>\n",
       "      <td>38190.78</td>\n",
       "      <td>0</td>\n",
       "    </tr>\n",
       "  </tbody>\n",
       "</table>\n",
       "<p>10000 rows × 14 columns</p>\n",
       "</div>\n",
       "      <button class=\"colab-df-convert\" onclick=\"convertToInteractive('df-ab883ecc-bbf6-4056-a51d-99f9079c56c2')\"\n",
       "              title=\"Convert this dataframe to an interactive table.\"\n",
       "              style=\"display:none;\">\n",
       "        \n",
       "  <svg xmlns=\"http://www.w3.org/2000/svg\" height=\"24px\"viewBox=\"0 0 24 24\"\n",
       "       width=\"24px\">\n",
       "    <path d=\"M0 0h24v24H0V0z\" fill=\"none\"/>\n",
       "    <path d=\"M18.56 5.44l.94 2.06.94-2.06 2.06-.94-2.06-.94-.94-2.06-.94 2.06-2.06.94zm-11 1L8.5 8.5l.94-2.06 2.06-.94-2.06-.94L8.5 2.5l-.94 2.06-2.06.94zm10 10l.94 2.06.94-2.06 2.06-.94-2.06-.94-.94-2.06-.94 2.06-2.06.94z\"/><path d=\"M17.41 7.96l-1.37-1.37c-.4-.4-.92-.59-1.43-.59-.52 0-1.04.2-1.43.59L10.3 9.45l-7.72 7.72c-.78.78-.78 2.05 0 2.83L4 21.41c.39.39.9.59 1.41.59.51 0 1.02-.2 1.41-.59l7.78-7.78 2.81-2.81c.8-.78.8-2.07 0-2.86zM5.41 20L4 18.59l7.72-7.72 1.47 1.35L5.41 20z\"/>\n",
       "  </svg>\n",
       "      </button>\n",
       "      \n",
       "  <style>\n",
       "    .colab-df-container {\n",
       "      display:flex;\n",
       "      flex-wrap:wrap;\n",
       "      gap: 12px;\n",
       "    }\n",
       "\n",
       "    .colab-df-convert {\n",
       "      background-color: #E8F0FE;\n",
       "      border: none;\n",
       "      border-radius: 50%;\n",
       "      cursor: pointer;\n",
       "      display: none;\n",
       "      fill: #1967D2;\n",
       "      height: 32px;\n",
       "      padding: 0 0 0 0;\n",
       "      width: 32px;\n",
       "    }\n",
       "\n",
       "    .colab-df-convert:hover {\n",
       "      background-color: #E2EBFA;\n",
       "      box-shadow: 0px 1px 2px rgba(60, 64, 67, 0.3), 0px 1px 3px 1px rgba(60, 64, 67, 0.15);\n",
       "      fill: #174EA6;\n",
       "    }\n",
       "\n",
       "    [theme=dark] .colab-df-convert {\n",
       "      background-color: #3B4455;\n",
       "      fill: #D2E3FC;\n",
       "    }\n",
       "\n",
       "    [theme=dark] .colab-df-convert:hover {\n",
       "      background-color: #434B5C;\n",
       "      box-shadow: 0px 1px 3px 1px rgba(0, 0, 0, 0.15);\n",
       "      filter: drop-shadow(0px 1px 2px rgba(0, 0, 0, 0.3));\n",
       "      fill: #FFFFFF;\n",
       "    }\n",
       "  </style>\n",
       "\n",
       "      <script>\n",
       "        const buttonEl =\n",
       "          document.querySelector('#df-ab883ecc-bbf6-4056-a51d-99f9079c56c2 button.colab-df-convert');\n",
       "        buttonEl.style.display =\n",
       "          google.colab.kernel.accessAllowed ? 'block' : 'none';\n",
       "\n",
       "        async function convertToInteractive(key) {\n",
       "          const element = document.querySelector('#df-ab883ecc-bbf6-4056-a51d-99f9079c56c2');\n",
       "          const dataTable =\n",
       "            await google.colab.kernel.invokeFunction('convertToInteractive',\n",
       "                                                     [key], {});\n",
       "          if (!dataTable) return;\n",
       "\n",
       "          const docLinkHtml = 'Like what you see? Visit the ' +\n",
       "            '<a target=\"_blank\" href=https://colab.research.google.com/notebooks/data_table.ipynb>data table notebook</a>'\n",
       "            + ' to learn more about interactive tables.';\n",
       "          element.innerHTML = '';\n",
       "          dataTable['output_type'] = 'display_data';\n",
       "          await google.colab.output.renderOutput(dataTable, element);\n",
       "          const docLink = document.createElement('div');\n",
       "          docLink.innerHTML = docLinkHtml;\n",
       "          element.appendChild(docLink);\n",
       "        }\n",
       "      </script>\n",
       "    </div>\n",
       "  </div>\n",
       "  "
      ],
      "text/plain": [
       "      RowNumber  CustomerId    Surname  CreditScore Geography  Gender  Age  \\\n",
       "0             1    15634602   Hargrave          619    France  Female   42   \n",
       "1             2    15647311       Hill          608     Spain  Female   41   \n",
       "2             3    15619304       Onio          502    France  Female   42   \n",
       "3             4    15701354       Boni          699    France  Female   39   \n",
       "4             5    15737888   Mitchell          850     Spain  Female   43   \n",
       "...         ...         ...        ...          ...       ...     ...  ...   \n",
       "9995       9996    15606229   Obijiaku          771    France    Male   39   \n",
       "9996       9997    15569892  Johnstone          516    France    Male   35   \n",
       "9997       9998    15584532        Liu          709    France  Female   36   \n",
       "9998       9999    15682355  Sabbatini          772   Germany    Male   42   \n",
       "9999      10000    15628319     Walker          792    France  Female   28   \n",
       "\n",
       "      Tenure    Balance  NumOfProducts  HasCrCard  IsActiveMember  \\\n",
       "0          2       0.00              1          1               1   \n",
       "1          1   83807.86              1          0               1   \n",
       "2          8  159660.80              3          1               0   \n",
       "3          1       0.00              2          0               0   \n",
       "4          2  125510.82              1          1               1   \n",
       "...      ...        ...            ...        ...             ...   \n",
       "9995       5       0.00              2          1               0   \n",
       "9996      10   57369.61              1          1               1   \n",
       "9997       7       0.00              1          0               1   \n",
       "9998       3   75075.31              2          1               0   \n",
       "9999       4  130142.79              1          1               0   \n",
       "\n",
       "      EstimatedSalary  Exited  \n",
       "0           101348.88       1  \n",
       "1           112542.58       0  \n",
       "2           113931.57       1  \n",
       "3            93826.63       0  \n",
       "4            79084.10       0  \n",
       "...               ...     ...  \n",
       "9995         96270.64       0  \n",
       "9996        101699.77       0  \n",
       "9997         42085.58       1  \n",
       "9998         92888.52       1  \n",
       "9999         38190.78       0  \n",
       "\n",
       "[10000 rows x 14 columns]"
      ]
     },
     "execution_count": 4,
     "metadata": {},
     "output_type": "execute_result"
    }
   ],
   "source": [
    "df = pd.read_csv('/content/drive/MyDrive/DIGITAL_SKOLA/Churn_Modelling.csv')\n",
    "df"
   ]
  },
  {
   "cell_type": "code",
   "execution_count": 5,
   "metadata": {
    "colab": {
     "base_uri": "https://localhost:8080/"
    },
    "id": "dg-gDBm7vPwS",
    "outputId": "e44625e1-07d0-4888-842c-f5f7ab8ebad4"
   },
   "outputs": [
    {
     "data": {
      "text/plain": [
       "(10000, 14)"
      ]
     },
     "execution_count": 5,
     "metadata": {},
     "output_type": "execute_result"
    }
   ],
   "source": [
    "df.shape"
   ]
  },
  {
   "cell_type": "code",
   "execution_count": 6,
   "metadata": {
    "colab": {
     "base_uri": "https://localhost:8080/"
    },
    "id": "hXyxFjwVvotL",
    "outputId": "d8644bef-5bf0-427d-9c3a-116844fc56e4"
   },
   "outputs": [
    {
     "data": {
      "text/plain": [
       "RowNumber          0\n",
       "CustomerId         0\n",
       "Surname            0\n",
       "CreditScore        0\n",
       "Geography          0\n",
       "Gender             0\n",
       "Age                0\n",
       "Tenure             0\n",
       "Balance            0\n",
       "NumOfProducts      0\n",
       "HasCrCard          0\n",
       "IsActiveMember     0\n",
       "EstimatedSalary    0\n",
       "Exited             0\n",
       "dtype: int64"
      ]
     },
     "execution_count": 6,
     "metadata": {},
     "output_type": "execute_result"
    }
   ],
   "source": [
    "#cek missing values\n",
    "df.isnull().sum()"
   ]
  },
  {
   "cell_type": "code",
   "execution_count": 7,
   "metadata": {
    "colab": {
     "base_uri": "https://localhost:8080/",
     "height": 300
    },
    "id": "t0B_mTjawZ0e",
    "outputId": "9fec4afa-9121-4523-fdca-ae6e5e78136c"
   },
   "outputs": [
    {
     "data": {
      "text/html": [
       "\n",
       "  <div id=\"df-9d330ab4-e291-41d1-a58b-a185ddc0ed68\">\n",
       "    <div class=\"colab-df-container\">\n",
       "      <div>\n",
       "<style scoped>\n",
       "    .dataframe tbody tr th:only-of-type {\n",
       "        vertical-align: middle;\n",
       "    }\n",
       "\n",
       "    .dataframe tbody tr th {\n",
       "        vertical-align: top;\n",
       "    }\n",
       "\n",
       "    .dataframe thead th {\n",
       "        text-align: right;\n",
       "    }\n",
       "</style>\n",
       "<table border=\"1\" class=\"dataframe\">\n",
       "  <thead>\n",
       "    <tr style=\"text-align: right;\">\n",
       "      <th></th>\n",
       "      <th>RowNumber</th>\n",
       "      <th>CustomerId</th>\n",
       "      <th>CreditScore</th>\n",
       "      <th>Age</th>\n",
       "      <th>Tenure</th>\n",
       "      <th>Balance</th>\n",
       "      <th>NumOfProducts</th>\n",
       "      <th>HasCrCard</th>\n",
       "      <th>IsActiveMember</th>\n",
       "      <th>EstimatedSalary</th>\n",
       "      <th>Exited</th>\n",
       "    </tr>\n",
       "  </thead>\n",
       "  <tbody>\n",
       "    <tr>\n",
       "      <th>count</th>\n",
       "      <td>10000.00000</td>\n",
       "      <td>1.000000e+04</td>\n",
       "      <td>10000.000000</td>\n",
       "      <td>10000.000000</td>\n",
       "      <td>10000.000000</td>\n",
       "      <td>10000.000000</td>\n",
       "      <td>10000.000000</td>\n",
       "      <td>10000.00000</td>\n",
       "      <td>10000.000000</td>\n",
       "      <td>10000.000000</td>\n",
       "      <td>10000.000000</td>\n",
       "    </tr>\n",
       "    <tr>\n",
       "      <th>mean</th>\n",
       "      <td>5000.50000</td>\n",
       "      <td>1.569094e+07</td>\n",
       "      <td>650.528800</td>\n",
       "      <td>38.921800</td>\n",
       "      <td>5.012800</td>\n",
       "      <td>76485.889288</td>\n",
       "      <td>1.530200</td>\n",
       "      <td>0.70550</td>\n",
       "      <td>0.515100</td>\n",
       "      <td>100090.239881</td>\n",
       "      <td>0.203700</td>\n",
       "    </tr>\n",
       "    <tr>\n",
       "      <th>std</th>\n",
       "      <td>2886.89568</td>\n",
       "      <td>7.193619e+04</td>\n",
       "      <td>96.653299</td>\n",
       "      <td>10.487806</td>\n",
       "      <td>2.892174</td>\n",
       "      <td>62397.405202</td>\n",
       "      <td>0.581654</td>\n",
       "      <td>0.45584</td>\n",
       "      <td>0.499797</td>\n",
       "      <td>57510.492818</td>\n",
       "      <td>0.402769</td>\n",
       "    </tr>\n",
       "    <tr>\n",
       "      <th>min</th>\n",
       "      <td>1.00000</td>\n",
       "      <td>1.556570e+07</td>\n",
       "      <td>350.000000</td>\n",
       "      <td>18.000000</td>\n",
       "      <td>0.000000</td>\n",
       "      <td>0.000000</td>\n",
       "      <td>1.000000</td>\n",
       "      <td>0.00000</td>\n",
       "      <td>0.000000</td>\n",
       "      <td>11.580000</td>\n",
       "      <td>0.000000</td>\n",
       "    </tr>\n",
       "    <tr>\n",
       "      <th>25%</th>\n",
       "      <td>2500.75000</td>\n",
       "      <td>1.562853e+07</td>\n",
       "      <td>584.000000</td>\n",
       "      <td>32.000000</td>\n",
       "      <td>3.000000</td>\n",
       "      <td>0.000000</td>\n",
       "      <td>1.000000</td>\n",
       "      <td>0.00000</td>\n",
       "      <td>0.000000</td>\n",
       "      <td>51002.110000</td>\n",
       "      <td>0.000000</td>\n",
       "    </tr>\n",
       "    <tr>\n",
       "      <th>50%</th>\n",
       "      <td>5000.50000</td>\n",
       "      <td>1.569074e+07</td>\n",
       "      <td>652.000000</td>\n",
       "      <td>37.000000</td>\n",
       "      <td>5.000000</td>\n",
       "      <td>97198.540000</td>\n",
       "      <td>1.000000</td>\n",
       "      <td>1.00000</td>\n",
       "      <td>1.000000</td>\n",
       "      <td>100193.915000</td>\n",
       "      <td>0.000000</td>\n",
       "    </tr>\n",
       "    <tr>\n",
       "      <th>75%</th>\n",
       "      <td>7500.25000</td>\n",
       "      <td>1.575323e+07</td>\n",
       "      <td>718.000000</td>\n",
       "      <td>44.000000</td>\n",
       "      <td>7.000000</td>\n",
       "      <td>127644.240000</td>\n",
       "      <td>2.000000</td>\n",
       "      <td>1.00000</td>\n",
       "      <td>1.000000</td>\n",
       "      <td>149388.247500</td>\n",
       "      <td>0.000000</td>\n",
       "    </tr>\n",
       "    <tr>\n",
       "      <th>max</th>\n",
       "      <td>10000.00000</td>\n",
       "      <td>1.581569e+07</td>\n",
       "      <td>850.000000</td>\n",
       "      <td>92.000000</td>\n",
       "      <td>10.000000</td>\n",
       "      <td>250898.090000</td>\n",
       "      <td>4.000000</td>\n",
       "      <td>1.00000</td>\n",
       "      <td>1.000000</td>\n",
       "      <td>199992.480000</td>\n",
       "      <td>1.000000</td>\n",
       "    </tr>\n",
       "  </tbody>\n",
       "</table>\n",
       "</div>\n",
       "      <button class=\"colab-df-convert\" onclick=\"convertToInteractive('df-9d330ab4-e291-41d1-a58b-a185ddc0ed68')\"\n",
       "              title=\"Convert this dataframe to an interactive table.\"\n",
       "              style=\"display:none;\">\n",
       "        \n",
       "  <svg xmlns=\"http://www.w3.org/2000/svg\" height=\"24px\"viewBox=\"0 0 24 24\"\n",
       "       width=\"24px\">\n",
       "    <path d=\"M0 0h24v24H0V0z\" fill=\"none\"/>\n",
       "    <path d=\"M18.56 5.44l.94 2.06.94-2.06 2.06-.94-2.06-.94-.94-2.06-.94 2.06-2.06.94zm-11 1L8.5 8.5l.94-2.06 2.06-.94-2.06-.94L8.5 2.5l-.94 2.06-2.06.94zm10 10l.94 2.06.94-2.06 2.06-.94-2.06-.94-.94-2.06-.94 2.06-2.06.94z\"/><path d=\"M17.41 7.96l-1.37-1.37c-.4-.4-.92-.59-1.43-.59-.52 0-1.04.2-1.43.59L10.3 9.45l-7.72 7.72c-.78.78-.78 2.05 0 2.83L4 21.41c.39.39.9.59 1.41.59.51 0 1.02-.2 1.41-.59l7.78-7.78 2.81-2.81c.8-.78.8-2.07 0-2.86zM5.41 20L4 18.59l7.72-7.72 1.47 1.35L5.41 20z\"/>\n",
       "  </svg>\n",
       "      </button>\n",
       "      \n",
       "  <style>\n",
       "    .colab-df-container {\n",
       "      display:flex;\n",
       "      flex-wrap:wrap;\n",
       "      gap: 12px;\n",
       "    }\n",
       "\n",
       "    .colab-df-convert {\n",
       "      background-color: #E8F0FE;\n",
       "      border: none;\n",
       "      border-radius: 50%;\n",
       "      cursor: pointer;\n",
       "      display: none;\n",
       "      fill: #1967D2;\n",
       "      height: 32px;\n",
       "      padding: 0 0 0 0;\n",
       "      width: 32px;\n",
       "    }\n",
       "\n",
       "    .colab-df-convert:hover {\n",
       "      background-color: #E2EBFA;\n",
       "      box-shadow: 0px 1px 2px rgba(60, 64, 67, 0.3), 0px 1px 3px 1px rgba(60, 64, 67, 0.15);\n",
       "      fill: #174EA6;\n",
       "    }\n",
       "\n",
       "    [theme=dark] .colab-df-convert {\n",
       "      background-color: #3B4455;\n",
       "      fill: #D2E3FC;\n",
       "    }\n",
       "\n",
       "    [theme=dark] .colab-df-convert:hover {\n",
       "      background-color: #434B5C;\n",
       "      box-shadow: 0px 1px 3px 1px rgba(0, 0, 0, 0.15);\n",
       "      filter: drop-shadow(0px 1px 2px rgba(0, 0, 0, 0.3));\n",
       "      fill: #FFFFFF;\n",
       "    }\n",
       "  </style>\n",
       "\n",
       "      <script>\n",
       "        const buttonEl =\n",
       "          document.querySelector('#df-9d330ab4-e291-41d1-a58b-a185ddc0ed68 button.colab-df-convert');\n",
       "        buttonEl.style.display =\n",
       "          google.colab.kernel.accessAllowed ? 'block' : 'none';\n",
       "\n",
       "        async function convertToInteractive(key) {\n",
       "          const element = document.querySelector('#df-9d330ab4-e291-41d1-a58b-a185ddc0ed68');\n",
       "          const dataTable =\n",
       "            await google.colab.kernel.invokeFunction('convertToInteractive',\n",
       "                                                     [key], {});\n",
       "          if (!dataTable) return;\n",
       "\n",
       "          const docLinkHtml = 'Like what you see? Visit the ' +\n",
       "            '<a target=\"_blank\" href=https://colab.research.google.com/notebooks/data_table.ipynb>data table notebook</a>'\n",
       "            + ' to learn more about interactive tables.';\n",
       "          element.innerHTML = '';\n",
       "          dataTable['output_type'] = 'display_data';\n",
       "          await google.colab.output.renderOutput(dataTable, element);\n",
       "          const docLink = document.createElement('div');\n",
       "          docLink.innerHTML = docLinkHtml;\n",
       "          element.appendChild(docLink);\n",
       "        }\n",
       "      </script>\n",
       "    </div>\n",
       "  </div>\n",
       "  "
      ],
      "text/plain": [
       "         RowNumber    CustomerId   CreditScore           Age        Tenure  \\\n",
       "count  10000.00000  1.000000e+04  10000.000000  10000.000000  10000.000000   \n",
       "mean    5000.50000  1.569094e+07    650.528800     38.921800      5.012800   \n",
       "std     2886.89568  7.193619e+04     96.653299     10.487806      2.892174   \n",
       "min        1.00000  1.556570e+07    350.000000     18.000000      0.000000   \n",
       "25%     2500.75000  1.562853e+07    584.000000     32.000000      3.000000   \n",
       "50%     5000.50000  1.569074e+07    652.000000     37.000000      5.000000   \n",
       "75%     7500.25000  1.575323e+07    718.000000     44.000000      7.000000   \n",
       "max    10000.00000  1.581569e+07    850.000000     92.000000     10.000000   \n",
       "\n",
       "             Balance  NumOfProducts    HasCrCard  IsActiveMember  \\\n",
       "count   10000.000000   10000.000000  10000.00000    10000.000000   \n",
       "mean    76485.889288       1.530200      0.70550        0.515100   \n",
       "std     62397.405202       0.581654      0.45584        0.499797   \n",
       "min         0.000000       1.000000      0.00000        0.000000   \n",
       "25%         0.000000       1.000000      0.00000        0.000000   \n",
       "50%     97198.540000       1.000000      1.00000        1.000000   \n",
       "75%    127644.240000       2.000000      1.00000        1.000000   \n",
       "max    250898.090000       4.000000      1.00000        1.000000   \n",
       "\n",
       "       EstimatedSalary        Exited  \n",
       "count     10000.000000  10000.000000  \n",
       "mean     100090.239881      0.203700  \n",
       "std       57510.492818      0.402769  \n",
       "min          11.580000      0.000000  \n",
       "25%       51002.110000      0.000000  \n",
       "50%      100193.915000      0.000000  \n",
       "75%      149388.247500      0.000000  \n",
       "max      199992.480000      1.000000  "
      ]
     },
     "execution_count": 7,
     "metadata": {},
     "output_type": "execute_result"
    }
   ],
   "source": [
    "#deskripsi statistikal data numerik\n",
    "df.describe()"
   ]
  },
  {
   "cell_type": "markdown",
   "metadata": {
    "id": "vaNDE3l4B5vV"
   },
   "source": [
    "1. Credit Score\n",
    "- Max = 850, Min = 350, Rata-rata = 650\n",
    "2. Umur (tahun)\n",
    "- Max = 92, Min = 18, Rata-rata = 39\n",
    "3. Tenure (tahun)\n",
    "- Max = 10, Min = 0, Rata-rata = 5\n",
    "4. Number of Products\n",
    "- Max = 4, Min = 1, Rata-rata = 2\n",
    "5. Has Credit Card\n",
    "- 70% customer memiliki Credit Card\n",
    "6. Is Active Member\n",
    "- 51% customer adalah member aktif\n",
    "7. Estimated Salary\n",
    "- Max = 199992.48, Min = 11.58, Rata-rata = 100090.24\n",
    "8. Exited\n",
    "- 20% customer churn"
   ]
  },
  {
   "cell_type": "code",
   "execution_count": 8,
   "metadata": {
    "colab": {
     "base_uri": "https://localhost:8080/",
     "height": 175
    },
    "id": "FnDAtq00wnon",
    "outputId": "dd18018f-b5b3-4aae-f195-50a2edc7ef20"
   },
   "outputs": [
    {
     "data": {
      "text/html": [
       "\n",
       "  <div id=\"df-fb0dbb19-870c-4f04-828f-4f44cd7db41f\">\n",
       "    <div class=\"colab-df-container\">\n",
       "      <div>\n",
       "<style scoped>\n",
       "    .dataframe tbody tr th:only-of-type {\n",
       "        vertical-align: middle;\n",
       "    }\n",
       "\n",
       "    .dataframe tbody tr th {\n",
       "        vertical-align: top;\n",
       "    }\n",
       "\n",
       "    .dataframe thead th {\n",
       "        text-align: right;\n",
       "    }\n",
       "</style>\n",
       "<table border=\"1\" class=\"dataframe\">\n",
       "  <thead>\n",
       "    <tr style=\"text-align: right;\">\n",
       "      <th></th>\n",
       "      <th>Surname</th>\n",
       "      <th>Geography</th>\n",
       "      <th>Gender</th>\n",
       "    </tr>\n",
       "  </thead>\n",
       "  <tbody>\n",
       "    <tr>\n",
       "      <th>count</th>\n",
       "      <td>10000</td>\n",
       "      <td>10000</td>\n",
       "      <td>10000</td>\n",
       "    </tr>\n",
       "    <tr>\n",
       "      <th>unique</th>\n",
       "      <td>2932</td>\n",
       "      <td>3</td>\n",
       "      <td>2</td>\n",
       "    </tr>\n",
       "    <tr>\n",
       "      <th>top</th>\n",
       "      <td>Smith</td>\n",
       "      <td>France</td>\n",
       "      <td>Male</td>\n",
       "    </tr>\n",
       "    <tr>\n",
       "      <th>freq</th>\n",
       "      <td>32</td>\n",
       "      <td>5014</td>\n",
       "      <td>5457</td>\n",
       "    </tr>\n",
       "  </tbody>\n",
       "</table>\n",
       "</div>\n",
       "      <button class=\"colab-df-convert\" onclick=\"convertToInteractive('df-fb0dbb19-870c-4f04-828f-4f44cd7db41f')\"\n",
       "              title=\"Convert this dataframe to an interactive table.\"\n",
       "              style=\"display:none;\">\n",
       "        \n",
       "  <svg xmlns=\"http://www.w3.org/2000/svg\" height=\"24px\"viewBox=\"0 0 24 24\"\n",
       "       width=\"24px\">\n",
       "    <path d=\"M0 0h24v24H0V0z\" fill=\"none\"/>\n",
       "    <path d=\"M18.56 5.44l.94 2.06.94-2.06 2.06-.94-2.06-.94-.94-2.06-.94 2.06-2.06.94zm-11 1L8.5 8.5l.94-2.06 2.06-.94-2.06-.94L8.5 2.5l-.94 2.06-2.06.94zm10 10l.94 2.06.94-2.06 2.06-.94-2.06-.94-.94-2.06-.94 2.06-2.06.94z\"/><path d=\"M17.41 7.96l-1.37-1.37c-.4-.4-.92-.59-1.43-.59-.52 0-1.04.2-1.43.59L10.3 9.45l-7.72 7.72c-.78.78-.78 2.05 0 2.83L4 21.41c.39.39.9.59 1.41.59.51 0 1.02-.2 1.41-.59l7.78-7.78 2.81-2.81c.8-.78.8-2.07 0-2.86zM5.41 20L4 18.59l7.72-7.72 1.47 1.35L5.41 20z\"/>\n",
       "  </svg>\n",
       "      </button>\n",
       "      \n",
       "  <style>\n",
       "    .colab-df-container {\n",
       "      display:flex;\n",
       "      flex-wrap:wrap;\n",
       "      gap: 12px;\n",
       "    }\n",
       "\n",
       "    .colab-df-convert {\n",
       "      background-color: #E8F0FE;\n",
       "      border: none;\n",
       "      border-radius: 50%;\n",
       "      cursor: pointer;\n",
       "      display: none;\n",
       "      fill: #1967D2;\n",
       "      height: 32px;\n",
       "      padding: 0 0 0 0;\n",
       "      width: 32px;\n",
       "    }\n",
       "\n",
       "    .colab-df-convert:hover {\n",
       "      background-color: #E2EBFA;\n",
       "      box-shadow: 0px 1px 2px rgba(60, 64, 67, 0.3), 0px 1px 3px 1px rgba(60, 64, 67, 0.15);\n",
       "      fill: #174EA6;\n",
       "    }\n",
       "\n",
       "    [theme=dark] .colab-df-convert {\n",
       "      background-color: #3B4455;\n",
       "      fill: #D2E3FC;\n",
       "    }\n",
       "\n",
       "    [theme=dark] .colab-df-convert:hover {\n",
       "      background-color: #434B5C;\n",
       "      box-shadow: 0px 1px 3px 1px rgba(0, 0, 0, 0.15);\n",
       "      filter: drop-shadow(0px 1px 2px rgba(0, 0, 0, 0.3));\n",
       "      fill: #FFFFFF;\n",
       "    }\n",
       "  </style>\n",
       "\n",
       "      <script>\n",
       "        const buttonEl =\n",
       "          document.querySelector('#df-fb0dbb19-870c-4f04-828f-4f44cd7db41f button.colab-df-convert');\n",
       "        buttonEl.style.display =\n",
       "          google.colab.kernel.accessAllowed ? 'block' : 'none';\n",
       "\n",
       "        async function convertToInteractive(key) {\n",
       "          const element = document.querySelector('#df-fb0dbb19-870c-4f04-828f-4f44cd7db41f');\n",
       "          const dataTable =\n",
       "            await google.colab.kernel.invokeFunction('convertToInteractive',\n",
       "                                                     [key], {});\n",
       "          if (!dataTable) return;\n",
       "\n",
       "          const docLinkHtml = 'Like what you see? Visit the ' +\n",
       "            '<a target=\"_blank\" href=https://colab.research.google.com/notebooks/data_table.ipynb>data table notebook</a>'\n",
       "            + ' to learn more about interactive tables.';\n",
       "          element.innerHTML = '';\n",
       "          dataTable['output_type'] = 'display_data';\n",
       "          await google.colab.output.renderOutput(dataTable, element);\n",
       "          const docLink = document.createElement('div');\n",
       "          docLink.innerHTML = docLinkHtml;\n",
       "          element.appendChild(docLink);\n",
       "        }\n",
       "      </script>\n",
       "    </div>\n",
       "  </div>\n",
       "  "
      ],
      "text/plain": [
       "       Surname Geography Gender\n",
       "count    10000     10000  10000\n",
       "unique    2932         3      2\n",
       "top      Smith    France   Male\n",
       "freq        32      5014   5457"
      ]
     },
     "execution_count": 8,
     "metadata": {},
     "output_type": "execute_result"
    }
   ],
   "source": [
    "#deskripsi statistikal data kategorikal\n",
    "df.describe(include = 'object')"
   ]
  },
  {
   "cell_type": "markdown",
   "metadata": {
    "id": "O-O_982hEhpy"
   },
   "source": [
    "- Customer / nasabah tersebar di 3 negara dan terbanyak adalah di Prancis yaitu sebanyak 5014 nasabah\n",
    "- Customer laki-laki lebih banyak dibandingkan wanita yaitu sebanyak 5457 nasabah"
   ]
  },
  {
   "cell_type": "code",
   "execution_count": 9,
   "metadata": {
    "colab": {
     "base_uri": "https://localhost:8080/",
     "height": 206
    },
    "id": "HsBSuIizwxOp",
    "outputId": "cbd0798f-7ad9-458f-825e-4e82b2f14e1c"
   },
   "outputs": [
    {
     "data": {
      "text/html": [
       "\n",
       "  <div id=\"df-35ab8b2d-368a-4f0e-aa40-f61e291a4af5\">\n",
       "    <div class=\"colab-df-container\">\n",
       "      <div>\n",
       "<style scoped>\n",
       "    .dataframe tbody tr th:only-of-type {\n",
       "        vertical-align: middle;\n",
       "    }\n",
       "\n",
       "    .dataframe tbody tr th {\n",
       "        vertical-align: top;\n",
       "    }\n",
       "\n",
       "    .dataframe thead th {\n",
       "        text-align: right;\n",
       "    }\n",
       "</style>\n",
       "<table border=\"1\" class=\"dataframe\">\n",
       "  <thead>\n",
       "    <tr style=\"text-align: right;\">\n",
       "      <th></th>\n",
       "      <th>CreditScore</th>\n",
       "      <th>Geography</th>\n",
       "      <th>Gender</th>\n",
       "      <th>Age</th>\n",
       "      <th>Tenure</th>\n",
       "      <th>Balance</th>\n",
       "      <th>NumOfProducts</th>\n",
       "      <th>HasCrCard</th>\n",
       "      <th>IsActiveMember</th>\n",
       "      <th>EstimatedSalary</th>\n",
       "      <th>Exited</th>\n",
       "    </tr>\n",
       "  </thead>\n",
       "  <tbody>\n",
       "    <tr>\n",
       "      <th>0</th>\n",
       "      <td>619</td>\n",
       "      <td>France</td>\n",
       "      <td>Female</td>\n",
       "      <td>42</td>\n",
       "      <td>2</td>\n",
       "      <td>0.00</td>\n",
       "      <td>1</td>\n",
       "      <td>1</td>\n",
       "      <td>1</td>\n",
       "      <td>101348.88</td>\n",
       "      <td>1</td>\n",
       "    </tr>\n",
       "    <tr>\n",
       "      <th>1</th>\n",
       "      <td>608</td>\n",
       "      <td>Spain</td>\n",
       "      <td>Female</td>\n",
       "      <td>41</td>\n",
       "      <td>1</td>\n",
       "      <td>83807.86</td>\n",
       "      <td>1</td>\n",
       "      <td>0</td>\n",
       "      <td>1</td>\n",
       "      <td>112542.58</td>\n",
       "      <td>0</td>\n",
       "    </tr>\n",
       "    <tr>\n",
       "      <th>2</th>\n",
       "      <td>502</td>\n",
       "      <td>France</td>\n",
       "      <td>Female</td>\n",
       "      <td>42</td>\n",
       "      <td>8</td>\n",
       "      <td>159660.80</td>\n",
       "      <td>3</td>\n",
       "      <td>1</td>\n",
       "      <td>0</td>\n",
       "      <td>113931.57</td>\n",
       "      <td>1</td>\n",
       "    </tr>\n",
       "    <tr>\n",
       "      <th>3</th>\n",
       "      <td>699</td>\n",
       "      <td>France</td>\n",
       "      <td>Female</td>\n",
       "      <td>39</td>\n",
       "      <td>1</td>\n",
       "      <td>0.00</td>\n",
       "      <td>2</td>\n",
       "      <td>0</td>\n",
       "      <td>0</td>\n",
       "      <td>93826.63</td>\n",
       "      <td>0</td>\n",
       "    </tr>\n",
       "    <tr>\n",
       "      <th>4</th>\n",
       "      <td>850</td>\n",
       "      <td>Spain</td>\n",
       "      <td>Female</td>\n",
       "      <td>43</td>\n",
       "      <td>2</td>\n",
       "      <td>125510.82</td>\n",
       "      <td>1</td>\n",
       "      <td>1</td>\n",
       "      <td>1</td>\n",
       "      <td>79084.10</td>\n",
       "      <td>0</td>\n",
       "    </tr>\n",
       "  </tbody>\n",
       "</table>\n",
       "</div>\n",
       "      <button class=\"colab-df-convert\" onclick=\"convertToInteractive('df-35ab8b2d-368a-4f0e-aa40-f61e291a4af5')\"\n",
       "              title=\"Convert this dataframe to an interactive table.\"\n",
       "              style=\"display:none;\">\n",
       "        \n",
       "  <svg xmlns=\"http://www.w3.org/2000/svg\" height=\"24px\"viewBox=\"0 0 24 24\"\n",
       "       width=\"24px\">\n",
       "    <path d=\"M0 0h24v24H0V0z\" fill=\"none\"/>\n",
       "    <path d=\"M18.56 5.44l.94 2.06.94-2.06 2.06-.94-2.06-.94-.94-2.06-.94 2.06-2.06.94zm-11 1L8.5 8.5l.94-2.06 2.06-.94-2.06-.94L8.5 2.5l-.94 2.06-2.06.94zm10 10l.94 2.06.94-2.06 2.06-.94-2.06-.94-.94-2.06-.94 2.06-2.06.94z\"/><path d=\"M17.41 7.96l-1.37-1.37c-.4-.4-.92-.59-1.43-.59-.52 0-1.04.2-1.43.59L10.3 9.45l-7.72 7.72c-.78.78-.78 2.05 0 2.83L4 21.41c.39.39.9.59 1.41.59.51 0 1.02-.2 1.41-.59l7.78-7.78 2.81-2.81c.8-.78.8-2.07 0-2.86zM5.41 20L4 18.59l7.72-7.72 1.47 1.35L5.41 20z\"/>\n",
       "  </svg>\n",
       "      </button>\n",
       "      \n",
       "  <style>\n",
       "    .colab-df-container {\n",
       "      display:flex;\n",
       "      flex-wrap:wrap;\n",
       "      gap: 12px;\n",
       "    }\n",
       "\n",
       "    .colab-df-convert {\n",
       "      background-color: #E8F0FE;\n",
       "      border: none;\n",
       "      border-radius: 50%;\n",
       "      cursor: pointer;\n",
       "      display: none;\n",
       "      fill: #1967D2;\n",
       "      height: 32px;\n",
       "      padding: 0 0 0 0;\n",
       "      width: 32px;\n",
       "    }\n",
       "\n",
       "    .colab-df-convert:hover {\n",
       "      background-color: #E2EBFA;\n",
       "      box-shadow: 0px 1px 2px rgba(60, 64, 67, 0.3), 0px 1px 3px 1px rgba(60, 64, 67, 0.15);\n",
       "      fill: #174EA6;\n",
       "    }\n",
       "\n",
       "    [theme=dark] .colab-df-convert {\n",
       "      background-color: #3B4455;\n",
       "      fill: #D2E3FC;\n",
       "    }\n",
       "\n",
       "    [theme=dark] .colab-df-convert:hover {\n",
       "      background-color: #434B5C;\n",
       "      box-shadow: 0px 1px 3px 1px rgba(0, 0, 0, 0.15);\n",
       "      filter: drop-shadow(0px 1px 2px rgba(0, 0, 0, 0.3));\n",
       "      fill: #FFFFFF;\n",
       "    }\n",
       "  </style>\n",
       "\n",
       "      <script>\n",
       "        const buttonEl =\n",
       "          document.querySelector('#df-35ab8b2d-368a-4f0e-aa40-f61e291a4af5 button.colab-df-convert');\n",
       "        buttonEl.style.display =\n",
       "          google.colab.kernel.accessAllowed ? 'block' : 'none';\n",
       "\n",
       "        async function convertToInteractive(key) {\n",
       "          const element = document.querySelector('#df-35ab8b2d-368a-4f0e-aa40-f61e291a4af5');\n",
       "          const dataTable =\n",
       "            await google.colab.kernel.invokeFunction('convertToInteractive',\n",
       "                                                     [key], {});\n",
       "          if (!dataTable) return;\n",
       "\n",
       "          const docLinkHtml = 'Like what you see? Visit the ' +\n",
       "            '<a target=\"_blank\" href=https://colab.research.google.com/notebooks/data_table.ipynb>data table notebook</a>'\n",
       "            + ' to learn more about interactive tables.';\n",
       "          element.innerHTML = '';\n",
       "          dataTable['output_type'] = 'display_data';\n",
       "          await google.colab.output.renderOutput(dataTable, element);\n",
       "          const docLink = document.createElement('div');\n",
       "          docLink.innerHTML = docLinkHtml;\n",
       "          element.appendChild(docLink);\n",
       "        }\n",
       "      </script>\n",
       "    </div>\n",
       "  </div>\n",
       "  "
      ],
      "text/plain": [
       "   CreditScore Geography  Gender  Age  Tenure    Balance  NumOfProducts  \\\n",
       "0          619    France  Female   42       2       0.00              1   \n",
       "1          608     Spain  Female   41       1   83807.86              1   \n",
       "2          502    France  Female   42       8  159660.80              3   \n",
       "3          699    France  Female   39       1       0.00              2   \n",
       "4          850     Spain  Female   43       2  125510.82              1   \n",
       "\n",
       "   HasCrCard  IsActiveMember  EstimatedSalary  Exited  \n",
       "0          1               1        101348.88       1  \n",
       "1          0               1        112542.58       0  \n",
       "2          1               0        113931.57       1  \n",
       "3          0               0         93826.63       0  \n",
       "4          1               1         79084.10       0  "
      ]
     },
     "execution_count": 9,
     "metadata": {},
     "output_type": "execute_result"
    }
   ],
   "source": [
    "#menghapus kolom yang tidak digunakan dalam prediksi\n",
    "df = df.drop(columns = ['RowNumber', 'CustomerId', 'Surname'])\n",
    "df.head()"
   ]
  },
  {
   "cell_type": "markdown",
   "metadata": {
    "id": "ozHt6LUSxKlD"
   },
   "source": [
    "# Exploratory Data Analysis"
   ]
  },
  {
   "cell_type": "markdown",
   "metadata": {
    "id": "DuX-ityDxroi"
   },
   "source": [
    "## Features Vs Target"
   ]
  },
  {
   "cell_type": "markdown",
   "metadata": {
    "id": "HrChlfOpxwID"
   },
   "source": [
    "### Categorical Features"
   ]
  },
  {
   "cell_type": "code",
   "execution_count": 10,
   "metadata": {
    "colab": {
     "base_uri": "https://localhost:8080/",
     "height": 279
    },
    "id": "zF1u5HdWxNyp",
    "outputId": "3f61b046-dce1-4d77-cda2-1d588a99aab3"
   },
   "outputs": [
    {
     "data": {
      "image/png": "[encoded data removed]",
      "text/plain": [
       "<Figure size 432x288 with 1 Axes>"
      ]
     },
     "metadata": {
      "needs_background": "light"
     },
     "output_type": "display_data"
    }
   ],
   "source": [
    "#Geography vs Exited\n",
    "sns.countplot(x = 'Geography', hue = 'Exited', data = df, palette = 'afmhot')\n",
    "plt.show()"
   ]
  },
  {
   "cell_type": "markdown",
   "metadata": {
    "id": "B7znVOA4JKSO"
   },
   "source": [
    "Dari plot di atas, pola churn atau tidaknya seorang nasabah tidak terlalu terlihat. Namun, secara proporsional dapat dilihat bahwa di Jerman untuk perbandingan churn dan non churn cukup terlihat, yaitu churn sekitar 30% nasabah di negara tersebut. Untuk nasabah churn terbanyak ada di negara Prancis. Dan untuk di negara Spanyol nasabah cukup stabil, tingkat churn tidak begitu besar."
   ]
  },
  {
   "cell_type": "code",
   "execution_count": 11,
   "metadata": {
    "colab": {
     "base_uri": "https://localhost:8080/",
     "height": 279
    },
    "id": "uIEShSasxiPV",
    "outputId": "cc4c6ace-165e-4ef6-ef2b-ea6f83642185"
   },
   "outputs": [
    {
     "data": {
      "image/png": "[encoded data removed]",
      "text/plain": [
       "<Figure size 432x288 with 1 Axes>"
      ]
     },
     "metadata": {
      "needs_background": "light"
     },
     "output_type": "display_data"
    }
   ],
   "source": [
    "#Gender vs Exited\n",
    "sns.countplot(x = 'Gender', hue = 'Exited', data = df, palette = 'afmhot')\n",
    "plt.show()"
   ]
  },
  {
   "cell_type": "markdown",
   "metadata": {
    "id": "_zuwod_pKrM6"
   },
   "source": [
    "Plot di atas memberikan informasi bahwa secara proporsional nasabah churn terbanyak adalah wanita."
   ]
  },
  {
   "cell_type": "code",
   "execution_count": 12,
   "metadata": {
    "colab": {
     "base_uri": "https://localhost:8080/",
     "height": 279
    },
    "id": "JXvQjmqrx0l4",
    "outputId": "adbe471a-55d6-4cd5-99ac-c6e806039f79"
   },
   "outputs": [
    {
     "data": {
      "image/png": "[encoded data removed]",
      "text/plain": [
       "<Figure size 432x288 with 1 Axes>"
      ]
     },
     "metadata": {
      "needs_background": "light"
     },
     "output_type": "display_data"
    }
   ],
   "source": [
    "#HasCrCard vs Exited\n",
    "sns.countplot(x = 'HasCrCard', hue = 'Exited', data = df, palette = 'afmhot')\n",
    "plt.show()"
   ]
  },
  {
   "cell_type": "markdown",
   "metadata": {
    "id": "lz4xRQHPLD1e"
   },
   "source": [
    "Dari plot di atas dapat dilihat pola yang jelas bahwa nasabah yang memiliki credit card (kategori 1) justru yang lebih banyak churn."
   ]
  },
  {
   "cell_type": "code",
   "execution_count": 13,
   "metadata": {
    "colab": {
     "base_uri": "https://localhost:8080/",
     "height": 279
    },
    "id": "GE-tF3G2x6PT",
    "outputId": "58bd6804-ca1a-4b95-8d2a-512bb7c6276d"
   },
   "outputs": [
    {
     "data": {
      "image/png": "[encoded data removed]",
      "text/plain": [
       "<Figure size 432x288 with 1 Axes>"
      ]
     },
     "metadata": {
      "needs_background": "light"
     },
     "output_type": "display_data"
    }
   ],
   "source": [
    "#IsActiveMember vs Exited\n",
    "sns.countplot(x = 'IsActiveMember', hue = 'Exited', data = df, palette = 'afmhot')\n",
    "plt.show()"
   ]
  },
  {
   "cell_type": "markdown",
   "metadata": {
    "id": "Or7AfZ6_La0O"
   },
   "source": [
    "Active Member biasanya diidentifikasi dari waktu terakhir seorang nasabah melakukan transaksi, apabila lebih dari 3 bulan tidak bertransaksi maka dianggap tidak aktif (kategori 0). Dari plot di atas terlihat pola yang jelas bahwa nasabah yang churn kebanyakan adalah nasabah yang dianggap tidak aktif. Untuk nasabah aktif namun churn, kemungkinan nasabah tersebut baru saja churn."
   ]
  },
  {
   "cell_type": "markdown",
   "metadata": {
    "id": "vQwpxZM5yNsp"
   },
   "source": [
    "### Numerical Features"
   ]
  },
  {
   "cell_type": "code",
   "execution_count": 14,
   "metadata": {
    "colab": {
     "base_uri": "https://localhost:8080/",
     "height": 206
    },
    "id": "IVrJuR3hyS5f",
    "outputId": "d7bb35cd-19fd-4c7c-c33d-50bd56521a81"
   },
   "outputs": [
    {
     "data": {
      "text/html": [
       "\n",
       "  <div id=\"df-eb489c26-69e9-4b7b-bde8-73724f9254d2\">\n",
       "    <div class=\"colab-df-container\">\n",
       "      <div>\n",
       "<style scoped>\n",
       "    .dataframe tbody tr th:only-of-type {\n",
       "        vertical-align: middle;\n",
       "    }\n",
       "\n",
       "    .dataframe tbody tr th {\n",
       "        vertical-align: top;\n",
       "    }\n",
       "\n",
       "    .dataframe thead th {\n",
       "        text-align: right;\n",
       "    }\n",
       "</style>\n",
       "<table border=\"1\" class=\"dataframe\">\n",
       "  <thead>\n",
       "    <tr style=\"text-align: right;\">\n",
       "      <th></th>\n",
       "      <th>CreditScore</th>\n",
       "      <th>Geography</th>\n",
       "      <th>Gender</th>\n",
       "      <th>Age</th>\n",
       "      <th>Tenure</th>\n",
       "      <th>Balance</th>\n",
       "      <th>NumOfProducts</th>\n",
       "      <th>HasCrCard</th>\n",
       "      <th>IsActiveMember</th>\n",
       "      <th>EstimatedSalary</th>\n",
       "      <th>Exited</th>\n",
       "    </tr>\n",
       "  </thead>\n",
       "  <tbody>\n",
       "    <tr>\n",
       "      <th>0</th>\n",
       "      <td>619</td>\n",
       "      <td>France</td>\n",
       "      <td>Female</td>\n",
       "      <td>42</td>\n",
       "      <td>2</td>\n",
       "      <td>0.00</td>\n",
       "      <td>1</td>\n",
       "      <td>1</td>\n",
       "      <td>1</td>\n",
       "      <td>101348.88</td>\n",
       "      <td>1</td>\n",
       "    </tr>\n",
       "    <tr>\n",
       "      <th>1</th>\n",
       "      <td>608</td>\n",
       "      <td>Spain</td>\n",
       "      <td>Female</td>\n",
       "      <td>41</td>\n",
       "      <td>1</td>\n",
       "      <td>83807.86</td>\n",
       "      <td>1</td>\n",
       "      <td>0</td>\n",
       "      <td>1</td>\n",
       "      <td>112542.58</td>\n",
       "      <td>0</td>\n",
       "    </tr>\n",
       "    <tr>\n",
       "      <th>2</th>\n",
       "      <td>502</td>\n",
       "      <td>France</td>\n",
       "      <td>Female</td>\n",
       "      <td>42</td>\n",
       "      <td>8</td>\n",
       "      <td>159660.80</td>\n",
       "      <td>3</td>\n",
       "      <td>1</td>\n",
       "      <td>0</td>\n",
       "      <td>113931.57</td>\n",
       "      <td>1</td>\n",
       "    </tr>\n",
       "    <tr>\n",
       "      <th>3</th>\n",
       "      <td>699</td>\n",
       "      <td>France</td>\n",
       "      <td>Female</td>\n",
       "      <td>39</td>\n",
       "      <td>1</td>\n",
       "      <td>0.00</td>\n",
       "      <td>2</td>\n",
       "      <td>0</td>\n",
       "      <td>0</td>\n",
       "      <td>93826.63</td>\n",
       "      <td>0</td>\n",
       "    </tr>\n",
       "    <tr>\n",
       "      <th>4</th>\n",
       "      <td>850</td>\n",
       "      <td>Spain</td>\n",
       "      <td>Female</td>\n",
       "      <td>43</td>\n",
       "      <td>2</td>\n",
       "      <td>125510.82</td>\n",
       "      <td>1</td>\n",
       "      <td>1</td>\n",
       "      <td>1</td>\n",
       "      <td>79084.10</td>\n",
       "      <td>0</td>\n",
       "    </tr>\n",
       "  </tbody>\n",
       "</table>\n",
       "</div>\n",
       "      <button class=\"colab-df-convert\" onclick=\"convertToInteractive('df-eb489c26-69e9-4b7b-bde8-73724f9254d2')\"\n",
       "              title=\"Convert this dataframe to an interactive table.\"\n",
       "              style=\"display:none;\">\n",
       "        \n",
       "  <svg xmlns=\"http://www.w3.org/2000/svg\" height=\"24px\"viewBox=\"0 0 24 24\"\n",
       "       width=\"24px\">\n",
       "    <path d=\"M0 0h24v24H0V0z\" fill=\"none\"/>\n",
       "    <path d=\"M18.56 5.44l.94 2.06.94-2.06 2.06-.94-2.06-.94-.94-2.06-.94 2.06-2.06.94zm-11 1L8.5 8.5l.94-2.06 2.06-.94-2.06-.94L8.5 2.5l-.94 2.06-2.06.94zm10 10l.94 2.06.94-2.06 2.06-.94-2.06-.94-.94-2.06-.94 2.06-2.06.94z\"/><path d=\"M17.41 7.96l-1.37-1.37c-.4-.4-.92-.59-1.43-.59-.52 0-1.04.2-1.43.59L10.3 9.45l-7.72 7.72c-.78.78-.78 2.05 0 2.83L4 21.41c.39.39.9.59 1.41.59.51 0 1.02-.2 1.41-.59l7.78-7.78 2.81-2.81c.8-.78.8-2.07 0-2.86zM5.41 20L4 18.59l7.72-7.72 1.47 1.35L5.41 20z\"/>\n",
       "  </svg>\n",
       "      </button>\n",
       "      \n",
       "  <style>\n",
       "    .colab-df-container {\n",
       "      display:flex;\n",
       "      flex-wrap:wrap;\n",
       "      gap: 12px;\n",
       "    }\n",
       "\n",
       "    .colab-df-convert {\n",
       "      background-color: #E8F0FE;\n",
       "      border: none;\n",
       "      border-radius: 50%;\n",
       "      cursor: pointer;\n",
       "      display: none;\n",
       "      fill: #1967D2;\n",
       "      height: 32px;\n",
       "      padding: 0 0 0 0;\n",
       "      width: 32px;\n",
       "    }\n",
       "\n",
       "    .colab-df-convert:hover {\n",
       "      background-color: #E2EBFA;\n",
       "      box-shadow: 0px 1px 2px rgba(60, 64, 67, 0.3), 0px 1px 3px 1px rgba(60, 64, 67, 0.15);\n",
       "      fill: #174EA6;\n",
       "    }\n",
       "\n",
       "    [theme=dark] .colab-df-convert {\n",
       "      background-color: #3B4455;\n",
       "      fill: #D2E3FC;\n",
       "    }\n",
       "\n",
       "    [theme=dark] .colab-df-convert:hover {\n",
       "      background-color: #434B5C;\n",
       "      box-shadow: 0px 1px 3px 1px rgba(0, 0, 0, 0.15);\n",
       "      filter: drop-shadow(0px 1px 2px rgba(0, 0, 0, 0.3));\n",
       "      fill: #FFFFFF;\n",
       "    }\n",
       "  </style>\n",
       "\n",
       "      <script>\n",
       "        const buttonEl =\n",
       "          document.querySelector('#df-eb489c26-69e9-4b7b-bde8-73724f9254d2 button.colab-df-convert');\n",
       "        buttonEl.style.display =\n",
       "          google.colab.kernel.accessAllowed ? 'block' : 'none';\n",
       "\n",
       "        async function convertToInteractive(key) {\n",
       "          const element = document.querySelector('#df-eb489c26-69e9-4b7b-bde8-73724f9254d2');\n",
       "          const dataTable =\n",
       "            await google.colab.kernel.invokeFunction('convertToInteractive',\n",
       "                                                     [key], {});\n",
       "          if (!dataTable) return;\n",
       "\n",
       "          const docLinkHtml = 'Like what you see? Visit the ' +\n",
       "            '<a target=\"_blank\" href=https://colab.research.google.com/notebooks/data_table.ipynb>data table notebook</a>'\n",
       "            + ' to learn more about interactive tables.';\n",
       "          element.innerHTML = '';\n",
       "          dataTable['output_type'] = 'display_data';\n",
       "          await google.colab.output.renderOutput(dataTable, element);\n",
       "          const docLink = document.createElement('div');\n",
       "          docLink.innerHTML = docLinkHtml;\n",
       "          element.appendChild(docLink);\n",
       "        }\n",
       "      </script>\n",
       "    </div>\n",
       "  </div>\n",
       "  "
      ],
      "text/plain": [
       "   CreditScore Geography  Gender  Age  Tenure    Balance  NumOfProducts  \\\n",
       "0          619    France  Female   42       2       0.00              1   \n",
       "1          608     Spain  Female   41       1   83807.86              1   \n",
       "2          502    France  Female   42       8  159660.80              3   \n",
       "3          699    France  Female   39       1       0.00              2   \n",
       "4          850     Spain  Female   43       2  125510.82              1   \n",
       "\n",
       "   HasCrCard  IsActiveMember  EstimatedSalary  Exited  \n",
       "0          1               1        101348.88       1  \n",
       "1          0               1        112542.58       0  \n",
       "2          1               0        113931.57       1  \n",
       "3          0               0         93826.63       0  \n",
       "4          1               1         79084.10       0  "
      ]
     },
     "execution_count": 14,
     "metadata": {},
     "output_type": "execute_result"
    }
   ],
   "source": [
    "df.head()"
   ]
  },
  {
   "cell_type": "code",
   "execution_count": 15,
   "metadata": {
    "colab": {
     "base_uri": "https://localhost:8080/",
     "height": 279
    },
    "id": "92s3PdrAyV7K",
    "outputId": "a7af5d54-e41a-4240-bdb0-224dad2815f1"
   },
   "outputs": [
    {
     "data": {
      "image/png": "[encoded data removed]",
      "text/plain": [
       "<Figure size 432x288 with 1 Axes>"
      ]
     },
     "metadata": {
      "needs_background": "light"
     },
     "output_type": "display_data"
    }
   ],
   "source": [
    "#CreditScore vs Rxited\n",
    "sns.boxplot(y = 'CreditScore', x = 'Exited', hue = 'Exited', data = df, palette = 'afmhot')\n",
    "plt.show()"
   ]
  },
  {
   "cell_type": "markdown",
   "metadata": {
    "id": "yvz3FDBqNMZq"
   },
   "source": [
    "Boxplot di atas menunjukkan bahwa antara nasabah yang churn atau tidak berdasarkan credit score memiliki distribusi yang kurang lebih sama, sehingga polanya kurang unik. Namun, boxplot di atas memberikan informasi bahwa beberapa nasabah yang churn memiliki credit score yang kecil (< 400), yang berarti nasabah tersebut memang memiliki intensitas aktifitas yang jarang dengan layanan bank."
   ]
  },
  {
   "cell_type": "code",
   "execution_count": 16,
   "metadata": {
    "colab": {
     "base_uri": "https://localhost:8080/",
     "height": 279
    },
    "id": "Kad6pC7wy_Zc",
    "outputId": "9e650e7a-ac8a-4ac4-8d4f-d9294037eeff"
   },
   "outputs": [
    {
     "data": {
      "image/png": "[encoded data removed]",
      "text/plain": [
       "<Figure size 432x288 with 1 Axes>"
      ]
     },
     "metadata": {
      "needs_background": "light"
     },
     "output_type": "display_data"
    }
   ],
   "source": [
    "#Age vs Exited\n",
    "sns.boxplot(y = 'Age', x = 'Exited', hue = 'Exited', data = df, palette = 'afmhot')\n",
    "plt.show()"
   ]
  },
  {
   "cell_type": "markdown",
   "metadata": {
    "id": "O_EMDW1SOoT2"
   },
   "source": [
    "Dari boxplot di atas dapat dilihat bahwa nasabah yang berusia 40-50 tahun lebih banyak yang churn, sedangkan yang tidak churn berada di kisaran umur 30-40 tahun. "
   ]
  },
  {
   "cell_type": "code",
   "execution_count": 17,
   "metadata": {
    "colab": {
     "base_uri": "https://localhost:8080/",
     "height": 279
    },
    "id": "1IdaTXM8zQTs",
    "outputId": "4f9a5f5c-ef95-449d-9d4b-b375e1057790"
   },
   "outputs": [
    {
     "data": {
      "image/png": "[encoded data removed]",
      "text/plain": [
       "<Figure size 432x288 with 1 Axes>"
      ]
     },
     "metadata": {
      "needs_background": "light"
     },
     "output_type": "display_data"
    }
   ],
   "source": [
    "#Tenure vs Exited\n",
    "sns.boxplot(y = 'Tenure', x = 'Exited', hue = 'Exited', data = df, palette = 'afmhot')\n",
    "plt.show()"
   ]
  },
  {
   "cell_type": "markdown",
   "metadata": {
    "id": "NyBo9YaVPZ_I"
   },
   "source": [
    "Boxplot di atas menunjukkan bahwa dari keterkaitan fitur Tenure dan Exited kurang memiliki pola yang menarik."
   ]
  },
  {
   "cell_type": "code",
   "execution_count": 18,
   "metadata": {
    "colab": {
     "base_uri": "https://localhost:8080/",
     "height": 279
    },
    "id": "hovkR4p7zXcl",
    "outputId": "fe6f9048-2d58-49d2-8aee-71956058f4c1"
   },
   "outputs": [
    {
     "data": {
      "image/png": "[encoded data removed]",
      "text/plain": [
       "<Figure size 432x288 with 1 Axes>"
      ]
     },
     "metadata": {
      "needs_background": "light"
     },
     "output_type": "display_data"
    }
   ],
   "source": [
    "#Balance vs Exited\n",
    "sns.boxplot(y = 'Balance', x = 'Exited', hue = 'Exited', data = df, palette = 'afmhot')\n",
    "plt.show()"
   ]
  },
  {
   "cell_type": "markdown",
   "metadata": {
    "id": "k4uw1ksLP8-E"
   },
   "source": [
    "Dari boxplot di atas menunjukkan bahwa nasabah dengan balance > 50000 cenderung churn. Kemungkinan, nasabah tersebut churn karena merasa sudah tidak lagi membutuhkan layanan dari bank."
   ]
  },
  {
   "cell_type": "code",
   "execution_count": 19,
   "metadata": {
    "colab": {
     "base_uri": "https://localhost:8080/",
     "height": 279
    },
    "id": "MVS_Ail6ziXb",
    "outputId": "08992cae-ecbf-484f-e1da-c4dde1a90eb9"
   },
   "outputs": [
    {
     "data": {
      "image/png": "[encoded data removed]",
      "text/plain": [
       "<Figure size 432x288 with 1 Axes>"
      ]
     },
     "metadata": {
      "needs_background": "light"
     },
     "output_type": "display_data"
    }
   ],
   "source": [
    "#NumOfProducts vs Exited\n",
    "sns.boxplot(y = 'NumOfProducts', x = 'Exited', hue = 'Exited', data = df, palette = 'afmhot')\n",
    "plt.show()"
   ]
  },
  {
   "cell_type": "markdown",
   "metadata": {
    "id": "mfk7Zs4RQ-d0"
   },
   "source": [
    "Boxplot di atas memperlihatkan pola yang kurang menarik untuk keterkaitan fitur Number of Products dengan Exited. Namun, dapat dilihat pula terdapat beberapa nasabah yang memiliki 4 produk/layanan yang justru churn."
   ]
  },
  {
   "cell_type": "code",
   "execution_count": 20,
   "metadata": {
    "colab": {
     "base_uri": "https://localhost:8080/",
     "height": 279
    },
    "id": "oQMzcifHzmrA",
    "outputId": "73da7fff-c616-40a7-c19b-b8ba7f55688a"
   },
   "outputs": [
    {
     "data": {
      "image/png": "[encoded data removed]",
      "text/plain": [
       "<Figure size 432x288 with 1 Axes>"
      ]
     },
     "metadata": {
      "needs_background": "light"
     },
     "output_type": "display_data"
    }
   ],
   "source": [
    "#EstimatedSalary vs Exited\n",
    "sns.boxplot(y = 'EstimatedSalary', x = 'Exited', hue = 'Exited', data = df, palette = 'afmhot')\n",
    "plt.show()"
   ]
  },
  {
   "cell_type": "markdown",
   "metadata": {
    "id": "XnzRi1dpRl2y"
   },
   "source": [
    "Boxplot di atas juga tidak menunjukkan pola yang menarik untuk keterkaitan fitur Estimated Salary dengan Exited. Hal ini dikarenakan distribusi antara nasabah yang churn dan yang tidak churn memiliki pola distribusi yang hampir sama."
   ]
  },
  {
   "cell_type": "markdown",
   "metadata": {
    "id": "KIt50W6XzvdN"
   },
   "source": [
    "## Cek Korelasi"
   ]
  },
  {
   "cell_type": "code",
   "execution_count": 21,
   "metadata": {
    "colab": {
     "base_uri": "https://localhost:8080/",
     "height": 332
    },
    "id": "PS3AJWXIzxQb",
    "outputId": "a588077d-815e-4f0d-acfd-3b96f4c507c6"
   },
   "outputs": [
    {
     "data": {
      "text/html": [
       "\n",
       "  <div id=\"df-813d8f6b-aa16-4603-8dc2-09a67f4fe167\">\n",
       "    <div class=\"colab-df-container\">\n",
       "      <div>\n",
       "<style scoped>\n",
       "    .dataframe tbody tr th:only-of-type {\n",
       "        vertical-align: middle;\n",
       "    }\n",
       "\n",
       "    .dataframe tbody tr th {\n",
       "        vertical-align: top;\n",
       "    }\n",
       "\n",
       "    .dataframe thead th {\n",
       "        text-align: right;\n",
       "    }\n",
       "</style>\n",
       "<table border=\"1\" class=\"dataframe\">\n",
       "  <thead>\n",
       "    <tr style=\"text-align: right;\">\n",
       "      <th></th>\n",
       "      <th>CreditScore</th>\n",
       "      <th>Age</th>\n",
       "      <th>Tenure</th>\n",
       "      <th>Balance</th>\n",
       "      <th>NumOfProducts</th>\n",
       "      <th>HasCrCard</th>\n",
       "      <th>IsActiveMember</th>\n",
       "      <th>EstimatedSalary</th>\n",
       "      <th>Exited</th>\n",
       "    </tr>\n",
       "  </thead>\n",
       "  <tbody>\n",
       "    <tr>\n",
       "      <th>CreditScore</th>\n",
       "      <td>1.000000</td>\n",
       "      <td>-0.003965</td>\n",
       "      <td>0.000842</td>\n",
       "      <td>0.006268</td>\n",
       "      <td>0.012238</td>\n",
       "      <td>-0.005458</td>\n",
       "      <td>0.025651</td>\n",
       "      <td>-0.001384</td>\n",
       "      <td>-0.027094</td>\n",
       "    </tr>\n",
       "    <tr>\n",
       "      <th>Age</th>\n",
       "      <td>-0.003965</td>\n",
       "      <td>1.000000</td>\n",
       "      <td>-0.009997</td>\n",
       "      <td>0.028308</td>\n",
       "      <td>-0.030680</td>\n",
       "      <td>-0.011721</td>\n",
       "      <td>0.085472</td>\n",
       "      <td>-0.007201</td>\n",
       "      <td>0.285323</td>\n",
       "    </tr>\n",
       "    <tr>\n",
       "      <th>Tenure</th>\n",
       "      <td>0.000842</td>\n",
       "      <td>-0.009997</td>\n",
       "      <td>1.000000</td>\n",
       "      <td>-0.012254</td>\n",
       "      <td>0.013444</td>\n",
       "      <td>0.022583</td>\n",
       "      <td>-0.028362</td>\n",
       "      <td>0.007784</td>\n",
       "      <td>-0.014001</td>\n",
       "    </tr>\n",
       "    <tr>\n",
       "      <th>Balance</th>\n",
       "      <td>0.006268</td>\n",
       "      <td>0.028308</td>\n",
       "      <td>-0.012254</td>\n",
       "      <td>1.000000</td>\n",
       "      <td>-0.304180</td>\n",
       "      <td>-0.014858</td>\n",
       "      <td>-0.010084</td>\n",
       "      <td>0.012797</td>\n",
       "      <td>0.118533</td>\n",
       "    </tr>\n",
       "    <tr>\n",
       "      <th>NumOfProducts</th>\n",
       "      <td>0.012238</td>\n",
       "      <td>-0.030680</td>\n",
       "      <td>0.013444</td>\n",
       "      <td>-0.304180</td>\n",
       "      <td>1.000000</td>\n",
       "      <td>0.003183</td>\n",
       "      <td>0.009612</td>\n",
       "      <td>0.014204</td>\n",
       "      <td>-0.047820</td>\n",
       "    </tr>\n",
       "    <tr>\n",
       "      <th>HasCrCard</th>\n",
       "      <td>-0.005458</td>\n",
       "      <td>-0.011721</td>\n",
       "      <td>0.022583</td>\n",
       "      <td>-0.014858</td>\n",
       "      <td>0.003183</td>\n",
       "      <td>1.000000</td>\n",
       "      <td>-0.011866</td>\n",
       "      <td>-0.009933</td>\n",
       "      <td>-0.007138</td>\n",
       "    </tr>\n",
       "    <tr>\n",
       "      <th>IsActiveMember</th>\n",
       "      <td>0.025651</td>\n",
       "      <td>0.085472</td>\n",
       "      <td>-0.028362</td>\n",
       "      <td>-0.010084</td>\n",
       "      <td>0.009612</td>\n",
       "      <td>-0.011866</td>\n",
       "      <td>1.000000</td>\n",
       "      <td>-0.011421</td>\n",
       "      <td>-0.156128</td>\n",
       "    </tr>\n",
       "    <tr>\n",
       "      <th>EstimatedSalary</th>\n",
       "      <td>-0.001384</td>\n",
       "      <td>-0.007201</td>\n",
       "      <td>0.007784</td>\n",
       "      <td>0.012797</td>\n",
       "      <td>0.014204</td>\n",
       "      <td>-0.009933</td>\n",
       "      <td>-0.011421</td>\n",
       "      <td>1.000000</td>\n",
       "      <td>0.012097</td>\n",
       "    </tr>\n",
       "    <tr>\n",
       "      <th>Exited</th>\n",
       "      <td>-0.027094</td>\n",
       "      <td>0.285323</td>\n",
       "      <td>-0.014001</td>\n",
       "      <td>0.118533</td>\n",
       "      <td>-0.047820</td>\n",
       "      <td>-0.007138</td>\n",
       "      <td>-0.156128</td>\n",
       "      <td>0.012097</td>\n",
       "      <td>1.000000</td>\n",
       "    </tr>\n",
       "  </tbody>\n",
       "</table>\n",
       "</div>\n",
       "      <button class=\"colab-df-convert\" onclick=\"convertToInteractive('df-813d8f6b-aa16-4603-8dc2-09a67f4fe167')\"\n",
       "              title=\"Convert this dataframe to an interactive table.\"\n",
       "              style=\"display:none;\">\n",
       "        \n",
       "  <svg xmlns=\"http://www.w3.org/2000/svg\" height=\"24px\"viewBox=\"0 0 24 24\"\n",
       "       width=\"24px\">\n",
       "    <path d=\"M0 0h24v24H0V0z\" fill=\"none\"/>\n",
       "    <path d=\"M18.56 5.44l.94 2.06.94-2.06 2.06-.94-2.06-.94-.94-2.06-.94 2.06-2.06.94zm-11 1L8.5 8.5l.94-2.06 2.06-.94-2.06-.94L8.5 2.5l-.94 2.06-2.06.94zm10 10l.94 2.06.94-2.06 2.06-.94-2.06-.94-.94-2.06-.94 2.06-2.06.94z\"/><path d=\"M17.41 7.96l-1.37-1.37c-.4-.4-.92-.59-1.43-.59-.52 0-1.04.2-1.43.59L10.3 9.45l-7.72 7.72c-.78.78-.78 2.05 0 2.83L4 21.41c.39.39.9.59 1.41.59.51 0 1.02-.2 1.41-.59l7.78-7.78 2.81-2.81c.8-.78.8-2.07 0-2.86zM5.41 20L4 18.59l7.72-7.72 1.47 1.35L5.41 20z\"/>\n",
       "  </svg>\n",
       "      </button>\n",
       "      \n",
       "  <style>\n",
       "    .colab-df-container {\n",
       "      display:flex;\n",
       "      flex-wrap:wrap;\n",
       "      gap: 12px;\n",
       "    }\n",
       "\n",
       "    .colab-df-convert {\n",
       "      background-color: #E8F0FE;\n",
       "      border: none;\n",
       "      border-radius: 50%;\n",
       "      cursor: pointer;\n",
       "      display: none;\n",
       "      fill: #1967D2;\n",
       "      height: 32px;\n",
       "      padding: 0 0 0 0;\n",
       "      width: 32px;\n",
       "    }\n",
       "\n",
       "    .colab-df-convert:hover {\n",
       "      background-color: #E2EBFA;\n",
       "      box-shadow: 0px 1px 2px rgba(60, 64, 67, 0.3), 0px 1px 3px 1px rgba(60, 64, 67, 0.15);\n",
       "      fill: #174EA6;\n",
       "    }\n",
       "\n",
       "    [theme=dark] .colab-df-convert {\n",
       "      background-color: #3B4455;\n",
       "      fill: #D2E3FC;\n",
       "    }\n",
       "\n",
       "    [theme=dark] .colab-df-convert:hover {\n",
       "      background-color: #434B5C;\n",
       "      box-shadow: 0px 1px 3px 1px rgba(0, 0, 0, 0.15);\n",
       "      filter: drop-shadow(0px 1px 2px rgba(0, 0, 0, 0.3));\n",
       "      fill: #FFFFFF;\n",
       "    }\n",
       "  </style>\n",
       "\n",
       "      <script>\n",
       "        const buttonEl =\n",
       "          document.querySelector('#df-813d8f6b-aa16-4603-8dc2-09a67f4fe167 button.colab-df-convert');\n",
       "        buttonEl.style.display =\n",
       "          google.colab.kernel.accessAllowed ? 'block' : 'none';\n",
       "\n",
       "        async function convertToInteractive(key) {\n",
       "          const element = document.querySelector('#df-813d8f6b-aa16-4603-8dc2-09a67f4fe167');\n",
       "          const dataTable =\n",
       "            await google.colab.kernel.invokeFunction('convertToInteractive',\n",
       "                                                     [key], {});\n",
       "          if (!dataTable) return;\n",
       "\n",
       "          const docLinkHtml = 'Like what you see? Visit the ' +\n",
       "            '<a target=\"_blank\" href=https://colab.research.google.com/notebooks/data_table.ipynb>data table notebook</a>'\n",
       "            + ' to learn more about interactive tables.';\n",
       "          element.innerHTML = '';\n",
       "          dataTable['output_type'] = 'display_data';\n",
       "          await google.colab.output.renderOutput(dataTable, element);\n",
       "          const docLink = document.createElement('div');\n",
       "          docLink.innerHTML = docLinkHtml;\n",
       "          element.appendChild(docLink);\n",
       "        }\n",
       "      </script>\n",
       "    </div>\n",
       "  </div>\n",
       "  "
      ],
      "text/plain": [
       "                 CreditScore       Age    Tenure   Balance  NumOfProducts  \\\n",
       "CreditScore         1.000000 -0.003965  0.000842  0.006268       0.012238   \n",
       "Age                -0.003965  1.000000 -0.009997  0.028308      -0.030680   \n",
       "Tenure              0.000842 -0.009997  1.000000 -0.012254       0.013444   \n",
       "Balance             0.006268  0.028308 -0.012254  1.000000      -0.304180   \n",
       "NumOfProducts       0.012238 -0.030680  0.013444 -0.304180       1.000000   \n",
       "HasCrCard          -0.005458 -0.011721  0.022583 -0.014858       0.003183   \n",
       "IsActiveMember      0.025651  0.085472 -0.028362 -0.010084       0.009612   \n",
       "EstimatedSalary    -0.001384 -0.007201  0.007784  0.012797       0.014204   \n",
       "Exited             -0.027094  0.285323 -0.014001  0.118533      -0.047820   \n",
       "\n",
       "                 HasCrCard  IsActiveMember  EstimatedSalary    Exited  \n",
       "CreditScore      -0.005458        0.025651        -0.001384 -0.027094  \n",
       "Age              -0.011721        0.085472        -0.007201  0.285323  \n",
       "Tenure            0.022583       -0.028362         0.007784 -0.014001  \n",
       "Balance          -0.014858       -0.010084         0.012797  0.118533  \n",
       "NumOfProducts     0.003183        0.009612         0.014204 -0.047820  \n",
       "HasCrCard         1.000000       -0.011866        -0.009933 -0.007138  \n",
       "IsActiveMember   -0.011866        1.000000        -0.011421 -0.156128  \n",
       "EstimatedSalary  -0.009933       -0.011421         1.000000  0.012097  \n",
       "Exited           -0.007138       -0.156128         0.012097  1.000000  "
      ]
     },
     "execution_count": 21,
     "metadata": {},
     "output_type": "execute_result"
    }
   ],
   "source": [
    "#korelasi Pearson antar fitur\n",
    "corr = df.corr()\n",
    "corr"
   ]
  },
  {
   "cell_type": "code",
   "execution_count": 22,
   "metadata": {
    "colab": {
     "base_uri": "https://localhost:8080/",
     "height": 667
    },
    "id": "v6Fp7e3rz5SV",
    "outputId": "e03b797d-03f2-47c7-e64c-fc16b2186553"
   },
   "outputs": [
    {
     "data": {
      "image/png": "[encoded data removed]",
      "text/plain": [
       "<Figure size 1080x720 with 2 Axes>"
      ]
     },
     "metadata": {
      "needs_background": "light"
     },
     "output_type": "display_data"
    }
   ],
   "source": [
    "#cek korelasi menggunakan heatmap agar lebih mudah dibaca\n",
    "plt.figure(figsize = (15,10))\n",
    "sns.heatmap(corr, annot = True, cmap = 'icefire')\n",
    "plt.show()"
   ]
  },
  {
   "cell_type": "markdown",
   "metadata": {
    "id": "KLDc1vg5SgLe"
   },
   "source": [
    "Dari peta korelasi di atas dapat dilihat beberapa fitur yang memiliki korelasi cukup tinggi dengan fitur target yaitu Exited (churn atau tidaknya seorang nasabah). Fitur yang memiliki korelasi terbesar dengan target adalah **Age** yaitu sebesar **0.29**, kemudian fitur **Balance** sebesar **0.12** dan fitur **IsActiveMember** (aktif atau tidaknya seorang nasabah) yaitu sebesar **-0.16**.\n",
    "\n",
    "Age dan Balance memiliki nilai korelasi positif terhadap fitur target Exited, yang berarti semakin tinggi umur nasabah dan semakin besar nominal Balance maka akan semakin besar kemungkinan untuk melakukan churn.\n",
    "\n",
    "Sedangkan, untuk fitur IsActiveMember memiliki nilai korelasi negatif terhadap fitur target Exited yang berarti apabila nilai IsActiveMember semakin kecil atau mendekati nol (mengindikasikan bahwa bukan nasabah aktif) maka justru kemungkinan untuk melakukan churn akan lebih tinggi."
   ]
  },
  {
   "cell_type": "markdown",
   "metadata": {
    "id": "VHasWVix0d2h"
   },
   "source": [
    "## Target Distribution"
   ]
  },
  {
   "cell_type": "code",
   "execution_count": 23,
   "metadata": {
    "colab": {
     "base_uri": "https://localhost:8080/",
     "height": 279
    },
    "id": "j5TePipH0kv3",
    "outputId": "eddafe45-aac2-49e6-92d1-98b25182722e"
   },
   "outputs": [
    {
     "data": {
      "image/png": "[encoded data removed]",
      "text/plain": [
       "<Figure size 432x288 with 1 Axes>"
      ]
     },
     "metadata": {
      "needs_background": "light"
     },
     "output_type": "display_data"
    }
   ],
   "source": [
    "#cek distribusi dari fitur target Exited\n",
    "sns.countplot(x='Exited', data=df, palette = 'afmhot')\n",
    "plt.show()"
   ]
  },
  {
   "cell_type": "code",
   "execution_count": 24,
   "metadata": {
    "colab": {
     "base_uri": "https://localhost:8080/"
    },
    "id": "EC5iNkcE1mIa",
    "outputId": "3f0e9095-854b-4615-c51a-d6d10bd8201b"
   },
   "outputs": [
    {
     "data": {
      "text/plain": [
       "0    79.63\n",
       "1    20.37\n",
       "Name: Exited, dtype: float64"
      ]
     },
     "execution_count": 24,
     "metadata": {},
     "output_type": "execute_result"
    }
   ],
   "source": [
    "#menghitung persentase jumlah nasabah yang churn dan tidak churn\n",
    "df['Exited'].value_counts()*100/len(df)"
   ]
  },
  {
   "cell_type": "markdown",
   "metadata": {
    "id": "iideuB05VgSv"
   },
   "source": [
    "Secara proporsional data terlihat imbalance. Namun, dengan persentase sebesar 20% masih dapat dikatakan aman tanpa melakukan resampling. Untuk selanjutnya akan melakukan modeling tanpa resampling terlebih dahulu. Hal ini dikarenakan resampling dilakukan apabila performa model buruk jika tidak melakukakan resampling terhadap imbalance data."
   ]
  },
  {
   "cell_type": "markdown",
   "metadata": {
    "id": "g4XJkNIz12_6"
   },
   "source": [
    "# Feature Engineering"
   ]
  },
  {
   "cell_type": "code",
   "execution_count": 25,
   "metadata": {
    "id": "lld5dELd153F"
   },
   "outputs": [],
   "source": [
    "#lakuakan copy dataset agar dataset awal bisa langsung dibaca/dipanggil tanpa membaca dari awal\n",
    "dff = df.copy()"
   ]
  },
  {
   "cell_type": "code",
   "execution_count": 26,
   "metadata": {
    "colab": {
     "base_uri": "https://localhost:8080/",
     "height": 206
    },
    "id": "UfzIp80O2dVW",
    "outputId": "d5910c4f-2236-44a2-f93c-491e1b594d10"
   },
   "outputs": [
    {
     "data": {
      "text/html": [
       "\n",
       "  <div id=\"df-8398a7d0-83c6-43a3-8a93-d41fa9288f14\">\n",
       "    <div class=\"colab-df-container\">\n",
       "      <div>\n",
       "<style scoped>\n",
       "    .dataframe tbody tr th:only-of-type {\n",
       "        vertical-align: middle;\n",
       "    }\n",
       "\n",
       "    .dataframe tbody tr th {\n",
       "        vertical-align: top;\n",
       "    }\n",
       "\n",
       "    .dataframe thead th {\n",
       "        text-align: right;\n",
       "    }\n",
       "</style>\n",
       "<table border=\"1\" class=\"dataframe\">\n",
       "  <thead>\n",
       "    <tr style=\"text-align: right;\">\n",
       "      <th></th>\n",
       "      <th>CreditScore</th>\n",
       "      <th>Geography</th>\n",
       "      <th>Gender</th>\n",
       "      <th>Age</th>\n",
       "      <th>Tenure</th>\n",
       "      <th>Balance</th>\n",
       "      <th>NumOfProducts</th>\n",
       "      <th>HasCrCard</th>\n",
       "      <th>IsActiveMember</th>\n",
       "      <th>EstimatedSalary</th>\n",
       "      <th>Exited</th>\n",
       "    </tr>\n",
       "  </thead>\n",
       "  <tbody>\n",
       "    <tr>\n",
       "      <th>0</th>\n",
       "      <td>619</td>\n",
       "      <td>France</td>\n",
       "      <td>Female</td>\n",
       "      <td>42</td>\n",
       "      <td>2</td>\n",
       "      <td>0.00</td>\n",
       "      <td>1</td>\n",
       "      <td>1</td>\n",
       "      <td>1</td>\n",
       "      <td>101348.88</td>\n",
       "      <td>1</td>\n",
       "    </tr>\n",
       "    <tr>\n",
       "      <th>1</th>\n",
       "      <td>608</td>\n",
       "      <td>Spain</td>\n",
       "      <td>Female</td>\n",
       "      <td>41</td>\n",
       "      <td>1</td>\n",
       "      <td>83807.86</td>\n",
       "      <td>1</td>\n",
       "      <td>0</td>\n",
       "      <td>1</td>\n",
       "      <td>112542.58</td>\n",
       "      <td>0</td>\n",
       "    </tr>\n",
       "    <tr>\n",
       "      <th>2</th>\n",
       "      <td>502</td>\n",
       "      <td>France</td>\n",
       "      <td>Female</td>\n",
       "      <td>42</td>\n",
       "      <td>8</td>\n",
       "      <td>159660.80</td>\n",
       "      <td>3</td>\n",
       "      <td>1</td>\n",
       "      <td>0</td>\n",
       "      <td>113931.57</td>\n",
       "      <td>1</td>\n",
       "    </tr>\n",
       "    <tr>\n",
       "      <th>3</th>\n",
       "      <td>699</td>\n",
       "      <td>France</td>\n",
       "      <td>Female</td>\n",
       "      <td>39</td>\n",
       "      <td>1</td>\n",
       "      <td>0.00</td>\n",
       "      <td>2</td>\n",
       "      <td>0</td>\n",
       "      <td>0</td>\n",
       "      <td>93826.63</td>\n",
       "      <td>0</td>\n",
       "    </tr>\n",
       "    <tr>\n",
       "      <th>4</th>\n",
       "      <td>850</td>\n",
       "      <td>Spain</td>\n",
       "      <td>Female</td>\n",
       "      <td>43</td>\n",
       "      <td>2</td>\n",
       "      <td>125510.82</td>\n",
       "      <td>1</td>\n",
       "      <td>1</td>\n",
       "      <td>1</td>\n",
       "      <td>79084.10</td>\n",
       "      <td>0</td>\n",
       "    </tr>\n",
       "  </tbody>\n",
       "</table>\n",
       "</div>\n",
       "      <button class=\"colab-df-convert\" onclick=\"convertToInteractive('df-8398a7d0-83c6-43a3-8a93-d41fa9288f14')\"\n",
       "              title=\"Convert this dataframe to an interactive table.\"\n",
       "              style=\"display:none;\">\n",
       "        \n",
       "  <svg xmlns=\"http://www.w3.org/2000/svg\" height=\"24px\"viewBox=\"0 0 24 24\"\n",
       "       width=\"24px\">\n",
       "    <path d=\"M0 0h24v24H0V0z\" fill=\"none\"/>\n",
       "    <path d=\"M18.56 5.44l.94 2.06.94-2.06 2.06-.94-2.06-.94-.94-2.06-.94 2.06-2.06.94zm-11 1L8.5 8.5l.94-2.06 2.06-.94-2.06-.94L8.5 2.5l-.94 2.06-2.06.94zm10 10l.94 2.06.94-2.06 2.06-.94-2.06-.94-.94-2.06-.94 2.06-2.06.94z\"/><path d=\"M17.41 7.96l-1.37-1.37c-.4-.4-.92-.59-1.43-.59-.52 0-1.04.2-1.43.59L10.3 9.45l-7.72 7.72c-.78.78-.78 2.05 0 2.83L4 21.41c.39.39.9.59 1.41.59.51 0 1.02-.2 1.41-.59l7.78-7.78 2.81-2.81c.8-.78.8-2.07 0-2.86zM5.41 20L4 18.59l7.72-7.72 1.47 1.35L5.41 20z\"/>\n",
       "  </svg>\n",
       "      </button>\n",
       "      \n",
       "  <style>\n",
       "    .colab-df-container {\n",
       "      display:flex;\n",
       "      flex-wrap:wrap;\n",
       "      gap: 12px;\n",
       "    }\n",
       "\n",
       "    .colab-df-convert {\n",
       "      background-color: #E8F0FE;\n",
       "      border: none;\n",
       "      border-radius: 50%;\n",
       "      cursor: pointer;\n",
       "      display: none;\n",
       "      fill: #1967D2;\n",
       "      height: 32px;\n",
       "      padding: 0 0 0 0;\n",
       "      width: 32px;\n",
       "    }\n",
       "\n",
       "    .colab-df-convert:hover {\n",
       "      background-color: #E2EBFA;\n",
       "      box-shadow: 0px 1px 2px rgba(60, 64, 67, 0.3), 0px 1px 3px 1px rgba(60, 64, 67, 0.15);\n",
       "      fill: #174EA6;\n",
       "    }\n",
       "\n",
       "    [theme=dark] .colab-df-convert {\n",
       "      background-color: #3B4455;\n",
       "      fill: #D2E3FC;\n",
       "    }\n",
       "\n",
       "    [theme=dark] .colab-df-convert:hover {\n",
       "      background-color: #434B5C;\n",
       "      box-shadow: 0px 1px 3px 1px rgba(0, 0, 0, 0.15);\n",
       "      filter: drop-shadow(0px 1px 2px rgba(0, 0, 0, 0.3));\n",
       "      fill: #FFFFFF;\n",
       "    }\n",
       "  </style>\n",
       "\n",
       "      <script>\n",
       "        const buttonEl =\n",
       "          document.querySelector('#df-8398a7d0-83c6-43a3-8a93-d41fa9288f14 button.colab-df-convert');\n",
       "        buttonEl.style.display =\n",
       "          google.colab.kernel.accessAllowed ? 'block' : 'none';\n",
       "\n",
       "        async function convertToInteractive(key) {\n",
       "          const element = document.querySelector('#df-8398a7d0-83c6-43a3-8a93-d41fa9288f14');\n",
       "          const dataTable =\n",
       "            await google.colab.kernel.invokeFunction('convertToInteractive',\n",
       "                                                     [key], {});\n",
       "          if (!dataTable) return;\n",
       "\n",
       "          const docLinkHtml = 'Like what you see? Visit the ' +\n",
       "            '<a target=\"_blank\" href=https://colab.research.google.com/notebooks/data_table.ipynb>data table notebook</a>'\n",
       "            + ' to learn more about interactive tables.';\n",
       "          element.innerHTML = '';\n",
       "          dataTable['output_type'] = 'display_data';\n",
       "          await google.colab.output.renderOutput(dataTable, element);\n",
       "          const docLink = document.createElement('div');\n",
       "          docLink.innerHTML = docLinkHtml;\n",
       "          element.appendChild(docLink);\n",
       "        }\n",
       "      </script>\n",
       "    </div>\n",
       "  </div>\n",
       "  "
      ],
      "text/plain": [
       "   CreditScore Geography  Gender  Age  Tenure    Balance  NumOfProducts  \\\n",
       "0          619    France  Female   42       2       0.00              1   \n",
       "1          608     Spain  Female   41       1   83807.86              1   \n",
       "2          502    France  Female   42       8  159660.80              3   \n",
       "3          699    France  Female   39       1       0.00              2   \n",
       "4          850     Spain  Female   43       2  125510.82              1   \n",
       "\n",
       "   HasCrCard  IsActiveMember  EstimatedSalary  Exited  \n",
       "0          1               1        101348.88       1  \n",
       "1          0               1        112542.58       0  \n",
       "2          1               0        113931.57       1  \n",
       "3          0               0         93826.63       0  \n",
       "4          1               1         79084.10       0  "
      ]
     },
     "execution_count": 26,
     "metadata": {},
     "output_type": "execute_result"
    }
   ],
   "source": [
    "dff.head()"
   ]
  },
  {
   "cell_type": "markdown",
   "metadata": {
    "id": "TDST_g4MyD5i"
   },
   "source": [
    "## New Feature"
   ]
  },
  {
   "cell_type": "code",
   "execution_count": 27,
   "metadata": {
    "id": "TN_pCB0q2qZw"
   },
   "outputs": [],
   "source": [
    "#hubungan antara credit score dan age\n",
    "#misal, apabila credit score dibagi umur menghasilkan nilai yang tinggi\n",
    "#maka dapat dikatakan bahwa nasabah tersebut muda dan aktif berinteraksi dengan layanan bank\n",
    "dff['CreditScoreGivenAge'] = dff['CreditScore'] / dff['Age']\n",
    "\n",
    "#hubungan antara tenure dengan age\n",
    "#seberapa setia/loyal seorang nasabah jika distandarisasi dengan tahun\n",
    "#karena tenure adalah jangka waktu nasabah menggunakan layanan\n",
    "dff['TenureByAge'] = dff['Tenure'] / dff['Age']\n",
    "\n",
    "#hubungan antara balance dengan salary\n",
    "#apabila balance dibagi estimated salary menghasilkan nilai tinggi maka dianggap nasabah tersebut percaya pada bank\n",
    "#dan sebaliknya\n",
    "dff['BalanceSalaryRatio'] = dff['Balance'] / dff['EstimatedSalary']"
   ]
  },
  {
   "cell_type": "code",
   "execution_count": 28,
   "metadata": {
    "colab": {
     "base_uri": "https://localhost:8080/",
     "height": 206
    },
    "id": "QEDlJAOy3VdQ",
    "outputId": "7f62b125-9137-4a00-a04c-982b4bdded64"
   },
   "outputs": [
    {
     "data": {
      "text/html": [
       "\n",
       "  <div id=\"df-54c03886-7b77-4f86-9ae1-623b3806f535\">\n",
       "    <div class=\"colab-df-container\">\n",
       "      <div>\n",
       "<style scoped>\n",
       "    .dataframe tbody tr th:only-of-type {\n",
       "        vertical-align: middle;\n",
       "    }\n",
       "\n",
       "    .dataframe tbody tr th {\n",
       "        vertical-align: top;\n",
       "    }\n",
       "\n",
       "    .dataframe thead th {\n",
       "        text-align: right;\n",
       "    }\n",
       "</style>\n",
       "<table border=\"1\" class=\"dataframe\">\n",
       "  <thead>\n",
       "    <tr style=\"text-align: right;\">\n",
       "      <th></th>\n",
       "      <th>CreditScore</th>\n",
       "      <th>Geography</th>\n",
       "      <th>Gender</th>\n",
       "      <th>Age</th>\n",
       "      <th>Tenure</th>\n",
       "      <th>Balance</th>\n",
       "      <th>NumOfProducts</th>\n",
       "      <th>HasCrCard</th>\n",
       "      <th>IsActiveMember</th>\n",
       "      <th>EstimatedSalary</th>\n",
       "      <th>Exited</th>\n",
       "      <th>CreditScoreGivenAge</th>\n",
       "      <th>TenureByAge</th>\n",
       "      <th>BalanceSalaryRatio</th>\n",
       "    </tr>\n",
       "  </thead>\n",
       "  <tbody>\n",
       "    <tr>\n",
       "      <th>0</th>\n",
       "      <td>619</td>\n",
       "      <td>France</td>\n",
       "      <td>Female</td>\n",
       "      <td>42</td>\n",
       "      <td>2</td>\n",
       "      <td>0.00</td>\n",
       "      <td>1</td>\n",
       "      <td>1</td>\n",
       "      <td>1</td>\n",
       "      <td>101348.88</td>\n",
       "      <td>1</td>\n",
       "      <td>14.738095</td>\n",
       "      <td>0.047619</td>\n",
       "      <td>0.000000</td>\n",
       "    </tr>\n",
       "    <tr>\n",
       "      <th>1</th>\n",
       "      <td>608</td>\n",
       "      <td>Spain</td>\n",
       "      <td>Female</td>\n",
       "      <td>41</td>\n",
       "      <td>1</td>\n",
       "      <td>83807.86</td>\n",
       "      <td>1</td>\n",
       "      <td>0</td>\n",
       "      <td>1</td>\n",
       "      <td>112542.58</td>\n",
       "      <td>0</td>\n",
       "      <td>14.829268</td>\n",
       "      <td>0.024390</td>\n",
       "      <td>0.744677</td>\n",
       "    </tr>\n",
       "    <tr>\n",
       "      <th>2</th>\n",
       "      <td>502</td>\n",
       "      <td>France</td>\n",
       "      <td>Female</td>\n",
       "      <td>42</td>\n",
       "      <td>8</td>\n",
       "      <td>159660.80</td>\n",
       "      <td>3</td>\n",
       "      <td>1</td>\n",
       "      <td>0</td>\n",
       "      <td>113931.57</td>\n",
       "      <td>1</td>\n",
       "      <td>11.952381</td>\n",
       "      <td>0.190476</td>\n",
       "      <td>1.401375</td>\n",
       "    </tr>\n",
       "    <tr>\n",
       "      <th>3</th>\n",
       "      <td>699</td>\n",
       "      <td>France</td>\n",
       "      <td>Female</td>\n",
       "      <td>39</td>\n",
       "      <td>1</td>\n",
       "      <td>0.00</td>\n",
       "      <td>2</td>\n",
       "      <td>0</td>\n",
       "      <td>0</td>\n",
       "      <td>93826.63</td>\n",
       "      <td>0</td>\n",
       "      <td>17.923077</td>\n",
       "      <td>0.025641</td>\n",
       "      <td>0.000000</td>\n",
       "    </tr>\n",
       "    <tr>\n",
       "      <th>4</th>\n",
       "      <td>850</td>\n",
       "      <td>Spain</td>\n",
       "      <td>Female</td>\n",
       "      <td>43</td>\n",
       "      <td>2</td>\n",
       "      <td>125510.82</td>\n",
       "      <td>1</td>\n",
       "      <td>1</td>\n",
       "      <td>1</td>\n",
       "      <td>79084.10</td>\n",
       "      <td>0</td>\n",
       "      <td>19.767442</td>\n",
       "      <td>0.046512</td>\n",
       "      <td>1.587055</td>\n",
       "    </tr>\n",
       "  </tbody>\n",
       "</table>\n",
       "</div>\n",
       "      <button class=\"colab-df-convert\" onclick=\"convertToInteractive('df-54c03886-7b77-4f86-9ae1-623b3806f535')\"\n",
       "              title=\"Convert this dataframe to an interactive table.\"\n",
       "              style=\"display:none;\">\n",
       "        \n",
       "  <svg xmlns=\"http://www.w3.org/2000/svg\" height=\"24px\"viewBox=\"0 0 24 24\"\n",
       "       width=\"24px\">\n",
       "    <path d=\"M0 0h24v24H0V0z\" fill=\"none\"/>\n",
       "    <path d=\"M18.56 5.44l.94 2.06.94-2.06 2.06-.94-2.06-.94-.94-2.06-.94 2.06-2.06.94zm-11 1L8.5 8.5l.94-2.06 2.06-.94-2.06-.94L8.5 2.5l-.94 2.06-2.06.94zm10 10l.94 2.06.94-2.06 2.06-.94-2.06-.94-.94-2.06-.94 2.06-2.06.94z\"/><path d=\"M17.41 7.96l-1.37-1.37c-.4-.4-.92-.59-1.43-.59-.52 0-1.04.2-1.43.59L10.3 9.45l-7.72 7.72c-.78.78-.78 2.05 0 2.83L4 21.41c.39.39.9.59 1.41.59.51 0 1.02-.2 1.41-.59l7.78-7.78 2.81-2.81c.8-.78.8-2.07 0-2.86zM5.41 20L4 18.59l7.72-7.72 1.47 1.35L5.41 20z\"/>\n",
       "  </svg>\n",
       "      </button>\n",
       "      \n",
       "  <style>\n",
       "    .colab-df-container {\n",
       "      display:flex;\n",
       "      flex-wrap:wrap;\n",
       "      gap: 12px;\n",
       "    }\n",
       "\n",
       "    .colab-df-convert {\n",
       "      background-color: #E8F0FE;\n",
       "      border: none;\n",
       "      border-radius: 50%;\n",
       "      cursor: pointer;\n",
       "      display: none;\n",
       "      fill: #1967D2;\n",
       "      height: 32px;\n",
       "      padding: 0 0 0 0;\n",
       "      width: 32px;\n",
       "    }\n",
       "\n",
       "    .colab-df-convert:hover {\n",
       "      background-color: #E2EBFA;\n",
       "      box-shadow: 0px 1px 2px rgba(60, 64, 67, 0.3), 0px 1px 3px 1px rgba(60, 64, 67, 0.15);\n",
       "      fill: #174EA6;\n",
       "    }\n",
       "\n",
       "    [theme=dark] .colab-df-convert {\n",
       "      background-color: #3B4455;\n",
       "      fill: #D2E3FC;\n",
       "    }\n",
       "\n",
       "    [theme=dark] .colab-df-convert:hover {\n",
       "      background-color: #434B5C;\n",
       "      box-shadow: 0px 1px 3px 1px rgba(0, 0, 0, 0.15);\n",
       "      filter: drop-shadow(0px 1px 2px rgba(0, 0, 0, 0.3));\n",
       "      fill: #FFFFFF;\n",
       "    }\n",
       "  </style>\n",
       "\n",
       "      <script>\n",
       "        const buttonEl =\n",
       "          document.querySelector('#df-54c03886-7b77-4f86-9ae1-623b3806f535 button.colab-df-convert');\n",
       "        buttonEl.style.display =\n",
       "          google.colab.kernel.accessAllowed ? 'block' : 'none';\n",
       "\n",
       "        async function convertToInteractive(key) {\n",
       "          const element = document.querySelector('#df-54c03886-7b77-4f86-9ae1-623b3806f535');\n",
       "          const dataTable =\n",
       "            await google.colab.kernel.invokeFunction('convertToInteractive',\n",
       "                                                     [key], {});\n",
       "          if (!dataTable) return;\n",
       "\n",
       "          const docLinkHtml = 'Like what you see? Visit the ' +\n",
       "            '<a target=\"_blank\" href=https://colab.research.google.com/notebooks/data_table.ipynb>data table notebook</a>'\n",
       "            + ' to learn more about interactive tables.';\n",
       "          element.innerHTML = '';\n",
       "          dataTable['output_type'] = 'display_data';\n",
       "          await google.colab.output.renderOutput(dataTable, element);\n",
       "          const docLink = document.createElement('div');\n",
       "          docLink.innerHTML = docLinkHtml;\n",
       "          element.appendChild(docLink);\n",
       "        }\n",
       "      </script>\n",
       "    </div>\n",
       "  </div>\n",
       "  "
      ],
      "text/plain": [
       "   CreditScore Geography  Gender  Age  Tenure    Balance  NumOfProducts  \\\n",
       "0          619    France  Female   42       2       0.00              1   \n",
       "1          608     Spain  Female   41       1   83807.86              1   \n",
       "2          502    France  Female   42       8  159660.80              3   \n",
       "3          699    France  Female   39       1       0.00              2   \n",
       "4          850     Spain  Female   43       2  125510.82              1   \n",
       "\n",
       "   HasCrCard  IsActiveMember  EstimatedSalary  Exited  CreditScoreGivenAge  \\\n",
       "0          1               1        101348.88       1            14.738095   \n",
       "1          0               1        112542.58       0            14.829268   \n",
       "2          1               0        113931.57       1            11.952381   \n",
       "3          0               0         93826.63       0            17.923077   \n",
       "4          1               1         79084.10       0            19.767442   \n",
       "\n",
       "   TenureByAge  BalanceSalaryRatio  \n",
       "0     0.047619            0.000000  \n",
       "1     0.024390            0.744677  \n",
       "2     0.190476            1.401375  \n",
       "3     0.025641            0.000000  \n",
       "4     0.046512            1.587055  "
      ]
     },
     "execution_count": 28,
     "metadata": {},
     "output_type": "execute_result"
    }
   ],
   "source": [
    "dff.head()"
   ]
  },
  {
   "cell_type": "markdown",
   "metadata": {
    "id": "TXnnQAq4a854"
   },
   "source": [
    "## New Features vs Target"
   ]
  },
  {
   "cell_type": "code",
   "execution_count": 29,
   "metadata": {
    "colab": {
     "base_uri": "https://localhost:8080/",
     "height": 279
    },
    "id": "nxHaiEs33dQU",
    "outputId": "2c7441d0-53f1-40fb-cc5f-70e6e8e5ca4b"
   },
   "outputs": [
    {
     "data": {
      "image/png": "[encoded data removed]",
      "text/plain": [
       "<Figure size 432x288 with 1 Axes>"
      ]
     },
     "metadata": {
      "needs_background": "light"
     },
     "output_type": "display_data"
    }
   ],
   "source": [
    "#CreditScoreGivenAge vs Exited\n",
    "sns.boxplot(y = 'CreditScoreGivenAge', x = 'Exited', hue = 'Exited', data = dff, palette = 'afmhot')\n",
    "plt.show()"
   ]
  },
  {
   "cell_type": "markdown",
   "metadata": {
    "id": "t9N1AL63bWLf"
   },
   "source": [
    "Boxplot menunjukkan bahwa nasabah yang churn memiliki CreditScoreGivenAge yang kecil, yang berarti credit score dibandingkan dengan umurnya adalah kecil (nasabah yang kurang loyal)."
   ]
  },
  {
   "cell_type": "code",
   "execution_count": 30,
   "metadata": {
    "colab": {
     "base_uri": "https://localhost:8080/",
     "height": 279
    },
    "id": "x-LCjKE83lRh",
    "outputId": "70842abd-d5e1-417c-9ddc-dfb95cea310e"
   },
   "outputs": [
    {
     "data": {
      "image/png": "[encoded data removed]",
      "text/plain": [
       "<Figure size 432x288 with 1 Axes>"
      ]
     },
     "metadata": {
      "needs_background": "light"
     },
     "output_type": "display_data"
    }
   ],
   "source": [
    "#TenureByAge vs Exited\n",
    "sns.boxplot(y = 'TenureByAge', x = 'Exited', hue = 'Exited', data = dff, palette = 'afmhot')\n",
    "plt.show()"
   ]
  },
  {
   "cell_type": "markdown",
   "metadata": {
    "id": "MYgYFjY9cFh_"
   },
   "source": [
    "Dari boxplot di atas bahwa fitur ini kurang memberikan pola yang menarik."
   ]
  },
  {
   "cell_type": "code",
   "execution_count": 31,
   "metadata": {
    "colab": {
     "base_uri": "https://localhost:8080/",
     "height": 279
    },
    "id": "dYzRVfLa3p4u",
    "outputId": "7e144dd2-7e7d-4ed7-ae03-2bdd3aa7d3e7"
   },
   "outputs": [
    {
     "data": {
      "image/png": "[encoded data removed]",
      "text/plain": [
       "<Figure size 432x288 with 1 Axes>"
      ]
     },
     "metadata": {
      "needs_background": "light"
     },
     "output_type": "display_data"
    }
   ],
   "source": [
    "#BalanceSalaryRatio vs Exited\n",
    "sns.boxplot(y = 'BalanceSalaryRatio', x = 'Exited', hue = 'Exited', data = dff, palette = 'afmhot')\n",
    "plt.show()"
   ]
  },
  {
   "cell_type": "markdown",
   "metadata": {
    "id": "AyLmLKKQcZtJ"
   },
   "source": [
    "Ditemukan hal yang menarik dari boxplot di atas, dimana terdapat outlier di nasabah yang churn yaitu nasabah dengan estimated salary tinggi namun justru churn."
   ]
  },
  {
   "cell_type": "markdown",
   "metadata": {
    "id": "Eyn51car4BCr"
   },
   "source": [
    "## Data Preparation"
   ]
  },
  {
   "cell_type": "code",
   "execution_count": 32,
   "metadata": {
    "id": "nGjCv_SUAEwS"
   },
   "outputs": [],
   "source": [
    "#copy dataset dari dataset yang sudah melalui step feature engineering\n",
    "df_prep = dff.copy()"
   ]
  },
  {
   "cell_type": "markdown",
   "metadata": {
    "id": "wawTK51bdYLe"
   },
   "source": [
    "### One Hot Encoding"
   ]
  },
  {
   "cell_type": "code",
   "execution_count": 33,
   "metadata": {
    "colab": {
     "base_uri": "https://localhost:8080/",
     "height": 270
    },
    "id": "0GdUwz1i4DiH",
    "outputId": "1d6a48fb-7e07-4fa6-8c4a-90be4339f29d"
   },
   "outputs": [
    {
     "data": {
      "text/html": [
       "\n",
       "  <div id=\"df-6b5fd2cc-9159-439a-8a04-456fce89210a\">\n",
       "    <div class=\"colab-df-container\">\n",
       "      <div>\n",
       "<style scoped>\n",
       "    .dataframe tbody tr th:only-of-type {\n",
       "        vertical-align: middle;\n",
       "    }\n",
       "\n",
       "    .dataframe tbody tr th {\n",
       "        vertical-align: top;\n",
       "    }\n",
       "\n",
       "    .dataframe thead th {\n",
       "        text-align: right;\n",
       "    }\n",
       "</style>\n",
       "<table border=\"1\" class=\"dataframe\">\n",
       "  <thead>\n",
       "    <tr style=\"text-align: right;\">\n",
       "      <th></th>\n",
       "      <th>CreditScore</th>\n",
       "      <th>Age</th>\n",
       "      <th>Tenure</th>\n",
       "      <th>Balance</th>\n",
       "      <th>NumOfProducts</th>\n",
       "      <th>HasCrCard</th>\n",
       "      <th>IsActiveMember</th>\n",
       "      <th>EstimatedSalary</th>\n",
       "      <th>Exited</th>\n",
       "      <th>CreditScoreGivenAge</th>\n",
       "      <th>TenureByAge</th>\n",
       "      <th>BalanceSalaryRatio</th>\n",
       "      <th>Geography_France</th>\n",
       "      <th>Geography_Germany</th>\n",
       "      <th>Geography_Spain</th>\n",
       "      <th>Gender_Female</th>\n",
       "      <th>Gender_Male</th>\n",
       "    </tr>\n",
       "  </thead>\n",
       "  <tbody>\n",
       "    <tr>\n",
       "      <th>0</th>\n",
       "      <td>619</td>\n",
       "      <td>42</td>\n",
       "      <td>2</td>\n",
       "      <td>0.00</td>\n",
       "      <td>1</td>\n",
       "      <td>1</td>\n",
       "      <td>1</td>\n",
       "      <td>101348.88</td>\n",
       "      <td>1</td>\n",
       "      <td>14.738095</td>\n",
       "      <td>0.047619</td>\n",
       "      <td>0.000000</td>\n",
       "      <td>1.0</td>\n",
       "      <td>0.0</td>\n",
       "      <td>0.0</td>\n",
       "      <td>1.0</td>\n",
       "      <td>0.0</td>\n",
       "    </tr>\n",
       "    <tr>\n",
       "      <th>1</th>\n",
       "      <td>608</td>\n",
       "      <td>41</td>\n",
       "      <td>1</td>\n",
       "      <td>83807.86</td>\n",
       "      <td>1</td>\n",
       "      <td>0</td>\n",
       "      <td>1</td>\n",
       "      <td>112542.58</td>\n",
       "      <td>0</td>\n",
       "      <td>14.829268</td>\n",
       "      <td>0.024390</td>\n",
       "      <td>0.744677</td>\n",
       "      <td>0.0</td>\n",
       "      <td>0.0</td>\n",
       "      <td>1.0</td>\n",
       "      <td>1.0</td>\n",
       "      <td>0.0</td>\n",
       "    </tr>\n",
       "    <tr>\n",
       "      <th>2</th>\n",
       "      <td>502</td>\n",
       "      <td>42</td>\n",
       "      <td>8</td>\n",
       "      <td>159660.80</td>\n",
       "      <td>3</td>\n",
       "      <td>1</td>\n",
       "      <td>0</td>\n",
       "      <td>113931.57</td>\n",
       "      <td>1</td>\n",
       "      <td>11.952381</td>\n",
       "      <td>0.190476</td>\n",
       "      <td>1.401375</td>\n",
       "      <td>1.0</td>\n",
       "      <td>0.0</td>\n",
       "      <td>0.0</td>\n",
       "      <td>1.0</td>\n",
       "      <td>0.0</td>\n",
       "    </tr>\n",
       "    <tr>\n",
       "      <th>3</th>\n",
       "      <td>699</td>\n",
       "      <td>39</td>\n",
       "      <td>1</td>\n",
       "      <td>0.00</td>\n",
       "      <td>2</td>\n",
       "      <td>0</td>\n",
       "      <td>0</td>\n",
       "      <td>93826.63</td>\n",
       "      <td>0</td>\n",
       "      <td>17.923077</td>\n",
       "      <td>0.025641</td>\n",
       "      <td>0.000000</td>\n",
       "      <td>1.0</td>\n",
       "      <td>0.0</td>\n",
       "      <td>0.0</td>\n",
       "      <td>1.0</td>\n",
       "      <td>0.0</td>\n",
       "    </tr>\n",
       "    <tr>\n",
       "      <th>4</th>\n",
       "      <td>850</td>\n",
       "      <td>43</td>\n",
       "      <td>2</td>\n",
       "      <td>125510.82</td>\n",
       "      <td>1</td>\n",
       "      <td>1</td>\n",
       "      <td>1</td>\n",
       "      <td>79084.10</td>\n",
       "      <td>0</td>\n",
       "      <td>19.767442</td>\n",
       "      <td>0.046512</td>\n",
       "      <td>1.587055</td>\n",
       "      <td>0.0</td>\n",
       "      <td>0.0</td>\n",
       "      <td>1.0</td>\n",
       "      <td>1.0</td>\n",
       "      <td>0.0</td>\n",
       "    </tr>\n",
       "  </tbody>\n",
       "</table>\n",
       "</div>\n",
       "      <button class=\"colab-df-convert\" onclick=\"convertToInteractive('df-6b5fd2cc-9159-439a-8a04-456fce89210a')\"\n",
       "              title=\"Convert this dataframe to an interactive table.\"\n",
       "              style=\"display:none;\">\n",
       "        \n",
       "  <svg xmlns=\"http://www.w3.org/2000/svg\" height=\"24px\"viewBox=\"0 0 24 24\"\n",
       "       width=\"24px\">\n",
       "    <path d=\"M0 0h24v24H0V0z\" fill=\"none\"/>\n",
       "    <path d=\"M18.56 5.44l.94 2.06.94-2.06 2.06-.94-2.06-.94-.94-2.06-.94 2.06-2.06.94zm-11 1L8.5 8.5l.94-2.06 2.06-.94-2.06-.94L8.5 2.5l-.94 2.06-2.06.94zm10 10l.94 2.06.94-2.06 2.06-.94-2.06-.94-.94-2.06-.94 2.06-2.06.94z\"/><path d=\"M17.41 7.96l-1.37-1.37c-.4-.4-.92-.59-1.43-.59-.52 0-1.04.2-1.43.59L10.3 9.45l-7.72 7.72c-.78.78-.78 2.05 0 2.83L4 21.41c.39.39.9.59 1.41.59.51 0 1.02-.2 1.41-.59l7.78-7.78 2.81-2.81c.8-.78.8-2.07 0-2.86zM5.41 20L4 18.59l7.72-7.72 1.47 1.35L5.41 20z\"/>\n",
       "  </svg>\n",
       "      </button>\n",
       "      \n",
       "  <style>\n",
       "    .colab-df-container {\n",
       "      display:flex;\n",
       "      flex-wrap:wrap;\n",
       "      gap: 12px;\n",
       "    }\n",
       "\n",
       "    .colab-df-convert {\n",
       "      background-color: #E8F0FE;\n",
       "      border: none;\n",
       "      border-radius: 50%;\n",
       "      cursor: pointer;\n",
       "      display: none;\n",
       "      fill: #1967D2;\n",
       "      height: 32px;\n",
       "      padding: 0 0 0 0;\n",
       "      width: 32px;\n",
       "    }\n",
       "\n",
       "    .colab-df-convert:hover {\n",
       "      background-color: #E2EBFA;\n",
       "      box-shadow: 0px 1px 2px rgba(60, 64, 67, 0.3), 0px 1px 3px 1px rgba(60, 64, 67, 0.15);\n",
       "      fill: #174EA6;\n",
       "    }\n",
       "\n",
       "    [theme=dark] .colab-df-convert {\n",
       "      background-color: #3B4455;\n",
       "      fill: #D2E3FC;\n",
       "    }\n",
       "\n",
       "    [theme=dark] .colab-df-convert:hover {\n",
       "      background-color: #434B5C;\n",
       "      box-shadow: 0px 1px 3px 1px rgba(0, 0, 0, 0.15);\n",
       "      filter: drop-shadow(0px 1px 2px rgba(0, 0, 0, 0.3));\n",
       "      fill: #FFFFFF;\n",
       "    }\n",
       "  </style>\n",
       "\n",
       "      <script>\n",
       "        const buttonEl =\n",
       "          document.querySelector('#df-6b5fd2cc-9159-439a-8a04-456fce89210a button.colab-df-convert');\n",
       "        buttonEl.style.display =\n",
       "          google.colab.kernel.accessAllowed ? 'block' : 'none';\n",
       "\n",
       "        async function convertToInteractive(key) {\n",
       "          const element = document.querySelector('#df-6b5fd2cc-9159-439a-8a04-456fce89210a');\n",
       "          const dataTable =\n",
       "            await google.colab.kernel.invokeFunction('convertToInteractive',\n",
       "                                                     [key], {});\n",
       "          if (!dataTable) return;\n",
       "\n",
       "          const docLinkHtml = 'Like what you see? Visit the ' +\n",
       "            '<a target=\"_blank\" href=https://colab.research.google.com/notebooks/data_table.ipynb>data table notebook</a>'\n",
       "            + ' to learn more about interactive tables.';\n",
       "          element.innerHTML = '';\n",
       "          dataTable['output_type'] = 'display_data';\n",
       "          await google.colab.output.renderOutput(dataTable, element);\n",
       "          const docLink = document.createElement('div');\n",
       "          docLink.innerHTML = docLinkHtml;\n",
       "          element.appendChild(docLink);\n",
       "        }\n",
       "      </script>\n",
       "    </div>\n",
       "  </div>\n",
       "  "
      ],
      "text/plain": [
       "   CreditScore  Age  Tenure    Balance  NumOfProducts  HasCrCard  \\\n",
       "0          619   42       2       0.00              1          1   \n",
       "1          608   41       1   83807.86              1          0   \n",
       "2          502   42       8  159660.80              3          1   \n",
       "3          699   39       1       0.00              2          0   \n",
       "4          850   43       2  125510.82              1          1   \n",
       "\n",
       "   IsActiveMember  EstimatedSalary  Exited  CreditScoreGivenAge  TenureByAge  \\\n",
       "0               1        101348.88       1            14.738095     0.047619   \n",
       "1               1        112542.58       0            14.829268     0.024390   \n",
       "2               0        113931.57       1            11.952381     0.190476   \n",
       "3               0         93826.63       0            17.923077     0.025641   \n",
       "4               1         79084.10       0            19.767442     0.046512   \n",
       "\n",
       "   BalanceSalaryRatio  Geography_France  Geography_Germany  Geography_Spain  \\\n",
       "0            0.000000               1.0                0.0              0.0   \n",
       "1            0.744677               0.0                0.0              1.0   \n",
       "2            1.401375               1.0                0.0              0.0   \n",
       "3            0.000000               1.0                0.0              0.0   \n",
       "4            1.587055               0.0                0.0              1.0   \n",
       "\n",
       "   Gender_Female  Gender_Male  \n",
       "0            1.0          0.0  \n",
       "1            1.0          0.0  \n",
       "2            1.0          0.0  \n",
       "3            1.0          0.0  \n",
       "4            1.0          0.0  "
      ]
     },
     "execution_count": 33,
     "metadata": {},
     "output_type": "execute_result"
    }
   ],
   "source": [
    "#import library\n",
    "from sklearn.preprocessing import OneHotEncoder\n",
    "\n",
    "#variabel untuk memasukkan fitur yang akan diaplikasikan ke one hot encoding\n",
    "string_feat = ['Geography', 'Gender']\n",
    "\n",
    "#call OneHotEncoder function\n",
    "ohe = OneHotEncoder()\n",
    "\n",
    "#fit untuk melatih OneHotEncoder membaca data terlebih dahulu\n",
    "#agar ohe tau kolom mana yang akan diaplikasikan dan label apa saja yang akan dipecah\n",
    "ohe.fit(df_prep[string_feat])\n",
    "\n",
    "#hasil one hot encoding akan ditransform (dataframe baru)\n",
    "#kolom baru akan diambil dari hasil\n",
    "dff_ohe_result = pd.DataFrame(ohe.transform(df_prep[string_feat]).toarray(),\n",
    "                              columns=ohe.get_feature_names_out())\n",
    "\n",
    "#menggabungkan hasil one hot encoding ke dataset\n",
    "df_prep = pd.concat([df_prep, dff_ohe_result], axis=1)\n",
    "\n",
    "#menghapus kolom yang diaplikasikan one hot encoding Geography dan Gender\n",
    "#karena sudah digantikan dengan kolom baru hasil One Hot Encoding\n",
    "df_prep = df_prep.drop(columns=string_feat)\n",
    "\n",
    "df_prep.head()"
   ]
  },
  {
   "cell_type": "code",
   "execution_count": 34,
   "metadata": {
    "id": "C5w09UE0gF4n"
   },
   "outputs": [],
   "source": [
    "#hasil dari one hot encoding\n",
    "#dff_ohe_result"
   ]
  },
  {
   "cell_type": "markdown",
   "metadata": {
    "id": "A_-Me9G9gNQS"
   },
   "source": [
    "### Normalization"
   ]
  },
  {
   "cell_type": "code",
   "execution_count": 35,
   "metadata": {
    "colab": {
     "base_uri": "https://localhost:8080/",
     "height": 270
    },
    "id": "wVVVp74651VJ",
    "outputId": "4d955da8-95f6-49fd-d788-b3b727cc5920"
   },
   "outputs": [
    {
     "data": {
      "text/html": [
       "\n",
       "  <div id=\"df-a71f8eb5-c052-40e8-af3c-eeff770851b1\">\n",
       "    <div class=\"colab-df-container\">\n",
       "      <div>\n",
       "<style scoped>\n",
       "    .dataframe tbody tr th:only-of-type {\n",
       "        vertical-align: middle;\n",
       "    }\n",
       "\n",
       "    .dataframe tbody tr th {\n",
       "        vertical-align: top;\n",
       "    }\n",
       "\n",
       "    .dataframe thead th {\n",
       "        text-align: right;\n",
       "    }\n",
       "</style>\n",
       "<table border=\"1\" class=\"dataframe\">\n",
       "  <thead>\n",
       "    <tr style=\"text-align: right;\">\n",
       "      <th></th>\n",
       "      <th>CreditScore</th>\n",
       "      <th>Age</th>\n",
       "      <th>Tenure</th>\n",
       "      <th>Balance</th>\n",
       "      <th>NumOfProducts</th>\n",
       "      <th>HasCrCard</th>\n",
       "      <th>IsActiveMember</th>\n",
       "      <th>EstimatedSalary</th>\n",
       "      <th>Exited</th>\n",
       "      <th>CreditScoreGivenAge</th>\n",
       "      <th>TenureByAge</th>\n",
       "      <th>BalanceSalaryRatio</th>\n",
       "      <th>Geography_France</th>\n",
       "      <th>Geography_Germany</th>\n",
       "      <th>Geography_Spain</th>\n",
       "      <th>Gender_Female</th>\n",
       "      <th>Gender_Male</th>\n",
       "    </tr>\n",
       "  </thead>\n",
       "  <tbody>\n",
       "    <tr>\n",
       "      <th>0</th>\n",
       "      <td>0.538</td>\n",
       "      <td>0.324324</td>\n",
       "      <td>0.2</td>\n",
       "      <td>0.000000</td>\n",
       "      <td>0.000000</td>\n",
       "      <td>1.0</td>\n",
       "      <td>1.0</td>\n",
       "      <td>0.506735</td>\n",
       "      <td>1.0</td>\n",
       "      <td>0.235083</td>\n",
       "      <td>0.085714</td>\n",
       "      <td>0.000000</td>\n",
       "      <td>1.0</td>\n",
       "      <td>0.0</td>\n",
       "      <td>0.0</td>\n",
       "      <td>1.0</td>\n",
       "      <td>0.0</td>\n",
       "    </tr>\n",
       "    <tr>\n",
       "      <th>1</th>\n",
       "      <td>0.516</td>\n",
       "      <td>0.310811</td>\n",
       "      <td>0.1</td>\n",
       "      <td>0.334031</td>\n",
       "      <td>0.000000</td>\n",
       "      <td>0.0</td>\n",
       "      <td>1.0</td>\n",
       "      <td>0.562709</td>\n",
       "      <td>0.0</td>\n",
       "      <td>0.237252</td>\n",
       "      <td>0.043902</td>\n",
       "      <td>0.000070</td>\n",
       "      <td>0.0</td>\n",
       "      <td>0.0</td>\n",
       "      <td>1.0</td>\n",
       "      <td>1.0</td>\n",
       "      <td>0.0</td>\n",
       "    </tr>\n",
       "    <tr>\n",
       "      <th>2</th>\n",
       "      <td>0.304</td>\n",
       "      <td>0.324324</td>\n",
       "      <td>0.8</td>\n",
       "      <td>0.636357</td>\n",
       "      <td>0.666667</td>\n",
       "      <td>1.0</td>\n",
       "      <td>0.0</td>\n",
       "      <td>0.569654</td>\n",
       "      <td>1.0</td>\n",
       "      <td>0.168807</td>\n",
       "      <td>0.342857</td>\n",
       "      <td>0.000132</td>\n",
       "      <td>1.0</td>\n",
       "      <td>0.0</td>\n",
       "      <td>0.0</td>\n",
       "      <td>1.0</td>\n",
       "      <td>0.0</td>\n",
       "    </tr>\n",
       "    <tr>\n",
       "      <th>3</th>\n",
       "      <td>0.698</td>\n",
       "      <td>0.283784</td>\n",
       "      <td>0.1</td>\n",
       "      <td>0.000000</td>\n",
       "      <td>0.333333</td>\n",
       "      <td>0.0</td>\n",
       "      <td>0.0</td>\n",
       "      <td>0.469120</td>\n",
       "      <td>0.0</td>\n",
       "      <td>0.310859</td>\n",
       "      <td>0.046154</td>\n",
       "      <td>0.000000</td>\n",
       "      <td>1.0</td>\n",
       "      <td>0.0</td>\n",
       "      <td>0.0</td>\n",
       "      <td>1.0</td>\n",
       "      <td>0.0</td>\n",
       "    </tr>\n",
       "    <tr>\n",
       "      <th>4</th>\n",
       "      <td>1.000</td>\n",
       "      <td>0.337838</td>\n",
       "      <td>0.2</td>\n",
       "      <td>0.500246</td>\n",
       "      <td>0.000000</td>\n",
       "      <td>1.0</td>\n",
       "      <td>1.0</td>\n",
       "      <td>0.395400</td>\n",
       "      <td>0.0</td>\n",
       "      <td>0.354739</td>\n",
       "      <td>0.083721</td>\n",
       "      <td>0.000150</td>\n",
       "      <td>0.0</td>\n",
       "      <td>0.0</td>\n",
       "      <td>1.0</td>\n",
       "      <td>1.0</td>\n",
       "      <td>0.0</td>\n",
       "    </tr>\n",
       "  </tbody>\n",
       "</table>\n",
       "</div>\n",
       "      <button class=\"colab-df-convert\" onclick=\"convertToInteractive('df-a71f8eb5-c052-40e8-af3c-eeff770851b1')\"\n",
       "              title=\"Convert this dataframe to an interactive table.\"\n",
       "              style=\"display:none;\">\n",
       "        \n",
       "  <svg xmlns=\"http://www.w3.org/2000/svg\" height=\"24px\"viewBox=\"0 0 24 24\"\n",
       "       width=\"24px\">\n",
       "    <path d=\"M0 0h24v24H0V0z\" fill=\"none\"/>\n",
       "    <path d=\"M18.56 5.44l.94 2.06.94-2.06 2.06-.94-2.06-.94-.94-2.06-.94 2.06-2.06.94zm-11 1L8.5 8.5l.94-2.06 2.06-.94-2.06-.94L8.5 2.5l-.94 2.06-2.06.94zm10 10l.94 2.06.94-2.06 2.06-.94-2.06-.94-.94-2.06-.94 2.06-2.06.94z\"/><path d=\"M17.41 7.96l-1.37-1.37c-.4-.4-.92-.59-1.43-.59-.52 0-1.04.2-1.43.59L10.3 9.45l-7.72 7.72c-.78.78-.78 2.05 0 2.83L4 21.41c.39.39.9.59 1.41.59.51 0 1.02-.2 1.41-.59l7.78-7.78 2.81-2.81c.8-.78.8-2.07 0-2.86zM5.41 20L4 18.59l7.72-7.72 1.47 1.35L5.41 20z\"/>\n",
       "  </svg>\n",
       "      </button>\n",
       "      \n",
       "  <style>\n",
       "    .colab-df-container {\n",
       "      display:flex;\n",
       "      flex-wrap:wrap;\n",
       "      gap: 12px;\n",
       "    }\n",
       "\n",
       "    .colab-df-convert {\n",
       "      background-color: #E8F0FE;\n",
       "      border: none;\n",
       "      border-radius: 50%;\n",
       "      cursor: pointer;\n",
       "      display: none;\n",
       "      fill: #1967D2;\n",
       "      height: 32px;\n",
       "      padding: 0 0 0 0;\n",
       "      width: 32px;\n",
       "    }\n",
       "\n",
       "    .colab-df-convert:hover {\n",
       "      background-color: #E2EBFA;\n",
       "      box-shadow: 0px 1px 2px rgba(60, 64, 67, 0.3), 0px 1px 3px 1px rgba(60, 64, 67, 0.15);\n",
       "      fill: #174EA6;\n",
       "    }\n",
       "\n",
       "    [theme=dark] .colab-df-convert {\n",
       "      background-color: #3B4455;\n",
       "      fill: #D2E3FC;\n",
       "    }\n",
       "\n",
       "    [theme=dark] .colab-df-convert:hover {\n",
       "      background-color: #434B5C;\n",
       "      box-shadow: 0px 1px 3px 1px rgba(0, 0, 0, 0.15);\n",
       "      filter: drop-shadow(0px 1px 2px rgba(0, 0, 0, 0.3));\n",
       "      fill: #FFFFFF;\n",
       "    }\n",
       "  </style>\n",
       "\n",
       "      <script>\n",
       "        const buttonEl =\n",
       "          document.querySelector('#df-a71f8eb5-c052-40e8-af3c-eeff770851b1 button.colab-df-convert');\n",
       "        buttonEl.style.display =\n",
       "          google.colab.kernel.accessAllowed ? 'block' : 'none';\n",
       "\n",
       "        async function convertToInteractive(key) {\n",
       "          const element = document.querySelector('#df-a71f8eb5-c052-40e8-af3c-eeff770851b1');\n",
       "          const dataTable =\n",
       "            await google.colab.kernel.invokeFunction('convertToInteractive',\n",
       "                                                     [key], {});\n",
       "          if (!dataTable) return;\n",
       "\n",
       "          const docLinkHtml = 'Like what you see? Visit the ' +\n",
       "            '<a target=\"_blank\" href=https://colab.research.google.com/notebooks/data_table.ipynb>data table notebook</a>'\n",
       "            + ' to learn more about interactive tables.';\n",
       "          element.innerHTML = '';\n",
       "          dataTable['output_type'] = 'display_data';\n",
       "          await google.colab.output.renderOutput(dataTable, element);\n",
       "          const docLink = document.createElement('div');\n",
       "          docLink.innerHTML = docLinkHtml;\n",
       "          element.appendChild(docLink);\n",
       "        }\n",
       "      </script>\n",
       "    </div>\n",
       "  </div>\n",
       "  "
      ],
      "text/plain": [
       "   CreditScore       Age  Tenure   Balance  NumOfProducts  HasCrCard  \\\n",
       "0        0.538  0.324324     0.2  0.000000       0.000000        1.0   \n",
       "1        0.516  0.310811     0.1  0.334031       0.000000        0.0   \n",
       "2        0.304  0.324324     0.8  0.636357       0.666667        1.0   \n",
       "3        0.698  0.283784     0.1  0.000000       0.333333        0.0   \n",
       "4        1.000  0.337838     0.2  0.500246       0.000000        1.0   \n",
       "\n",
       "   IsActiveMember  EstimatedSalary  Exited  CreditScoreGivenAge  TenureByAge  \\\n",
       "0             1.0         0.506735     1.0             0.235083     0.085714   \n",
       "1             1.0         0.562709     0.0             0.237252     0.043902   \n",
       "2             0.0         0.569654     1.0             0.168807     0.342857   \n",
       "3             0.0         0.469120     0.0             0.310859     0.046154   \n",
       "4             1.0         0.395400     0.0             0.354739     0.083721   \n",
       "\n",
       "   BalanceSalaryRatio  Geography_France  Geography_Germany  Geography_Spain  \\\n",
       "0            0.000000               1.0                0.0              0.0   \n",
       "1            0.000070               0.0                0.0              1.0   \n",
       "2            0.000132               1.0                0.0              0.0   \n",
       "3            0.000000               1.0                0.0              0.0   \n",
       "4            0.000150               0.0                0.0              1.0   \n",
       "\n",
       "   Gender_Female  Gender_Male  \n",
       "0            1.0          0.0  \n",
       "1            1.0          0.0  \n",
       "2            1.0          0.0  \n",
       "3            1.0          0.0  \n",
       "4            1.0          0.0  "
      ]
     },
     "execution_count": 35,
     "metadata": {},
     "output_type": "execute_result"
    }
   ],
   "source": [
    "#semua nilai di dataset akan diubah ke skala yang sama yaitu 0 - 1\n",
    "#import library\n",
    "from sklearn.preprocessing import MinMaxScaler\n",
    "\n",
    "#call MinMaxScaler function\n",
    "mm = MinMaxScaler()\n",
    "\n",
    "#fit function\n",
    "mm.fit(df_prep)\n",
    "\n",
    "#menerapkan kolom hasil normalisasi ke dataset\n",
    "df_prep = pd.DataFrame(mm.transform(df_prep), columns = df_prep.columns)\n",
    "df_prep.head()"
   ]
  },
  {
   "cell_type": "markdown",
   "metadata": {
    "id": "euzBoEsUhJUu"
   },
   "source": [
    "### Split Data"
   ]
  },
  {
   "cell_type": "code",
   "execution_count": 36,
   "metadata": {
    "id": "41dfxWHL6Owj"
   },
   "outputs": [],
   "source": [
    "#import library\n",
    "from sklearn.model_selection import train_test_split\n",
    "\n",
    "#mendefinisikan variabel x (independent) dan y(dependent / target)\n",
    "x = df_prep.drop(columns=['Exited']).copy()\n",
    "y = df_prep['Exited'].copy()\n",
    "\n",
    "#rasio yang digunakan 75:25 dan gunakan random_state agar nilai saat random selalu sama\n",
    "x_train, x_test, y_train, y_test = train_test_split(x, y, test_size = 0.25, random_state = 25)"
   ]
  },
  {
   "cell_type": "code",
   "execution_count": 37,
   "metadata": {
    "colab": {
     "base_uri": "https://localhost:8080/"
    },
    "id": "-DMiR8CgCF9I",
    "outputId": "a0a85d76-55bb-4ee9-c007-f24fa6a6b034"
   },
   "outputs": [
    {
     "name": "stdout",
     "output_type": "stream",
     "text": [
      "(7500, 16)\n",
      "(2500, 16)\n"
     ]
    }
   ],
   "source": [
    "#cek komposisi data train dan test\n",
    "print(x_train.shape)\n",
    "print(x_test.shape)"
   ]
  },
  {
   "cell_type": "markdown",
   "metadata": {
    "id": "OD1Z6vxm66Xr"
   },
   "source": [
    "# Modeling"
   ]
  },
  {
   "cell_type": "code",
   "execution_count": 38,
   "metadata": {
    "id": "CNpGXmdz6-Th"
   },
   "outputs": [],
   "source": [
    "from sklearn.linear_model import LogisticRegression\n",
    "from sklearn.svm import SVC\n",
    "from sklearn.ensemble import RandomForestClassifier\n",
    "from sklearn.neighbors import KNeighborsClassifier\n",
    "from sklearn.tree import DecisionTreeClassifier"
   ]
  },
  {
   "cell_type": "code",
   "execution_count": 39,
   "metadata": {
    "id": "O5KywyKl0w93"
   },
   "outputs": [],
   "source": [
    "from sklearn import metrics\n",
    "from sklearn.metrics import accuracy_score"
   ]
  },
  {
   "cell_type": "markdown",
   "metadata": {
    "id": "TGmCmZ7piKph"
   },
   "source": [
    "## Logistic Regression"
   ]
  },
  {
   "cell_type": "code",
   "execution_count": 40,
   "metadata": {
    "colab": {
     "base_uri": "https://localhost:8080/"
    },
    "id": "c6A4oC1I7SOW",
    "outputId": "2c477ac9-5638-4f49-afbe-efeb69572edb"
   },
   "outputs": [
    {
     "data": {
      "text/plain": [
       "LogisticRegression()"
      ]
     },
     "execution_count": 40,
     "metadata": {},
     "output_type": "execute_result"
    }
   ],
   "source": [
    "#fit model Logistic Regression\n",
    "log = LogisticRegression()\n",
    "log.fit(x_train, y_train)"
   ]
  },
  {
   "cell_type": "code",
   "execution_count": 41,
   "metadata": {
    "colab": {
     "base_uri": "https://localhost:8080/"
    },
    "id": "z2Q8HJv-Yquw",
    "outputId": "87f74858-ad86-4bca-ef2d-0bbb4b81df62"
   },
   "outputs": [
    {
     "name": "stdout",
     "output_type": "stream",
     "text": [
      "Training Accuracy:  81.28\n",
      "Test Accuracy:  81.76\n"
     ]
    }
   ],
   "source": [
    "#cek akurasi model antara data training dan data test untuk melihat apakah model overfitting\n",
    "print('Training Accuracy: ', metrics.accuracy_score(y_train, log.predict(x_train))*100)\n",
    "print('Test Accuracy: ', metrics.accuracy_score(y_test, log.predict(x_test))*100)"
   ]
  },
  {
   "cell_type": "markdown",
   "metadata": {
    "id": "3tkGF3ZqwABV"
   },
   "source": [
    "Dari hasil tes akurasi model, terlihat perbedaan antara keduanya tidak begitu besar yang berarti model tidak overfitting."
   ]
  },
  {
   "cell_type": "markdown",
   "metadata": {
    "id": "sV-HxLhwwlNt"
   },
   "source": [
    "### Hyperparameter Tuning"
   ]
  },
  {
   "cell_type": "markdown",
   "metadata": {
    "id": "iVPsvoOjwqHu"
   },
   "source": [
    "Walaupun model tidak overfitting, Hyperparameter Tuning tetap dilakukan untuk membuat model lebih akurat."
   ]
  },
  {
   "cell_type": "code",
   "execution_count": 42,
   "metadata": {
    "colab": {
     "base_uri": "https://localhost:8080/"
    },
    "id": "6IwVKb3tZ4Mt",
    "outputId": "bc21138f-4337-4033-93f4-54b8b886cda3"
   },
   "outputs": [
    {
     "name": "stdout",
     "output_type": "stream",
     "text": [
      "Tuned Logistic Regression Parameters: {'C': 19306.977288832535}\n",
      "Best score is 0.8161333333333333\n"
     ]
    }
   ],
   "source": [
    "#import library\n",
    "from sklearn.model_selection import GridSearchCV\n",
    "\n",
    "#creating the hyperparameter grid\n",
    "c_space = np.logspace(-5, 8, 15)\n",
    "param_grid = {'C': c_space}\n",
    "\n",
    "#instantiating logistic regression classifier\n",
    "log1 = LogisticRegression(max_iter = 1000)\n",
    "\n",
    "#instantiating the GridSearchCV object\n",
    "#cv - cross validation\n",
    "log1_cv = GridSearchCV(log1, param_grid, cv = 25)\n",
    "\n",
    "log1_cv.fit(x_train, y_train)\n",
    "\n",
    "#print the tuned parameters and score\n",
    "print(\"Tuned Logistic Regression Parameters: {}\".format(log1_cv.best_params_))\n",
    "print(\"Best score is {}\".format(log1_cv.best_score_))"
   ]
  },
  {
   "cell_type": "code",
   "execution_count": 43,
   "metadata": {
    "colab": {
     "base_uri": "https://localhost:8080/"
    },
    "id": "tOv05fzxelIN",
    "outputId": "1e600fb1-3d76-43bb-fa11-69425e6fa9cc"
   },
   "outputs": [
    {
     "data": {
      "text/plain": [
       "LogisticRegression(C=19306.977288832535, max_iter=1000)"
      ]
     },
     "execution_count": 43,
     "metadata": {},
     "output_type": "execute_result"
    }
   ],
   "source": [
    "#fit Logistic Regression model after hyperparameter tuning\n",
    "log_model = LogisticRegression(max_iter = 1000, C = 19306.977288832535)\n",
    "log_model.fit(x_train, y_train)"
   ]
  },
  {
   "cell_type": "code",
   "execution_count": 44,
   "metadata": {
    "colab": {
     "base_uri": "https://localhost:8080/"
    },
    "id": "W5n5bzhieAcH",
    "outputId": "8e0848c2-e7ac-4273-bd24-a075b1ef0375"
   },
   "outputs": [
    {
     "name": "stdout",
     "output_type": "stream",
     "text": [
      "Training Accuracy:  81.6\n",
      "Test Accuracy:  81.88\n"
     ]
    }
   ],
   "source": [
    "#accuracy checking on new logistic regression model\n",
    "print('Training Accuracy: ', metrics.accuracy_score(y_train, log_model.predict(x_train))*100)\n",
    "print('Test Accuracy: ', metrics.accuracy_score(y_test, log_model.predict(x_test))*100)"
   ]
  },
  {
   "cell_type": "markdown",
   "metadata": {
    "id": "Ma6ssUoK5_2n"
   },
   "source": [
    "Akurasi model meningkat setelah dilakukan hyperparameter tuning walaupun tidak signifikan. Selain itu, model juga tetap tidak overfitting."
   ]
  },
  {
   "cell_type": "markdown",
   "metadata": {
    "id": "_WjplEs0iRpi"
   },
   "source": [
    "## Support Vector Classifier (SVC)"
   ]
  },
  {
   "cell_type": "code",
   "execution_count": 45,
   "metadata": {
    "colab": {
     "base_uri": "https://localhost:8080/"
    },
    "id": "D89E2y6rDDgx",
    "outputId": "bfb8092c-2a0f-4d7e-8ebe-106ab8cd9e1a"
   },
   "outputs": [
    {
     "data": {
      "text/plain": [
       "SVC(probability=True)"
      ]
     },
     "execution_count": 45,
     "metadata": {},
     "output_type": "execute_result"
    }
   ],
   "source": [
    "#fit model Support Vector Classifier\n",
    "svc = SVC(probability = True)\n",
    "svc.fit(x_train, y_train)"
   ]
  },
  {
   "cell_type": "code",
   "execution_count": 46,
   "metadata": {
    "colab": {
     "base_uri": "https://localhost:8080/"
    },
    "id": "4tngwQWw60VB",
    "outputId": "b02311e7-e4df-436f-a22d-987d55b469d2"
   },
   "outputs": [
    {
     "name": "stdout",
     "output_type": "stream",
     "text": [
      "Training Accuracy:  83.78666666666666\n",
      "Test Accuracy:  84.11999999999999\n"
     ]
    }
   ],
   "source": [
    "#cek akurasi model antara data training dan data test untuk melihat apakah model overfitting\n",
    "print('Training Accuracy: ', metrics.accuracy_score(y_train, svc.predict(x_train))*100)\n",
    "print('Test Accuracy: ', metrics.accuracy_score(y_test, svc.predict(x_test))*100)"
   ]
  },
  {
   "cell_type": "markdown",
   "metadata": {
    "id": "aXBA2e7v6-m5"
   },
   "source": [
    "Cek akurasi model menunjukkan model tidak mengalami overfitting, terlihat dari perbedaan nilai akurasi antara training dan test. Namun, perlu dicoba melakukan hyperparameter tuning agar model lebih akurat."
   ]
  },
  {
   "cell_type": "markdown",
   "metadata": {
    "id": "xSxY78UiAAij"
   },
   "source": [
    "### Hyperparameter Tuning"
   ]
  },
  {
   "cell_type": "markdown",
   "metadata": {
    "id": "Ad6Y8CaGBbGy"
   },
   "source": [
    "Mencari nilai parameter yang optimal untuk model agara akurasinya meningkat."
   ]
  },
  {
   "cell_type": "code",
   "execution_count": 47,
   "metadata": {
    "colab": {
     "base_uri": "https://localhost:8080/"
    },
    "id": "Fdf5ugTOw6Ja",
    "outputId": "1d93f1d1-5a46-4568-9360-bd9fcee8317c"
   },
   "outputs": [
    {
     "name": "stdout",
     "output_type": "stream",
     "text": [
      "Fitting 5 folds for each of 25 candidates, totalling 125 fits\n",
      "[CV 1/5] END ........C=0.1, gamma=1, kernel=rbf;, score=0.794 total time=   7.0s\n",
      "[CV 2/5] END ........C=0.1, gamma=1, kernel=rbf;, score=0.795 total time=   6.8s\n",
      "[CV 3/5] END ........C=0.1, gamma=1, kernel=rbf;, score=0.793 total time=   6.8s\n",
      "[CV 4/5] END ........C=0.1, gamma=1, kernel=rbf;, score=0.793 total time=   6.8s\n",
      "[CV 5/5] END ........C=0.1, gamma=1, kernel=rbf;, score=0.793 total time=   6.9s\n",
      "[CV 1/5] END ......C=0.1, gamma=0.1, kernel=rbf;, score=0.793 total time=   6.7s\n",
      "[CV 2/5] END ......C=0.1, gamma=0.1, kernel=rbf;, score=0.793 total time=   6.5s\n",
      "[CV 3/5] END ......C=0.1, gamma=0.1, kernel=rbf;, score=0.793 total time=   6.6s\n",
      "[CV 4/5] END ......C=0.1, gamma=0.1, kernel=rbf;, score=0.793 total time=   6.6s\n",
      "[CV 5/5] END ......C=0.1, gamma=0.1, kernel=rbf;, score=0.793 total time=   6.6s\n",
      "[CV 1/5] END .....C=0.1, gamma=0.01, kernel=rbf;, score=0.793 total time=   5.7s\n",
      "[CV 2/5] END .....C=0.1, gamma=0.01, kernel=rbf;, score=0.793 total time=   5.6s\n",
      "[CV 3/5] END .....C=0.1, gamma=0.01, kernel=rbf;, score=0.793 total time=   5.6s\n",
      "[CV 4/5] END .....C=0.1, gamma=0.01, kernel=rbf;, score=0.793 total time=   5.6s\n",
      "[CV 5/5] END .....C=0.1, gamma=0.01, kernel=rbf;, score=0.793 total time=   5.7s\n",
      "[CV 1/5] END ....C=0.1, gamma=0.001, kernel=rbf;, score=0.793 total time=   5.4s\n",
      "[CV 2/5] END ....C=0.1, gamma=0.001, kernel=rbf;, score=0.793 total time=   5.4s\n",
      "[CV 3/5] END ....C=0.1, gamma=0.001, kernel=rbf;, score=0.793 total time=   5.4s\n",
      "[CV 4/5] END ....C=0.1, gamma=0.001, kernel=rbf;, score=0.793 total time=   5.5s\n",
      "[CV 5/5] END ....C=0.1, gamma=0.001, kernel=rbf;, score=0.793 total time=   5.4s\n",
      "[CV 1/5] END ...C=0.1, gamma=0.0001, kernel=rbf;, score=0.793 total time=   5.2s\n",
      "[CV 2/5] END ...C=0.1, gamma=0.0001, kernel=rbf;, score=0.793 total time=   5.1s\n",
      "[CV 3/5] END ...C=0.1, gamma=0.0001, kernel=rbf;, score=0.793 total time=   5.2s\n",
      "[CV 4/5] END ...C=0.1, gamma=0.0001, kernel=rbf;, score=0.793 total time=   5.2s\n",
      "[CV 5/5] END ...C=0.1, gamma=0.0001, kernel=rbf;, score=0.793 total time=   5.1s\n",
      "[CV 1/5] END ..........C=1, gamma=1, kernel=rbf;, score=0.841 total time=   7.0s\n",
      "[CV 2/5] END ..........C=1, gamma=1, kernel=rbf;, score=0.825 total time=   6.9s\n",
      "[CV 3/5] END ..........C=1, gamma=1, kernel=rbf;, score=0.837 total time=   6.8s\n",
      "[CV 4/5] END ..........C=1, gamma=1, kernel=rbf;, score=0.834 total time=   6.8s\n",
      "[CV 5/5] END ..........C=1, gamma=1, kernel=rbf;, score=0.833 total time=   8.1s\n",
      "[CV 1/5] END ........C=1, gamma=0.1, kernel=rbf;, score=0.793 total time=   7.1s\n",
      "[CV 2/5] END ........C=1, gamma=0.1, kernel=rbf;, score=0.799 total time=   6.4s\n",
      "[CV 3/5] END ........C=1, gamma=0.1, kernel=rbf;, score=0.792 total time=   6.7s\n",
      "[CV 4/5] END ........C=1, gamma=0.1, kernel=rbf;, score=0.793 total time=   6.6s\n",
      "[CV 5/5] END ........C=1, gamma=0.1, kernel=rbf;, score=0.794 total time=   6.6s\n",
      "[CV 1/5] END .......C=1, gamma=0.01, kernel=rbf;, score=0.793 total time=   7.0s\n",
      "[CV 2/5] END .......C=1, gamma=0.01, kernel=rbf;, score=0.793 total time=   6.9s\n",
      "[CV 3/5] END .......C=1, gamma=0.01, kernel=rbf;, score=0.793 total time=   7.0s\n",
      "[CV 4/5] END .......C=1, gamma=0.01, kernel=rbf;, score=0.793 total time=   6.8s\n",
      "[CV 5/5] END .......C=1, gamma=0.01, kernel=rbf;, score=0.793 total time=   6.9s\n",
      "[CV 1/5] END ......C=1, gamma=0.001, kernel=rbf;, score=0.793 total time=   5.5s\n",
      "[CV 2/5] END ......C=1, gamma=0.001, kernel=rbf;, score=0.793 total time=   5.4s\n",
      "[CV 3/5] END ......C=1, gamma=0.001, kernel=rbf;, score=0.793 total time=   5.4s\n",
      "[CV 4/5] END ......C=1, gamma=0.001, kernel=rbf;, score=0.793 total time=   5.5s\n",
      "[CV 5/5] END ......C=1, gamma=0.001, kernel=rbf;, score=0.793 total time=   5.5s\n",
      "[CV 1/5] END .....C=1, gamma=0.0001, kernel=rbf;, score=0.793 total time=   5.4s\n",
      "[CV 2/5] END .....C=1, gamma=0.0001, kernel=rbf;, score=0.793 total time=   5.5s\n",
      "[CV 3/5] END .....C=1, gamma=0.0001, kernel=rbf;, score=0.793 total time=   5.4s\n",
      "[CV 4/5] END .....C=1, gamma=0.0001, kernel=rbf;, score=0.793 total time=   5.4s\n",
      "[CV 5/5] END .....C=1, gamma=0.0001, kernel=rbf;, score=0.793 total time=   5.3s\n",
      "[CV 1/5] END .........C=10, gamma=1, kernel=rbf;, score=0.861 total time=   7.6s\n",
      "[CV 2/5] END .........C=10, gamma=1, kernel=rbf;, score=0.839 total time=   7.6s\n",
      "[CV 3/5] END .........C=10, gamma=1, kernel=rbf;, score=0.834 total time=   7.6s\n",
      "[CV 4/5] END .........C=10, gamma=1, kernel=rbf;, score=0.837 total time=   7.7s\n",
      "[CV 5/5] END .........C=10, gamma=1, kernel=rbf;, score=0.846 total time=   7.7s\n",
      "[CV 1/5] END .......C=10, gamma=0.1, kernel=rbf;, score=0.849 total time=   7.0s\n",
      "[CV 2/5] END .......C=10, gamma=0.1, kernel=rbf;, score=0.831 total time=   6.6s\n",
      "[CV 3/5] END .......C=10, gamma=0.1, kernel=rbf;, score=0.840 total time=   6.7s\n",
      "[CV 4/5] END .......C=10, gamma=0.1, kernel=rbf;, score=0.839 total time=   6.6s\n",
      "[CV 5/5] END .......C=10, gamma=0.1, kernel=rbf;, score=0.833 total time=   6.8s\n",
      "[CV 1/5] END ......C=10, gamma=0.01, kernel=rbf;, score=0.793 total time=   8.0s\n",
      "[CV 2/5] END ......C=10, gamma=0.01, kernel=rbf;, score=0.793 total time=   8.3s\n",
      "[CV 3/5] END ......C=10, gamma=0.01, kernel=rbf;, score=0.793 total time=   8.8s\n",
      "[CV 4/5] END ......C=10, gamma=0.01, kernel=rbf;, score=0.793 total time=   7.8s\n",
      "[CV 5/5] END ......C=10, gamma=0.01, kernel=rbf;, score=0.793 total time=   7.9s\n",
      "[CV 1/5] END .....C=10, gamma=0.001, kernel=rbf;, score=0.793 total time=   6.2s\n",
      "[CV 2/5] END .....C=10, gamma=0.001, kernel=rbf;, score=0.793 total time=   6.5s\n",
      "[CV 3/5] END .....C=10, gamma=0.001, kernel=rbf;, score=0.793 total time=   6.3s\n",
      "[CV 4/5] END .....C=10, gamma=0.001, kernel=rbf;, score=0.793 total time=   6.4s\n",
      "[CV 5/5] END .....C=10, gamma=0.001, kernel=rbf;, score=0.793 total time=   6.2s\n",
      "[CV 1/5] END ....C=10, gamma=0.0001, kernel=rbf;, score=0.793 total time=   5.4s\n",
      "[CV 2/5] END ....C=10, gamma=0.0001, kernel=rbf;, score=0.793 total time=   5.5s\n",
      "[CV 3/5] END ....C=10, gamma=0.0001, kernel=rbf;, score=0.793 total time=   5.4s\n",
      "[CV 4/5] END ....C=10, gamma=0.0001, kernel=rbf;, score=0.793 total time=   5.4s\n",
      "[CV 5/5] END ....C=10, gamma=0.0001, kernel=rbf;, score=0.793 total time=   5.5s\n",
      "[CV 1/5] END ........C=100, gamma=1, kernel=rbf;, score=0.836 total time=  13.1s\n",
      "[CV 2/5] END ........C=100, gamma=1, kernel=rbf;, score=0.819 total time=  13.1s\n",
      "[CV 3/5] END ........C=100, gamma=1, kernel=rbf;, score=0.816 total time=  13.1s\n",
      "[CV 4/5] END ........C=100, gamma=1, kernel=rbf;, score=0.821 total time=  13.1s\n",
      "[CV 5/5] END ........C=100, gamma=1, kernel=rbf;, score=0.831 total time=  13.0s\n",
      "[CV 1/5] END ......C=100, gamma=0.1, kernel=rbf;, score=0.867 total time=   9.1s\n",
      "[CV 2/5] END ......C=100, gamma=0.1, kernel=rbf;, score=0.847 total time=   8.9s\n",
      "[CV 3/5] END ......C=100, gamma=0.1, kernel=rbf;, score=0.850 total time=   8.9s\n",
      "[CV 4/5] END ......C=100, gamma=0.1, kernel=rbf;, score=0.851 total time=   8.7s\n",
      "[CV 5/5] END ......C=100, gamma=0.1, kernel=rbf;, score=0.847 total time=   9.1s\n",
      "[CV 1/5] END .....C=100, gamma=0.01, kernel=rbf;, score=0.803 total time=   7.9s\n",
      "[CV 2/5] END .....C=100, gamma=0.01, kernel=rbf;, score=0.810 total time=   8.7s\n",
      "[CV 3/5] END .....C=100, gamma=0.01, kernel=rbf;, score=0.802 total time=   7.9s\n",
      "[CV 4/5] END .....C=100, gamma=0.01, kernel=rbf;, score=0.805 total time=   7.7s\n",
      "[CV 5/5] END .....C=100, gamma=0.01, kernel=rbf;, score=0.805 total time=   7.5s\n",
      "[CV 1/5] END ....C=100, gamma=0.001, kernel=rbf;, score=0.793 total time=  10.2s\n",
      "[CV 2/5] END ....C=100, gamma=0.001, kernel=rbf;, score=0.793 total time=   9.4s\n",
      "[CV 3/5] END ....C=100, gamma=0.001, kernel=rbf;, score=0.793 total time=  10.0s\n",
      "[CV 4/5] END ....C=100, gamma=0.001, kernel=rbf;, score=0.793 total time=   9.8s\n",
      "[CV 5/5] END ....C=100, gamma=0.001, kernel=rbf;, score=0.793 total time=   9.8s\n",
      "[CV 1/5] END ...C=100, gamma=0.0001, kernel=rbf;, score=0.793 total time=   5.6s\n",
      "[CV 2/5] END ...C=100, gamma=0.0001, kernel=rbf;, score=0.793 total time=   5.8s\n",
      "[CV 3/5] END ...C=100, gamma=0.0001, kernel=rbf;, score=0.793 total time=   5.7s\n",
      "[CV 4/5] END ...C=100, gamma=0.0001, kernel=rbf;, score=0.793 total time=   5.6s\n",
      "[CV 5/5] END ...C=100, gamma=0.0001, kernel=rbf;, score=0.793 total time=   5.6s\n",
      "[CV 1/5] END .......C=1000, gamma=1, kernel=rbf;, score=0.808 total time=  37.9s\n",
      "[CV 2/5] END .......C=1000, gamma=1, kernel=rbf;, score=0.786 total time=  33.9s\n",
      "[CV 3/5] END .......C=1000, gamma=1, kernel=rbf;, score=0.786 total time=  37.0s\n",
      "[CV 4/5] END .......C=1000, gamma=1, kernel=rbf;, score=0.779 total time=  36.6s\n",
      "[CV 5/5] END .......C=1000, gamma=1, kernel=rbf;, score=0.784 total time=  35.2s\n",
      "[CV 1/5] END .....C=1000, gamma=0.1, kernel=rbf;, score=0.868 total time=  21.3s\n",
      "[CV 2/5] END .....C=1000, gamma=0.1, kernel=rbf;, score=0.841 total time=  21.4s\n",
      "[CV 3/5] END .....C=1000, gamma=0.1, kernel=rbf;, score=0.847 total time=  21.3s\n",
      "[CV 4/5] END .....C=1000, gamma=0.1, kernel=rbf;, score=0.849 total time=  20.7s\n",
      "[CV 5/5] END .....C=1000, gamma=0.1, kernel=rbf;, score=0.849 total time=  21.2s\n",
      "[CV 1/5] END ....C=1000, gamma=0.01, kernel=rbf;, score=0.857 total time=  10.5s\n",
      "[CV 2/5] END ....C=1000, gamma=0.01, kernel=rbf;, score=0.835 total time=   9.8s\n",
      "[CV 3/5] END ....C=1000, gamma=0.01, kernel=rbf;, score=0.845 total time=  11.8s\n",
      "[CV 4/5] END ....C=1000, gamma=0.01, kernel=rbf;, score=0.847 total time=  10.0s\n",
      "[CV 5/5] END ....C=1000, gamma=0.01, kernel=rbf;, score=0.840 total time=  10.1s\n",
      "[CV 1/5] END ...C=1000, gamma=0.001, kernel=rbf;, score=0.793 total time=  12.2s\n",
      "[CV 2/5] END ...C=1000, gamma=0.001, kernel=rbf;, score=0.793 total time=  10.8s\n",
      "[CV 3/5] END ...C=1000, gamma=0.001, kernel=rbf;, score=0.793 total time=  11.9s\n",
      "[CV 4/5] END ...C=1000, gamma=0.001, kernel=rbf;, score=0.793 total time=  11.2s\n",
      "[CV 5/5] END ...C=1000, gamma=0.001, kernel=rbf;, score=0.793 total time=  11.0s\n",
      "[CV 1/5] END ..C=1000, gamma=0.0001, kernel=rbf;, score=0.793 total time=  10.6s\n",
      "[CV 2/5] END ..C=1000, gamma=0.0001, kernel=rbf;, score=0.793 total time=   9.6s\n",
      "[CV 3/5] END ..C=1000, gamma=0.0001, kernel=rbf;, score=0.793 total time=  10.3s\n",
      "[CV 4/5] END ..C=1000, gamma=0.0001, kernel=rbf;, score=0.793 total time=  10.2s\n",
      "[CV 5/5] END ..C=1000, gamma=0.0001, kernel=rbf;, score=0.793 total time=  10.1s\n",
      "Tuned Support Vector Classifier Parameters: {'C': 100, 'gamma': 0.1, 'kernel': 'rbf'}\n",
      "Best score is 0.8524\n"
     ]
    }
   ],
   "source": [
    "#import library\n",
    "from sklearn.model_selection import GridSearchCV\n",
    "\n",
    "#creating the hyperparameter grid\n",
    "param_grid = {'gamma': [1, 0.1, 0.01, 0.001, 0.0001],\n",
    "              'C': [0.1, 1, 10, 100, 1000],\n",
    "              'kernel': ['rbf']}\n",
    "\n",
    "#instantiating SVC classifier\n",
    "svc1 = SVC(probability = True)\n",
    "\n",
    "#instantiating the GridSearchCV object\n",
    "svc1_cv = GridSearchCV(svc1, param_grid, refit = True, verbose = 3)\n",
    "\n",
    "svc1_cv.fit(x_train, y_train)\n",
    "\n",
    "#print the tuned parameters and score\n",
    "print(\"Tuned Support Vector Classifier Parameters: {}\".format(svc1_cv.best_params_))\n",
    "print(\"Best score is {}\".format(svc1_cv.best_score_))"
   ]
  },
  {
   "cell_type": "code",
   "execution_count": 48,
   "metadata": {
    "colab": {
     "base_uri": "https://localhost:8080/"
    },
    "id": "TiZlPlRm301H",
    "outputId": "7acb97a0-389b-44bd-afa3-ba130d882daf"
   },
   "outputs": [
    {
     "data": {
      "text/plain": [
       "SVC(C=100, gamma=0.1, probability=True)"
      ]
     },
     "execution_count": 48,
     "metadata": {},
     "output_type": "execute_result"
    }
   ],
   "source": [
    "#fit Support Vector Classifier model after hyperparameter tuning\n",
    "#rbf adalah default kernel untuk SVC\n",
    "svc_model = SVC(C=100, gamma=0.1, probability=True)\n",
    "svc_model.fit(x_train, y_train)"
   ]
  },
  {
   "cell_type": "code",
   "execution_count": 49,
   "metadata": {
    "colab": {
     "base_uri": "https://localhost:8080/"
    },
    "id": "h8arFFRGvixp",
    "outputId": "87e9d0fd-38b9-4d9c-fc7c-53227079aa7d"
   },
   "outputs": [
    {
     "name": "stdout",
     "output_type": "stream",
     "text": [
      "Training Accuracy:  85.84\n",
      "Test Accuracy:  86.08\n"
     ]
    }
   ],
   "source": [
    "#accuracy checking on new SVC model\n",
    "print('Training Accuracy: ', metrics.accuracy_score(y_train, svc_model.predict(x_train))*100)\n",
    "print('Test Accuracy: ', metrics.accuracy_score(y_test, svc_model.predict(x_test))*100)"
   ]
  },
  {
   "cell_type": "markdown",
   "metadata": {
    "id": "riDLN2Tx_p45"
   },
   "source": [
    "Setelah dilakukan hyperparameter tuning, model pada training dan test keduanya meningkat akurasinya sekitar 2%."
   ]
  },
  {
   "cell_type": "markdown",
   "metadata": {
    "id": "93hk3z-giXX8"
   },
   "source": [
    "## Random Forest"
   ]
  },
  {
   "cell_type": "code",
   "execution_count": 50,
   "metadata": {
    "colab": {
     "base_uri": "https://localhost:8080/"
    },
    "id": "PNWcoNl9DLdK",
    "outputId": "78d394b6-134f-477a-f6e4-0e649dd88f72"
   },
   "outputs": [
    {
     "data": {
      "text/plain": [
       "RandomForestClassifier()"
      ]
     },
     "execution_count": 50,
     "metadata": {},
     "output_type": "execute_result"
    }
   ],
   "source": [
    "#fit model Random Forest\n",
    "rf = RandomForestClassifier()\n",
    "rf.fit(x_train, y_train)"
   ]
  },
  {
   "cell_type": "code",
   "execution_count": 51,
   "metadata": {
    "colab": {
     "base_uri": "https://localhost:8080/"
    },
    "id": "NiOqXw4UsiF0",
    "outputId": "ba6241a6-1885-4f1c-aa93-ac3f547d357a"
   },
   "outputs": [
    {
     "name": "stdout",
     "output_type": "stream",
     "text": [
      "Training Accuracy:  99.98666666666666\n",
      "Test Accuracy:  86.44\n"
     ]
    }
   ],
   "source": [
    "#cek akurasi model antara data training dan data test untuk melihat apakah model overfitting\n",
    "print('Training Accuracy: ', metrics.accuracy_score(y_train, rf.predict(x_train))*100)\n",
    "print('Test Accuracy: ', metrics.accuracy_score(y_test, rf.predict(x_test))*100)"
   ]
  },
  {
   "cell_type": "markdown",
   "metadata": {
    "id": "Q0PntghV-ERL"
   },
   "source": [
    "Setelah dilakukan cek akurasi model, terlihat jelas bahwa model overfit. Maka dari itu perlu dilakukan evaluasi untuk mengetahui di kedalaman berapa model ini overfit."
   ]
  },
  {
   "cell_type": "markdown",
   "metadata": {
    "id": "tNaSKAXSATu-"
   },
   "source": [
    "### Evaluate Overfitting"
   ]
  },
  {
   "cell_type": "code",
   "execution_count": 52,
   "metadata": {
    "id": "omccKNE50K8-"
   },
   "outputs": [],
   "source": [
    "#Evaluate Overfitting\n",
    "values = [i for i in range(1,16)]\n",
    "train_scores = []\n",
    "test_scores = []"
   ]
  },
  {
   "cell_type": "code",
   "execution_count": 53,
   "metadata": {
    "colab": {
     "base_uri": "https://localhost:8080/"
    },
    "id": "aiA-JSp20MXN",
    "outputId": "2762d1e0-c447-41f6-86ed-2e3763a00df0"
   },
   "outputs": [
    {
     "name": "stdout",
     "output_type": "stream",
     "text": [
      ">1, train: 0.793, test: 0.807\n",
      ">2, train: 0.807, test: 0.821\n",
      ">3, train: 0.821, test: 0.828\n",
      ">4, train: 0.844, test: 0.851\n",
      ">5, train: 0.858, test: 0.861\n",
      ">6, train: 0.868, test: 0.865\n",
      ">7, train: 0.876, test: 0.864\n",
      ">8, train: 0.883, test: 0.866\n",
      ">9, train: 0.894, test: 0.867\n",
      ">10, train: 0.908, test: 0.868\n",
      ">11, train: 0.922, test: 0.870\n",
      ">12, train: 0.940, test: 0.867\n",
      ">13, train: 0.957, test: 0.868\n",
      ">14, train: 0.973, test: 0.867\n",
      ">15, train: 0.988, test: 0.866\n"
     ]
    }
   ],
   "source": [
    "#evaluate a random forest for each depth\n",
    "for i in values:\n",
    "\t#configure the model\n",
    "\trf = RandomForestClassifier(max_depth=i)\n",
    "\t#fit model on the training dataset\n",
    "\trf.fit(x_train, y_train)\n",
    "\t#evaluate on the train dataset\n",
    "\ttrain_yhat = rf.predict(x_train)\n",
    "\ttrain_acc = accuracy_score(y_train, train_yhat)\n",
    "\ttrain_scores.append(train_acc)\n",
    "\t#evaluate on the test dataset\n",
    "\ttest_yhat = rf.predict(x_test)\n",
    "\ttest_acc = accuracy_score(y_test, test_yhat)\n",
    "\ttest_scores.append(test_acc)\n",
    "\t#summarize progress\n",
    "\tprint('>%d, train: %.3f, test: %.3f' % (i, train_acc, test_acc))"
   ]
  },
  {
   "cell_type": "code",
   "execution_count": 54,
   "metadata": {
    "colab": {
     "base_uri": "https://localhost:8080/",
     "height": 265
    },
    "id": "aObd0OoY0uVs",
    "outputId": "4c442b65-7a06-4064-f801-1c73d885c267"
   },
   "outputs": [
    {
     "data": {
      "image/png": "[encoded data removed]",
      "text/plain": [
       "<Figure size 432x288 with 1 Axes>"
      ]
     },
     "metadata": {
      "needs_background": "light"
     },
     "output_type": "display_data"
    }
   ],
   "source": [
    "# plot of train and test scores vs tree depth\n",
    "plt.plot(values, train_scores, '-o', label='Train', color = 'salmon')\n",
    "plt.plot(values, test_scores, '-o', label='Test', color = 'cyan')\n",
    "plt.legend()\n",
    "plt.show()"
   ]
  },
  {
   "cell_type": "markdown",
   "metadata": {
    "id": "uHMd08q4AuRy"
   },
   "source": [
    "Dari evaluasi yang dilakukan, didapatkan bahwa model berpotensi overfitting pada kedalaman >6. Maka, untuk selanjutnya pada model akan diterapkan parameter max_depth = 6."
   ]
  },
  {
   "cell_type": "markdown",
   "metadata": {
    "id": "TdyHkNFLBDz6"
   },
   "source": [
    "### Hyperparameter Tuning"
   ]
  },
  {
   "cell_type": "markdown",
   "metadata": {
    "id": "SzmoKDerBH6g"
   },
   "source": [
    "Selain parameter kedalaman model (max_depth), lakukan hyperparameter tuning untuk mendapatkan parameter optimal lainnya agar akurasi model lebih baik."
   ]
  },
  {
   "cell_type": "code",
   "execution_count": 55,
   "metadata": {
    "colab": {
     "base_uri": "https://localhost:8080/"
    },
    "id": "qzFRJFvyo4E4",
    "outputId": "00d82620-b93a-43cf-bf91-cdc30782b412"
   },
   "outputs": [
    {
     "name": "stdout",
     "output_type": "stream",
     "text": [
      "Tuned Random Forest Parameters: {'max_features': 'sqrt', 'min_samples_leaf': 10, 'min_samples_split': 9, 'n_estimators': 419}\n",
      "Best score is 0.8601333333333333\n"
     ]
    }
   ],
   "source": [
    "#import library\n",
    "#from scipy.stats import randint\n",
    "#from sklearn.model_selection import RandomizedSearchCV\n",
    "\n",
    "#creating the hyperparameter grid\n",
    "#random_grid = {'max_features': ['auto', 'sqrt'],\n",
    "              #'min_samples_leaf': randint(1, 11),\n",
    "              #'min_samples_split': randint(2, 11),\n",
    "              #'n_estimators': randint(100, 1001)}             \n",
    "\n",
    "#instantiating Random Forest classifier\n",
    "#rf1 = RandomForestClassifier()\n",
    "\n",
    "#instantiating RandomizedSearchCV object\n",
    "#rf1_cv = RandomizedSearchCV(rf1, random_grid, cv = 5, random_state = 1)\n",
    "\n",
    "#rf1_cv.fit(x_train, y_train)\n",
    "\n",
    "#print the tuned parameters and score\n",
    "#print(\"Tuned Random Forest Parameters: {}\".format(rf1_cv.best_params_))\n",
    "#print(\"Best score is {}\".format(rf1_cv.best_score_))"
   ]
  },
  {
   "cell_type": "code",
   "execution_count": 56,
   "metadata": {
    "colab": {
     "base_uri": "https://localhost:8080/"
    },
    "id": "5mdZiku_s4pG",
    "outputId": "93ffc7a4-2c9d-49fd-be66-a5712277b4e2"
   },
   "outputs": [
    {
     "data": {
      "text/plain": [
       "RandomForestClassifier(max_depth=6, max_features='sqrt', min_samples_leaf=10,\n",
       "                       min_samples_split=9, n_estimators=419, random_state=1)"
      ]
     },
     "execution_count": 56,
     "metadata": {},
     "output_type": "execute_result"
    }
   ],
   "source": [
    "#fit Random Forest model after hyperparameter tuning\n",
    "rf_model = RandomForestClassifier(max_depth = 6, max_features = 'sqrt', min_samples_leaf = 10,\n",
    "                                  min_samples_split = 9, n_estimators = 419, random_state = 1)\n",
    "rf_model.fit(x_train, y_train)"
   ]
  },
  {
   "cell_type": "code",
   "execution_count": 57,
   "metadata": {
    "colab": {
     "base_uri": "https://localhost:8080/"
    },
    "id": "LdcmSjlXtOpn",
    "outputId": "d8889016-9802-4c60-bca3-02c35ac772b9"
   },
   "outputs": [
    {
     "name": "stdout",
     "output_type": "stream",
     "text": [
      "Training Accuracy:  86.34666666666668\n",
      "Test Accuracy:  86.28\n"
     ]
    }
   ],
   "source": [
    "#accuracy checking on new Random Forest model\n",
    "print('Training Accuracy: ', metrics.accuracy_score(y_train, rf_model.predict(x_train))*100)\n",
    "print('Test Accuracy: ', metrics.accuracy_score(y_test, rf_model.predict(x_test))*100)"
   ]
  },
  {
   "cell_type": "markdown",
   "metadata": {
    "id": "uk0RrZvQDgQG"
   },
   "source": [
    "Setelah melakukan hyperparameter tuning, akurasi model menurun 13% pada dataset training dan 0.2% pada dataset test. Namun, dari hasil evaluasi maka model sudah tidak overfitting sehingga bisa diharapkan lebih baik performanya."
   ]
  },
  {
   "cell_type": "markdown",
   "metadata": {
    "id": "pB5qx_kEs0kD"
   },
   "source": [
    "## KNN"
   ]
  },
  {
   "cell_type": "code",
   "execution_count": 58,
   "metadata": {
    "colab": {
     "base_uri": "https://localhost:8080/"
    },
    "id": "8gI4hVqxs5IB",
    "outputId": "f1aec412-79cd-4881-8bb7-2087e92ab525"
   },
   "outputs": [
    {
     "data": {
      "text/plain": [
       "KNeighborsClassifier()"
      ]
     },
     "execution_count": 58,
     "metadata": {},
     "output_type": "execute_result"
    }
   ],
   "source": [
    "#fit model KNN\n",
    "knn = KNeighborsClassifier(n_neighbors=5)\n",
    "knn.fit(x_train, y_train)"
   ]
  },
  {
   "cell_type": "code",
   "execution_count": 59,
   "metadata": {
    "colab": {
     "base_uri": "https://localhost:8080/"
    },
    "id": "MaGA8FkIFH57",
    "outputId": "812b661a-82c1-451b-f4c9-fbe58b3d1279"
   },
   "outputs": [
    {
     "name": "stdout",
     "output_type": "stream",
     "text": [
      "Training Accuracy:  86.33333333333333\n",
      "Test Accuracy:  82.32000000000001\n"
     ]
    }
   ],
   "source": [
    "#cek akurasi model antara data training dan data test untuk melihat apakah model overfitting\n",
    "print('Training Accuracy: ', metrics.accuracy_score(y_train, knn.predict(x_train))*100)\n",
    "print('Test Accuracy: ', metrics.accuracy_score(y_test, knn.predict(x_test))*100)"
   ]
  },
  {
   "cell_type": "markdown",
   "metadata": {
    "id": "3Y1s2ekJFSW5"
   },
   "source": [
    "Dari cek akurasi model yang dilakukan terlihat perbedaan kecil antara model training dan model test. Masih bisa dianggap aman dari overfitting."
   ]
  },
  {
   "cell_type": "markdown",
   "metadata": {
    "id": "QNO0zb7RFvxF"
   },
   "source": [
    "### Hyperparameter Tuning"
   ]
  },
  {
   "cell_type": "markdown",
   "metadata": {
    "id": "j5EPzxGvF2vY"
   },
   "source": [
    "Dengan melakukan hyperparameter tuning pada model ini diharapkan didapatkan parameter yang optimal untuk meningkatakan akurasi model dan mengurangi lagi tingkat perbedaan akurasinya antara dataset training dan dataset test."
   ]
  },
  {
   "cell_type": "code",
   "execution_count": 60,
   "metadata": {
    "id": "1VnHJenMzYmv"
   },
   "outputs": [],
   "source": [
    "from sklearn.model_selection import cross_val_score\n",
    "#from sklearn.model_selection import cross_val_predict"
   ]
  },
  {
   "cell_type": "code",
   "execution_count": 61,
   "metadata": {
    "id": "VcOVk_B0zQgR"
   },
   "outputs": [],
   "source": [
    "k_range = range(1,10)\n",
    "k_score = []\n",
    "\n",
    "for k in k_range:\n",
    "  knn1 = KNeighborsClassifier(n_neighbors=k)\n",
    "  score = cross_val_score(knn1,x,y,cv=20, scoring=\"accuracy\")\n",
    "  k_score.append(score.mean())"
   ]
  },
  {
   "cell_type": "code",
   "execution_count": 62,
   "metadata": {
    "colab": {
     "base_uri": "https://localhost:8080/",
     "height": 279
    },
    "id": "3UsQOz9cza-f",
    "outputId": "ece9f098-022a-4718-bfda-15558c11a072"
   },
   "outputs": [
    {
     "data": {
      "image/png": "[encoded data removed]",
      "text/plain": [
       "<Figure size 432x288 with 1 Axes>"
      ]
     },
     "metadata": {
      "needs_background": "light"
     },
     "output_type": "display_data"
    }
   ],
   "source": [
    "import matplotlib.pyplot as plt\n",
    "\n",
    "plt.plot(k_range, k_score, color = 'indigo')\n",
    "plt.xlabel(\"Nomor K\")\n",
    "plt.ylabel(\"Score K\")\n",
    "plt.show()"
   ]
  },
  {
   "cell_type": "markdown",
   "metadata": {
    "id": "yvSXz3htGX8L"
   },
   "source": [
    "Dari hasil hyperparameter tuning, didapatkan parameter terbaik untuk model yaitu n_neighbors = 7. Dan karena jumlah data adalah 10000 yaitu genap, maka benar baiknya menggunakan n_neighbors yang bernilai ganjil."
   ]
  },
  {
   "cell_type": "code",
   "execution_count": 63,
   "metadata": {
    "colab": {
     "base_uri": "https://localhost:8080/"
    },
    "id": "S-Jcgsx_4RRB",
    "outputId": "14a2552a-74c1-4b86-e593-f82d1af91ca4"
   },
   "outputs": [
    {
     "data": {
      "text/plain": [
       "KNeighborsClassifier(n_neighbors=7)"
      ]
     },
     "execution_count": 63,
     "metadata": {},
     "output_type": "execute_result"
    }
   ],
   "source": [
    "#fit model KNN after hyperparameter tuning\n",
    "knn_model = KNeighborsClassifier(n_neighbors=7)\n",
    "knn_model.fit(x_train, y_train)"
   ]
  },
  {
   "cell_type": "code",
   "execution_count": 64,
   "metadata": {
    "colab": {
     "base_uri": "https://localhost:8080/"
    },
    "id": "6HcUqYc74f66",
    "outputId": "9b885bc8-62b7-4857-e5cd-3f60dfbcd5df"
   },
   "outputs": [
    {
     "name": "stdout",
     "output_type": "stream",
     "text": [
      "Training Accuracy:  85.2\n",
      "Test Accuracy:  83.12\n"
     ]
    }
   ],
   "source": [
    "#accuracy checking on new KNN model\n",
    "print('Training Accuracy: ', metrics.accuracy_score(y_train, knn_model.predict(x_train))*100)\n",
    "print('Test Accuracy: ', metrics.accuracy_score(y_test, knn_model.predict(x_test))*100)"
   ]
  },
  {
   "cell_type": "markdown",
   "metadata": {
    "id": "XQfLRSw_HehU"
   },
   "source": [
    "Setelah pada model diterapkan parameter baru, nilai akurasi berubah pada dataset training menurun 1.3% namun meningkat pada dataset test sekitar 0.9%. Berarti terjadi perbaikan performa model walaupun tidak signifikan."
   ]
  },
  {
   "cell_type": "markdown",
   "metadata": {
    "id": "QZflQYJwtZ8B"
   },
   "source": [
    "## Decision Tree"
   ]
  },
  {
   "cell_type": "code",
   "execution_count": 65,
   "metadata": {
    "colab": {
     "base_uri": "https://localhost:8080/"
    },
    "id": "sqMj_qE5tcSv",
    "outputId": "180edf1b-651b-4f54-e0a1-8a78160d5b98"
   },
   "outputs": [
    {
     "data": {
      "text/plain": [
       "DecisionTreeClassifier()"
      ]
     },
     "execution_count": 65,
     "metadata": {},
     "output_type": "execute_result"
    }
   ],
   "source": [
    "#fit model Decision Tree\n",
    "tree = DecisionTreeClassifier()\n",
    "tree.fit(x_train, y_train)"
   ]
  },
  {
   "cell_type": "code",
   "execution_count": 66,
   "metadata": {
    "colab": {
     "base_uri": "https://localhost:8080/"
    },
    "id": "6OW-GVPoJChD",
    "outputId": "7cacea4a-b4e8-4ca0-faf1-42a2d8e637c9"
   },
   "outputs": [
    {
     "name": "stdout",
     "output_type": "stream",
     "text": [
      "Training Accuracy:  86.33333333333333\n",
      "Test Accuracy:  82.32000000000001\n"
     ]
    }
   ],
   "source": [
    "#cek akurasi model antara data training dan data test untuk melihat apakah model overfitting\n",
    "print('Training Accuracy: ', metrics.accuracy_score(y_train, knn.predict(x_train))*100)\n",
    "print('Test Accuracy: ', metrics.accuracy_score(y_test, knn.predict(x_test))*100)"
   ]
  },
  {
   "cell_type": "markdown",
   "metadata": {
    "id": "FLVKfbCaJGQQ"
   },
   "source": [
    "Tes akurasi pada model sudah terlihat baik, namun masih ada perbedaan kecil yang muungkin berpotensi ke overfitting (karena model Decision Tree rawan mengalami overfitting)."
   ]
  },
  {
   "cell_type": "markdown",
   "metadata": {
    "id": "LIbR6K14JqsK"
   },
   "source": [
    "### Evaluate Overfitting"
   ]
  },
  {
   "cell_type": "code",
   "execution_count": 67,
   "metadata": {
    "id": "FgbcxOL7i5-L"
   },
   "outputs": [],
   "source": [
    "#Evaluate Overfitting\n",
    "values = [i for i in range(1,11)]\n",
    "train_scores = []\n",
    "test_scores = []"
   ]
  },
  {
   "cell_type": "code",
   "execution_count": 68,
   "metadata": {
    "colab": {
     "base_uri": "https://localhost:8080/"
    },
    "id": "_FH5f71fi_tW",
    "outputId": "8e214ebf-645d-444b-f32e-115735020e04"
   },
   "outputs": [
    {
     "name": "stdout",
     "output_type": "stream",
     "text": [
      ">1, train: 0.793, test: 0.807\n",
      ">2, train: 0.827, test: 0.835\n",
      ">3, train: 0.838, test: 0.846\n",
      ">4, train: 0.849, test: 0.857\n",
      ">5, train: 0.857, test: 0.857\n",
      ">6, train: 0.868, test: 0.862\n",
      ">7, train: 0.873, test: 0.858\n",
      ">8, train: 0.882, test: 0.858\n",
      ">9, train: 0.895, test: 0.848\n",
      ">10, train: 0.909, test: 0.840\n"
     ]
    }
   ],
   "source": [
    "#evaluate a decision tree for each depth\n",
    "for i in values:\n",
    "\t#configure the model\n",
    "\ttree = DecisionTreeClassifier(max_depth=i)\n",
    "\t#fit model on the training dataset\n",
    "\ttree.fit(x_train, y_train)\n",
    "\t#evaluate on the train dataset\n",
    "\ttrain_yhat = tree.predict(x_train)\n",
    "\ttrain_acc = accuracy_score(y_train, train_yhat)\n",
    "\ttrain_scores.append(train_acc)\n",
    "\t#evaluate on the test dataset\n",
    "\ttest_yhat = tree.predict(x_test)\n",
    "\ttest_acc = accuracy_score(y_test, test_yhat)\n",
    "\ttest_scores.append(test_acc)\n",
    "\t#summarize progress\n",
    "\tprint('>%d, train: %.3f, test: %.3f' % (i, train_acc, test_acc))"
   ]
  },
  {
   "cell_type": "code",
   "execution_count": 69,
   "metadata": {
    "colab": {
     "base_uri": "https://localhost:8080/",
     "height": 265
    },
    "id": "Ew_dMMnQjUFh",
    "outputId": "31fdcecc-9724-47fd-d439-a9695957b80f"
   },
   "outputs": [
    {
     "data": {
      "image/png": "[encoded data removed]",
      "text/plain": [
       "<Figure size 432x288 with 1 Axes>"
      ]
     },
     "metadata": {
      "needs_background": "light"
     },
     "output_type": "display_data"
    }
   ],
   "source": [
    "# plot of train and test scores vs tree depth\n",
    "plt.plot(values, train_scores, '-o', label='Train', color = 'salmon')\n",
    "plt.plot(values, test_scores, '-o', label='Test', color = 'cyan')\n",
    "plt.legend()\n",
    "plt.show()"
   ]
  },
  {
   "cell_type": "markdown",
   "metadata": {
    "id": "8FVP5-i1KHtp"
   },
   "source": [
    "Evaluasi model terhadap potensi overfitting pada model menunjukkan bahwa model akan cenderung overfitting di kedalaman max_depth > 5. Maka selanjutnya pada model akan diterapkan paramater tersebut dengan nilai optimalnya."
   ]
  },
  {
   "cell_type": "markdown",
   "metadata": {
    "id": "9fhsvWs3KjCZ"
   },
   "source": [
    "#Hyperparameter Tuning"
   ]
  },
  {
   "cell_type": "markdown",
   "metadata": {
    "id": "ItV2SEdaKm-H"
   },
   "source": [
    "Selain parameter max_depth (kedalaman), perlu menemukan parameter lain dengan nilai optimal agar model menghasilkan akurasi yang lebih baik."
   ]
  },
  {
   "cell_type": "code",
   "execution_count": 70,
   "metadata": {
    "colab": {
     "base_uri": "https://localhost:8080/"
    },
    "id": "1UAyxXy4h9lj",
    "outputId": "f193e618-caf2-4f73-8b6f-f0ba0f97478c"
   },
   "outputs": [
    {
     "name": "stdout",
     "output_type": "stream",
     "text": [
      "Tuned Decision Tree Parameters: {'criterion': 'gini', 'max_features': 8, 'min_samples_leaf': 6}\n",
      "Best score is 0.8296000000000001\n"
     ]
    }
   ],
   "source": [
    "#import library\n",
    "#from scipy.stats import randint\n",
    "#from sklearn.model_selection import RandomizedSearchCV\n",
    "\n",
    "#creating the hyperparameter grid\n",
    "#param_dist = {'max_features': randint(1, 9),\n",
    "              #'min_samples_leaf': randint(1, 9),\n",
    "              #'criterion': ['gini', 'entropy']}\n",
    "              \n",
    "#instantiating Decision Tree classifier\n",
    "#tree1 = DecisionTreeClassifier()\n",
    "\n",
    "#instantiating RandomizedSearchCV object\n",
    "#tree1_cv = RandomizedSearchCV(tree1, param_dist, cv = 5, random_state = 0)\n",
    "\n",
    "#tree1_cv.fit(x_train, y_train)\n",
    "\n",
    "#print the tuned parameters and score\n",
    "#print(\"Tuned Decision Tree Parameters: {}\".format(tree1_cv.best_params_))\n",
    "#print(\"Best score is {}\".format(tree1_cv.best_score_))\n"
   ]
  },
  {
   "cell_type": "code",
   "execution_count": 71,
   "metadata": {
    "colab": {
     "base_uri": "https://localhost:8080/"
    },
    "id": "FJknVOyEjxtg",
    "outputId": "41f63547-cefd-4e95-9e17-8dd939d6e877"
   },
   "outputs": [
    {
     "data": {
      "text/plain": [
       "DecisionTreeClassifier(max_depth=5, max_features=8, min_samples_leaf=6)"
      ]
     },
     "execution_count": 71,
     "metadata": {},
     "output_type": "execute_result"
    }
   ],
   "source": [
    "#fit model KNN after hyperparameter tunin\n",
    "tree_model = DecisionTreeClassifier(criterion = 'gini', max_depth = 5, max_features = 8, min_samples_leaf = 6)\n",
    "tree_model.fit(x_train, y_train)"
   ]
  },
  {
   "cell_type": "code",
   "execution_count": 72,
   "metadata": {
    "colab": {
     "base_uri": "https://localhost:8080/"
    },
    "id": "OGXGXTaRkKR7",
    "outputId": "aeee2c20-a042-49db-cf64-fcd9528ae6b5"
   },
   "outputs": [
    {
     "name": "stdout",
     "output_type": "stream",
     "text": [
      "Training Accuracy:  85.39999999999999\n",
      "Test Accuracy:  85.72\n"
     ]
    }
   ],
   "source": [
    "#accuracy checking on new Decision Tree model\n",
    "print('Training Accuracy: ', metrics.accuracy_score(y_train, tree_model.predict(x_train))*100)\n",
    "print('Test Accuracy: ', metrics.accuracy_score(y_test, tree_model.predict(x_test))*100)"
   ]
  },
  {
   "cell_type": "markdown",
   "metadata": {
    "id": "SlAY3A4UMSv7"
   },
   "source": [
    "Model dengan parameter baru menghasilkan nilai akurasi yang berbeda, yaitu pada dataset training menurun sekitar 2.8% dan pada dataset test meningkat sekitar 2.6%. Walaupun tidak signifikan, performa model menjadi lebih membaik."
   ]
  },
  {
   "cell_type": "markdown",
   "metadata": {
    "id": "pZzfuhNc73n4"
   },
   "source": [
    "# Evaluasi Model"
   ]
  },
  {
   "cell_type": "markdown",
   "metadata": {
    "id": "V0zVRCFy76WD"
   },
   "source": [
    "Accuracy - seberapa akurat model (prediksi yang benar dari semua data)\n",
    "\n",
    "Precision - seberapa baik prediksi label positif dari model\n",
    "\n",
    "Recall - seberapa baik kualitas model dalam memprediksi data yang positif\n",
    "\n",
    "F1-Score - harmonic mean (representatif) dari Precision dan Recall\n",
    "\n",
    "ROC-AUC - seberapa yakin model dalam prediksinya\n",
    "\n",
    "Note: kelas positif >> customer churn"
   ]
  },
  {
   "cell_type": "markdown",
   "metadata": {
    "id": "_AyMwhCH8tyF"
   },
   "source": [
    "Binary Classification: \n",
    "- kelas 1\n",
    "- kelas 0\n",
    "\n",
    "Memprediksi Probabilitas\n",
    "\n",
    "Threshold:\n",
    "- probabilitas menjadi kelas 1 di atas 50%, maka label 1\n",
    "- probabilitas menjadi kelas 1 di bawah 50%, maka label 0"
   ]
  },
  {
   "cell_type": "markdown",
   "metadata": {
    "id": "eIobWkSGPS-f"
   },
   "source": [
    "Evaluasi model yang dilakukan adalah menggunakan model setelah dilakukan hyperparameter tuning."
   ]
  },
  {
   "cell_type": "code",
   "execution_count": 74,
   "metadata": {
    "id": "yuMfKJ9U75KR"
   },
   "outputs": [],
   "source": [
    "from sklearn.metrics import accuracy_score\n",
    "from sklearn.metrics import precision_score\n",
    "from sklearn.metrics import recall_score\n",
    "from sklearn.metrics import f1_score\n",
    "from sklearn.metrics import roc_auc_score\n",
    "from sklearn.metrics import confusion_matrix"
   ]
  },
  {
   "cell_type": "markdown",
   "metadata": {
    "id": "IRwxyHwkijlK"
   },
   "source": [
    "## Logistic Regression"
   ]
  },
  {
   "cell_type": "code",
   "execution_count": 75,
   "metadata": {
    "colab": {
     "base_uri": "https://localhost:8080/"
    },
    "id": "s-foR3Gs-FSz",
    "outputId": "39bfaf73-3cb4-47c9-9f47-6bcf7678e5d3"
   },
   "outputs": [
    {
     "name": "stdout",
     "output_type": "stream",
     "text": [
      "Logistic Regression\n",
      "Accuracy: 0.82\n",
      "Precision: 0.59\n",
      "Recall: 0.21\n",
      "F1-Score: 0.31\n",
      "ROC-AUC: 0.77\n"
     ]
    }
   ],
   "source": [
    "print('Logistic Regression')\n",
    "y_pred = log_model.predict(x_test)\n",
    "\n",
    "print('Accuracy: {:.2f}'.format(accuracy_score(y_test, y_pred)))\n",
    "print('Precision: {:.2f}'.format(precision_score(y_test, y_pred)))\n",
    "print('Recall: {:.2f}'.format(recall_score(y_test, y_pred)))\n",
    "print('F1-Score: {:.2f}'.format(f1_score(y_test, y_pred)))\n",
    "\n",
    "y_pred_proba = log_model.predict_proba(x_test)[::,-1]\n",
    "print('ROC-AUC: {:.2f}'.format(roc_auc_score(y_test, y_pred_proba)))"
   ]
  },
  {
   "cell_type": "code",
   "execution_count": 76,
   "metadata": {
    "colab": {
     "base_uri": "https://localhost:8080/",
     "height": 338
    },
    "id": "xNSN2ef_vANP",
    "outputId": "c36e0848-26a6-47fc-92aa-bf70bb709eb8"
   },
   "outputs": [
    {
     "data": {
      "image/png": "[encoded data removed]",
      "text/plain": [
       "<Figure size 864x360 with 1 Axes>"
      ]
     },
     "metadata": {
      "needs_background": "light"
     },
     "output_type": "display_data"
    }
   ],
   "source": [
    "#confusion matrix\n",
    "cm = confusion_matrix(y_test, y_pred)\n",
    "plt.figure(figsize=(12, 5))\n",
    "labels = unique_rows = np.unique(y_test, axis=0)\n",
    "sns.heatmap(cm, annot=True, square=True, cmap='PuRd', cbar=False, xticklabels=labels, \n",
    "            yticklabels=labels, fmt=\"d\", annot_kws={\"fontsize\": 15})\n",
    "plt.xlabel('Prediction', fontsize=14)\n",
    "plt.ylabel('Actual', fontsize=14)\n",
    "plt.yticks(rotation=0, verticalalignment='center');"
   ]
  },
  {
   "cell_type": "markdown",
   "metadata": {
    "id": "_uhnEjXBiq-t"
   },
   "source": [
    "## Support Vector Classifier (SVC)"
   ]
  },
  {
   "cell_type": "code",
   "execution_count": 77,
   "metadata": {
    "colab": {
     "base_uri": "https://localhost:8080/"
    },
    "id": "QBOEHFWJIXob",
    "outputId": "504ff22f-82c7-4799-ac58-e2f00a34b985"
   },
   "outputs": [
    {
     "name": "stdout",
     "output_type": "stream",
     "text": [
      "SVC\n",
      "Accuracy: 0.86\n",
      "Precision: 0.80\n",
      "Recall: 0.37\n",
      "F1-Score: 0.51\n",
      "ROC-AUC: 0.81\n"
     ]
    }
   ],
   "source": [
    "print('SVC')\n",
    "y_pred = svc_model.predict(x_test)\n",
    "\n",
    "print('Accuracy: {:.2f}'.format(accuracy_score(y_test, y_pred)))\n",
    "print('Precision: {:.2f}'.format(precision_score(y_test, y_pred)))\n",
    "print('Recall: {:.2f}'.format(recall_score(y_test, y_pred)))\n",
    "print('F1-Score: {:.2f}'.format(f1_score(y_test, y_pred)))\n",
    "\n",
    "y_pred_proba = svc_model.predict_proba(x_test)[::,-1]\n",
    "print('ROC-AUC: {:.2f}'.format(roc_auc_score(y_test, y_pred_proba)))"
   ]
  },
  {
   "cell_type": "code",
   "execution_count": 78,
   "metadata": {
    "colab": {
     "base_uri": "https://localhost:8080/",
     "height": 338
    },
    "id": "ya0YhaN-v28s",
    "outputId": "628e8783-4164-42da-ef46-6d4350a0a912"
   },
   "outputs": [
    {
     "data": {
      "image/png": "[encoded data removed]",
      "text/plain": [
       "<Figure size 864x360 with 1 Axes>"
      ]
     },
     "metadata": {
      "needs_background": "light"
     },
     "output_type": "display_data"
    }
   ],
   "source": [
    "#confusion matrix\n",
    "cm = confusion_matrix(y_test, y_pred)\n",
    "plt.figure(figsize=(12, 5))\n",
    "labels = unique_rows = np.unique(y_test, axis=0)\n",
    "sns.heatmap(cm, annot=True, square=True, cmap='PuRd', cbar=False, xticklabels=labels, \n",
    "            yticklabels=labels, fmt=\"d\", annot_kws={\"fontsize\": 15})\n",
    "plt.xlabel('Prediction', fontsize=14)\n",
    "plt.ylabel('Actual', fontsize=14)\n",
    "plt.yticks(rotation=0, verticalalignment='center');"
   ]
  },
  {
   "cell_type": "markdown",
   "metadata": {
    "id": "2RTfd7Ttiw3W"
   },
   "source": [
    "## Random Forest"
   ]
  },
  {
   "cell_type": "code",
   "execution_count": 79,
   "metadata": {
    "colab": {
     "base_uri": "https://localhost:8080/"
    },
    "id": "9bDcdiBHIwNH",
    "outputId": "2e48076a-2616-49de-d4b0-e0938c704c39"
   },
   "outputs": [
    {
     "name": "stdout",
     "output_type": "stream",
     "text": [
      "Random Forest\n",
      "Accuracy: 0.86\n",
      "Precision: 0.81\n",
      "Recall: 0.38\n",
      "F1-Score: 0.52\n",
      "ROC-AUC: 0.85\n"
     ]
    }
   ],
   "source": [
    "print('Random Forest')\n",
    "y_pred = rf_model.predict(x_test)\n",
    "\n",
    "print('Accuracy: {:.2f}'.format(accuracy_score(y_test, y_pred)))\n",
    "print('Precision: {:.2f}'.format(precision_score(y_test, y_pred)))\n",
    "print('Recall: {:.2f}'.format(recall_score(y_test, y_pred)))\n",
    "print('F1-Score: {:.2f}'.format(f1_score(y_test, y_pred)))\n",
    "\n",
    "y_pred_proba = rf_model.predict_proba(x_test)[::,-1]\n",
    "print('ROC-AUC: {:.2f}'.format(roc_auc_score(y_test, y_pred_proba)))"
   ]
  },
  {
   "cell_type": "code",
   "execution_count": 80,
   "metadata": {
    "colab": {
     "base_uri": "https://localhost:8080/",
     "height": 338
    },
    "id": "zIjS8F9HwOt5",
    "outputId": "bd1bbab9-df80-4eb2-b616-a32c37867400"
   },
   "outputs": [
    {
     "data": {
      "image/png": "[encoded data removed]",
      "text/plain": [
       "<Figure size 864x360 with 1 Axes>"
      ]
     },
     "metadata": {
      "needs_background": "light"
     },
     "output_type": "display_data"
    }
   ],
   "source": [
    "#confusion matrix\n",
    "cm = confusion_matrix(y_test, y_pred)\n",
    "plt.figure(figsize=(12, 5))\n",
    "labels = unique_rows = np.unique(y_test, axis=0)\n",
    "sns.heatmap(cm, annot=True, square=True, cmap='PuRd', cbar=False, xticklabels=labels, \n",
    "            yticklabels=labels, fmt=\"d\", annot_kws={\"fontsize\": 15})\n",
    "plt.xlabel('Prediction', fontsize=14)\n",
    "plt.ylabel('Actual', fontsize=14)\n",
    "plt.yticks(rotation=0, verticalalignment='center');"
   ]
  },
  {
   "cell_type": "markdown",
   "metadata": {
    "id": "P4FOjbEAwXiY"
   },
   "source": [
    "## KNN"
   ]
  },
  {
   "cell_type": "code",
   "execution_count": 81,
   "metadata": {
    "colab": {
     "base_uri": "https://localhost:8080/"
    },
    "id": "ZqTK6DRBweGa",
    "outputId": "c91f7432-eb38-4fa9-ed57-d6d1597d32e4"
   },
   "outputs": [
    {
     "name": "stdout",
     "output_type": "stream",
     "text": [
      "KNN\n",
      "Accuracy: 0.83\n",
      "Precision: 0.64\n",
      "Recall: 0.29\n",
      "F1-Score: 0.40\n",
      "ROC-AUC: 0.77\n"
     ]
    }
   ],
   "source": [
    "print('KNN')\n",
    "y_pred = knn_model.predict(x_test)\n",
    "\n",
    "print('Accuracy: {:.2f}'.format(accuracy_score(y_test, y_pred)))\n",
    "print('Precision: {:.2f}'.format(precision_score(y_test, y_pred)))\n",
    "print('Recall: {:.2f}'.format(recall_score(y_test, y_pred)))\n",
    "print('F1-Score: {:.2f}'.format(f1_score(y_test, y_pred)))\n",
    "\n",
    "y_pred_proba = knn_model.predict_proba(x_test)[::,-1]\n",
    "print('ROC-AUC: {:.2f}'.format(roc_auc_score(y_test, y_pred_proba)))"
   ]
  },
  {
   "cell_type": "code",
   "execution_count": 82,
   "metadata": {
    "colab": {
     "base_uri": "https://localhost:8080/",
     "height": 338
    },
    "id": "V5Bt9cfBwwV1",
    "outputId": "814675f7-1dd0-4786-8ca4-3999b98a2e23"
   },
   "outputs": [
    {
     "data": {
      "image/png": "[encoded data removed]",
      "text/plain": [
       "<Figure size 864x360 with 1 Axes>"
      ]
     },
     "metadata": {
      "needs_background": "light"
     },
     "output_type": "display_data"
    }
   ],
   "source": [
    "#confusion matrix\n",
    "cm = confusion_matrix(y_test, y_pred)\n",
    "plt.figure(figsize=(12, 5))\n",
    "labels = unique_rows = np.unique(y_test, axis=0)\n",
    "sns.heatmap(cm, annot=True, square=True, cmap='PuRd', cbar=False, xticklabels=labels, \n",
    "            yticklabels=labels, fmt=\"d\", annot_kws={\"fontsize\": 15})\n",
    "plt.xlabel('Prediction', fontsize=14)\n",
    "plt.ylabel('Actual', fontsize=14)\n",
    "plt.yticks(rotation=0, verticalalignment='center');"
   ]
  },
  {
   "cell_type": "markdown",
   "metadata": {
    "id": "lQsxvyxnw0eF"
   },
   "source": [
    "## Decision Tree"
   ]
  },
  {
   "cell_type": "code",
   "execution_count": 83,
   "metadata": {
    "colab": {
     "base_uri": "https://localhost:8080/"
    },
    "id": "TpcczV7gw5sG",
    "outputId": "16300d86-cacb-4057-fdad-735b1430a9e9"
   },
   "outputs": [
    {
     "name": "stdout",
     "output_type": "stream",
     "text": [
      "Decision Tree\n",
      "Accuracy: 0.86\n",
      "Precision: 0.74\n",
      "Recall: 0.41\n",
      "F1-Score: 0.52\n",
      "ROC-AUC: 0.79\n"
     ]
    }
   ],
   "source": [
    "print('Decision Tree')\n",
    "y_pred = tree_model.predict(x_test)\n",
    "\n",
    "print('Accuracy: {:.2f}'.format(accuracy_score(y_test, y_pred)))\n",
    "print('Precision: {:.2f}'.format(precision_score(y_test, y_pred)))\n",
    "print('Recall: {:.2f}'.format(recall_score(y_test, y_pred)))\n",
    "print('F1-Score: {:.2f}'.format(f1_score(y_test, y_pred)))\n",
    "\n",
    "y_pred_proba = tree_model.predict_proba(x_test)[::,-1]\n",
    "print('ROC-AUC: {:.2f}'.format(roc_auc_score(y_test, y_pred_proba)))"
   ]
  },
  {
   "cell_type": "code",
   "execution_count": 84,
   "metadata": {
    "colab": {
     "base_uri": "https://localhost:8080/",
     "height": 338
    },
    "id": "-QeDNAvmxFeP",
    "outputId": "0b1183e4-b966-4364-8c57-6494ae59ed23"
   },
   "outputs": [
    {
     "data": {
      "image/png": "[encoded data removed]",
      "text/plain": [
       "<Figure size 864x360 with 1 Axes>"
      ]
     },
     "metadata": {
      "needs_background": "light"
     },
     "output_type": "display_data"
    }
   ],
   "source": [
    "#confusion matrix\n",
    "cm = confusion_matrix(y_test, y_pred)\n",
    "plt.figure(figsize=(12, 5))\n",
    "labels = unique_rows = np.unique(y_test, axis=0)\n",
    "sns.heatmap(cm, annot=True, square=True, cmap='PuRd', cbar=False, xticklabels=labels, \n",
    "            yticklabels=labels, fmt=\"d\", annot_kws={\"fontsize\": 15})\n",
    "plt.xlabel('Prediction', fontsize=14)\n",
    "plt.ylabel('Actual', fontsize=14)\n",
    "plt.yticks(rotation=0, verticalalignment='center');"
   ]
  },
  {
   "cell_type": "markdown",
   "metadata": {
    "id": "emy2BPAdDX1v"
   },
   "source": [
    "Model yang diujikan yaitu Logistic Regression, SVC (Support Vector Classifier), Random Forest, KNN dan Decision Tree. Dari setiap model telah dilakukan evaluasi performanya dalam melakukan prediksi. \n",
    "\n",
    "Setelah dibandingkan, didapatkan bahwa model SVC, Random Forest dan Decision Tree memiliki skor akurasi yang sama yaitu 0.86. Oleh karena itu, perlu melihat skor lain yaitu presisi. Dalam hal presisi, model Random Forest terlihat lebih baik yaitu dengan skor 0.82, sedangkan model SVC hanya 0.80 dan Decision Tree hanya 0.74.\n",
    "\n",
    "Aspek penting lainnya yang perlu diperhatikan adalah skor ROC-AUC yang mana memperlihatkan seberapa yakin model dalam memprediksi. Berdasarkan hal tersebut, dapat dipastikan bahwa model Random Forest menjadi model terbaik pada prediksi churn ini karena memiliki skor ROC-AUC 0.85 sedangkan model SVC hanya 0.81 dan Decision Tree di skor 0.79.\n",
    "\n",
    "Maka, selanjutnya model yang dipakai adalah **Random Forest**."
   ]
  },
  {
   "cell_type": "markdown",
   "metadata": {
    "id": "17t_jOb7_3jk"
   },
   "source": [
    "## Resampling (SMOTE)"
   ]
  },
  {
   "cell_type": "code",
   "execution_count": 85,
   "metadata": {
    "colab": {
     "base_uri": "https://localhost:8080/"
    },
    "id": "O6fw0JIeJocF",
    "outputId": "5b21c14f-490a-4420-cf68-adfc6fa051b3"
   },
   "outputs": [
    {
     "data": {
      "text/plain": [
       "0.0    5946\n",
       "1.0    1554\n",
       "Name: Exited, dtype: int64"
      ]
     },
     "execution_count": 85,
     "metadata": {},
     "output_type": "execute_result"
    }
   ],
   "source": [
    "y_train.value_counts()"
   ]
  },
  {
   "cell_type": "code",
   "execution_count": 86,
   "metadata": {
    "colab": {
     "base_uri": "https://localhost:8080/"
    },
    "id": "N2qmBajV_7VX",
    "outputId": "e6bdd694-06ca-4a60-c901-38c74b2eee10"
   },
   "outputs": [
    {
     "name": "stdout",
     "output_type": "stream",
     "text": [
      "(11892, 16)\n",
      "(11892,)\n",
      "0.0    5946\n",
      "1.0    5946\n",
      "Name: Exited, dtype: int64\n"
     ]
    }
   ],
   "source": [
    "from imblearn.over_sampling import SMOTE\n",
    "smote = SMOTE()\n",
    "x_smote, y_smote = smote.fit_resample(x_train, y_train)\n",
    "print(x_smote.shape)\n",
    "print(y_smote.shape)\n",
    "print(y_smote.value_counts())"
   ]
  },
  {
   "cell_type": "code",
   "execution_count": 87,
   "metadata": {
    "colab": {
     "base_uri": "https://localhost:8080/"
    },
    "id": "Z8-lYY7dAN3W",
    "outputId": "558d4893-f0bf-4704-fb38-2c23c66285d3"
   },
   "outputs": [
    {
     "data": {
      "text/plain": [
       "RandomForestClassifier(max_depth=6, max_features='sqrt', min_samples_leaf=9,\n",
       "                       min_samples_split=7, n_estimators=861, random_state=1)"
      ]
     },
     "execution_count": 87,
     "metadata": {},
     "output_type": "execute_result"
    }
   ],
   "source": [
    "#mengaplikasaikan data hasil smote terhadap model terbaik yang didapatkan\n",
    "rf_smote = RandomForestClassifier(max_depth = 6, max_features = 'sqrt', min_samples_leaf = 9,\n",
    "                                  min_samples_split = 7, n_estimators = 861, random_state = 1)\n",
    "rf_smote.fit(x_smote, y_smote)"
   ]
  },
  {
   "cell_type": "code",
   "execution_count": 88,
   "metadata": {
    "colab": {
     "base_uri": "https://localhost:8080/"
    },
    "id": "Sc2o4h-XAgZ9",
    "outputId": "0fb72e02-755f-4049-ec72-88bcc32a465f"
   },
   "outputs": [
    {
     "name": "stdout",
     "output_type": "stream",
     "text": [
      "Random Forest (SMOTE)\n",
      "Accuracy: 0.79\n",
      "Precision: 0.47\n",
      "Recall: 0.68\n",
      "F1-Score: 0.56\n",
      "ROC-AUC: 0.84\n"
     ]
    }
   ],
   "source": [
    "print('Random Forest (SMOTE)')\n",
    "y_pred = rf_smote.predict(x_test)\n",
    "\n",
    "print('Accuracy: {:.2f}'.format(accuracy_score(y_test, y_pred)))\n",
    "print('Precision: {:.2f}'.format(precision_score(y_test, y_pred)))\n",
    "print('Recall: {:.2f}'.format(recall_score(y_test, y_pred)))\n",
    "print('F1-Score: {:.2f}'.format(f1_score(y_test, y_pred)))\n",
    "\n",
    "y_pred_proba = rf_smote.predict_proba(x_test)[::,-1]\n",
    "print('ROC-AUC: {:.2f}'.format(roc_auc_score(y_test, y_pred_proba)))"
   ]
  },
  {
   "cell_type": "markdown",
   "metadata": {
    "id": "AkLZX6qVbZfR"
   },
   "source": [
    "Setelah dicoba untuk melakukan resampling terhadap data imbalance pada fitur target yaitu metode SMOTE, kemudian dengan dataset tersebut dilakukan modeling menggunakan model terbaik yang didapatkan yaitu Random Forest. Namun, setelah dievaluasi, model dengan data resampling justru kualitasnya menurun (akurasi dan presisi menurun). Maka untuk model tetap akan menggunakan dataset yang asli, bukan data hasil resampling."
   ]
  },
  {
   "cell_type": "markdown",
   "metadata": {
    "id": "ClpTl_rYA1k5"
   },
   "source": [
    "# Feature Importance"
   ]
  },
  {
   "cell_type": "markdown",
   "metadata": {
    "id": "EPDm2UHSjMlh"
   },
   "source": [
    "Merupakan fungsi untuk melihat seberapa penting suatu fitur berperan dalam modeling klasifikasi. Sehingga dapat dieliminasi fitur yang kurang berperan penting saat melakukan re-modeling untuk selanjutnya di-deploy."
   ]
  },
  {
   "cell_type": "code",
   "execution_count": 89,
   "metadata": {
    "colab": {
     "base_uri": "https://localhost:8080/"
    },
    "id": "SyCva6SNBqp0",
    "outputId": "824458d1-3a3e-41e5-d5b3-8b69925c9dc2"
   },
   "outputs": [
    {
     "data": {
      "text/plain": [
       "Index(['CreditScore', 'Age', 'Tenure', 'Balance', 'NumOfProducts', 'HasCrCard',\n",
       "       'IsActiveMember', 'EstimatedSalary', 'CreditScoreGivenAge',\n",
       "       'TenureByAge', 'BalanceSalaryRatio', 'Geography_France',\n",
       "       'Geography_Germany', 'Geography_Spain', 'Gender_Female', 'Gender_Male'],\n",
       "      dtype='object')"
      ]
     },
     "execution_count": 89,
     "metadata": {},
     "output_type": "execute_result"
    }
   ],
   "source": [
    "x_train.columns"
   ]
  },
  {
   "cell_type": "code",
   "execution_count": 90,
   "metadata": {
    "colab": {
     "base_uri": "https://localhost:8080/"
    },
    "id": "EIfG8EzuA5V3",
    "outputId": "18e2a69b-8869-43bb-87df-cd2442b3e874"
   },
   "outputs": [
    {
     "data": {
      "text/plain": [
       "array([0.02322493, 0.30497541, 0.00578982, 0.04003682, 0.28149971,\n",
       "       0.00128773, 0.08462368, 0.01151951, 0.12664667, 0.01863796,\n",
       "       0.02711564, 0.00667551, 0.04911984, 0.00375825, 0.00721118,\n",
       "       0.00787734])"
      ]
     },
     "execution_count": 90,
     "metadata": {},
     "output_type": "execute_result"
    }
   ],
   "source": [
    "rf_model.feature_importances_"
   ]
  },
  {
   "cell_type": "code",
   "execution_count": 91,
   "metadata": {
    "colab": {
     "base_uri": "https://localhost:8080/",
     "height": 551
    },
    "id": "AJgP7MifBjnv",
    "outputId": "22bd963c-8201-475d-ee57-0ec9555e618b"
   },
   "outputs": [
    {
     "data": {
      "text/html": [
       "\n",
       "  <div id=\"df-0b66580e-f3d0-4b12-a1bc-026c8dc0a9e9\">\n",
       "    <div class=\"colab-df-container\">\n",
       "      <div>\n",
       "<style scoped>\n",
       "    .dataframe tbody tr th:only-of-type {\n",
       "        vertical-align: middle;\n",
       "    }\n",
       "\n",
       "    .dataframe tbody tr th {\n",
       "        vertical-align: top;\n",
       "    }\n",
       "\n",
       "    .dataframe thead th {\n",
       "        text-align: right;\n",
       "    }\n",
       "</style>\n",
       "<table border=\"1\" class=\"dataframe\">\n",
       "  <thead>\n",
       "    <tr style=\"text-align: right;\">\n",
       "      <th></th>\n",
       "      <th>Feature</th>\n",
       "      <th>Importance</th>\n",
       "    </tr>\n",
       "  </thead>\n",
       "  <tbody>\n",
       "    <tr>\n",
       "      <th>1</th>\n",
       "      <td>Age</td>\n",
       "      <td>0.304975</td>\n",
       "    </tr>\n",
       "    <tr>\n",
       "      <th>4</th>\n",
       "      <td>NumOfProducts</td>\n",
       "      <td>0.281500</td>\n",
       "    </tr>\n",
       "    <tr>\n",
       "      <th>8</th>\n",
       "      <td>CreditScoreGivenAge</td>\n",
       "      <td>0.126647</td>\n",
       "    </tr>\n",
       "    <tr>\n",
       "      <th>6</th>\n",
       "      <td>IsActiveMember</td>\n",
       "      <td>0.084624</td>\n",
       "    </tr>\n",
       "    <tr>\n",
       "      <th>12</th>\n",
       "      <td>Geography_Germany</td>\n",
       "      <td>0.049120</td>\n",
       "    </tr>\n",
       "    <tr>\n",
       "      <th>3</th>\n",
       "      <td>Balance</td>\n",
       "      <td>0.040037</td>\n",
       "    </tr>\n",
       "    <tr>\n",
       "      <th>10</th>\n",
       "      <td>BalanceSalaryRatio</td>\n",
       "      <td>0.027116</td>\n",
       "    </tr>\n",
       "    <tr>\n",
       "      <th>0</th>\n",
       "      <td>CreditScore</td>\n",
       "      <td>0.023225</td>\n",
       "    </tr>\n",
       "    <tr>\n",
       "      <th>9</th>\n",
       "      <td>TenureByAge</td>\n",
       "      <td>0.018638</td>\n",
       "    </tr>\n",
       "    <tr>\n",
       "      <th>7</th>\n",
       "      <td>EstimatedSalary</td>\n",
       "      <td>0.011520</td>\n",
       "    </tr>\n",
       "    <tr>\n",
       "      <th>15</th>\n",
       "      <td>Gender_Male</td>\n",
       "      <td>0.007877</td>\n",
       "    </tr>\n",
       "    <tr>\n",
       "      <th>14</th>\n",
       "      <td>Gender_Female</td>\n",
       "      <td>0.007211</td>\n",
       "    </tr>\n",
       "    <tr>\n",
       "      <th>11</th>\n",
       "      <td>Geography_France</td>\n",
       "      <td>0.006676</td>\n",
       "    </tr>\n",
       "    <tr>\n",
       "      <th>2</th>\n",
       "      <td>Tenure</td>\n",
       "      <td>0.005790</td>\n",
       "    </tr>\n",
       "    <tr>\n",
       "      <th>13</th>\n",
       "      <td>Geography_Spain</td>\n",
       "      <td>0.003758</td>\n",
       "    </tr>\n",
       "    <tr>\n",
       "      <th>5</th>\n",
       "      <td>HasCrCard</td>\n",
       "      <td>0.001288</td>\n",
       "    </tr>\n",
       "  </tbody>\n",
       "</table>\n",
       "</div>\n",
       "      <button class=\"colab-df-convert\" onclick=\"convertToInteractive('df-0b66580e-f3d0-4b12-a1bc-026c8dc0a9e9')\"\n",
       "              title=\"Convert this dataframe to an interactive table.\"\n",
       "              style=\"display:none;\">\n",
       "        \n",
       "  <svg xmlns=\"http://www.w3.org/2000/svg\" height=\"24px\"viewBox=\"0 0 24 24\"\n",
       "       width=\"24px\">\n",
       "    <path d=\"M0 0h24v24H0V0z\" fill=\"none\"/>\n",
       "    <path d=\"M18.56 5.44l.94 2.06.94-2.06 2.06-.94-2.06-.94-.94-2.06-.94 2.06-2.06.94zm-11 1L8.5 8.5l.94-2.06 2.06-.94-2.06-.94L8.5 2.5l-.94 2.06-2.06.94zm10 10l.94 2.06.94-2.06 2.06-.94-2.06-.94-.94-2.06-.94 2.06-2.06.94z\"/><path d=\"M17.41 7.96l-1.37-1.37c-.4-.4-.92-.59-1.43-.59-.52 0-1.04.2-1.43.59L10.3 9.45l-7.72 7.72c-.78.78-.78 2.05 0 2.83L4 21.41c.39.39.9.59 1.41.59.51 0 1.02-.2 1.41-.59l7.78-7.78 2.81-2.81c.8-.78.8-2.07 0-2.86zM5.41 20L4 18.59l7.72-7.72 1.47 1.35L5.41 20z\"/>\n",
       "  </svg>\n",
       "      </button>\n",
       "      \n",
       "  <style>\n",
       "    .colab-df-container {\n",
       "      display:flex;\n",
       "      flex-wrap:wrap;\n",
       "      gap: 12px;\n",
       "    }\n",
       "\n",
       "    .colab-df-convert {\n",
       "      background-color: #E8F0FE;\n",
       "      border: none;\n",
       "      border-radius: 50%;\n",
       "      cursor: pointer;\n",
       "      display: none;\n",
       "      fill: #1967D2;\n",
       "      height: 32px;\n",
       "      padding: 0 0 0 0;\n",
       "      width: 32px;\n",
       "    }\n",
       "\n",
       "    .colab-df-convert:hover {\n",
       "      background-color: #E2EBFA;\n",
       "      box-shadow: 0px 1px 2px rgba(60, 64, 67, 0.3), 0px 1px 3px 1px rgba(60, 64, 67, 0.15);\n",
       "      fill: #174EA6;\n",
       "    }\n",
       "\n",
       "    [theme=dark] .colab-df-convert {\n",
       "      background-color: #3B4455;\n",
       "      fill: #D2E3FC;\n",
       "    }\n",
       "\n",
       "    [theme=dark] .colab-df-convert:hover {\n",
       "      background-color: #434B5C;\n",
       "      box-shadow: 0px 1px 3px 1px rgba(0, 0, 0, 0.15);\n",
       "      filter: drop-shadow(0px 1px 2px rgba(0, 0, 0, 0.3));\n",
       "      fill: #FFFFFF;\n",
       "    }\n",
       "  </style>\n",
       "\n",
       "      <script>\n",
       "        const buttonEl =\n",
       "          document.querySelector('#df-0b66580e-f3d0-4b12-a1bc-026c8dc0a9e9 button.colab-df-convert');\n",
       "        buttonEl.style.display =\n",
       "          google.colab.kernel.accessAllowed ? 'block' : 'none';\n",
       "\n",
       "        async function convertToInteractive(key) {\n",
       "          const element = document.querySelector('#df-0b66580e-f3d0-4b12-a1bc-026c8dc0a9e9');\n",
       "          const dataTable =\n",
       "            await google.colab.kernel.invokeFunction('convertToInteractive',\n",
       "                                                     [key], {});\n",
       "          if (!dataTable) return;\n",
       "\n",
       "          const docLinkHtml = 'Like what you see? Visit the ' +\n",
       "            '<a target=\"_blank\" href=https://colab.research.google.com/notebooks/data_table.ipynb>data table notebook</a>'\n",
       "            + ' to learn more about interactive tables.';\n",
       "          element.innerHTML = '';\n",
       "          dataTable['output_type'] = 'display_data';\n",
       "          await google.colab.output.renderOutput(dataTable, element);\n",
       "          const docLink = document.createElement('div');\n",
       "          docLink.innerHTML = docLinkHtml;\n",
       "          element.appendChild(docLink);\n",
       "        }\n",
       "      </script>\n",
       "    </div>\n",
       "  </div>\n",
       "  "
      ],
      "text/plain": [
       "                Feature  Importance\n",
       "1                   Age    0.304975\n",
       "4         NumOfProducts    0.281500\n",
       "8   CreditScoreGivenAge    0.126647\n",
       "6        IsActiveMember    0.084624\n",
       "12    Geography_Germany    0.049120\n",
       "3               Balance    0.040037\n",
       "10   BalanceSalaryRatio    0.027116\n",
       "0           CreditScore    0.023225\n",
       "9           TenureByAge    0.018638\n",
       "7       EstimatedSalary    0.011520\n",
       "15          Gender_Male    0.007877\n",
       "14        Gender_Female    0.007211\n",
       "11     Geography_France    0.006676\n",
       "2                Tenure    0.005790\n",
       "13      Geography_Spain    0.003758\n",
       "5             HasCrCard    0.001288"
      ]
     },
     "execution_count": 91,
     "metadata": {},
     "output_type": "execute_result"
    }
   ],
   "source": [
    "df_fi = pd.DataFrame(zip(x_train.columns, rf_model.feature_importances_), columns = ['Feature', 'Importance'])\n",
    "df_fi.sort_values(by='Importance', ascending = False )"
   ]
  },
  {
   "cell_type": "markdown",
   "metadata": {
    "id": "EP2vhnivVni0"
   },
   "source": [
    "Dari hasil Feature Importance didapatkan tingakatan fitur seberapa berpengaruh terhadap hasil prediksi. Apabila melakukan re-modeling, fitur dengan tingkat pengaruh yang kecil dapat dihapus agar model lebih akurat."
   ]
  },
  {
   "cell_type": "markdown",
   "metadata": {
    "id": "2Ry3pfL6Pd9L"
   },
   "source": [
    "# Result"
   ]
  },
  {
   "cell_type": "markdown",
   "metadata": {
    "id": "zif3wsLYXkvv"
   },
   "source": [
    "Dari model terbaik yang didapatkan, dapat diterapkan ke dataset test atau ke dataset real (dalam hal ini menggunakan dataset test) untuk melakukan prediksi sesuai dengan model yang dibuat. Dan pada dataset dapat ditambahkan fitur yang menunjukkan hasil prediksi: churn (label 1) atau tidak churn (label 0). Selain itu dapat pula ditambahkan fitur berupa nilai probabilitas churn dari nasabah."
   ]
  },
  {
   "cell_type": "code",
   "execution_count": 92,
   "metadata": {
    "id": "nU0i6ALzPcZ2"
   },
   "outputs": [],
   "source": [
    "y_pred = rf_model.predict(x_test)\n",
    "y_pred_proba = rf_model.predict_proba(x_test)[::,-1]\n",
    "x_result = dff.iloc[x_test.index,:].copy()\n",
    "x_result['ProbaExited'] = y_pred_proba\n",
    "x_result['PredictedExited'] = y_pred"
   ]
  },
  {
   "cell_type": "markdown",
   "metadata": {
    "id": "uzlmi5JKYvxD"
   },
   "source": [
    "Berikut dari model, didapatkan daftar nasabah yang diprediksi churn dengan tingkat probabilitasnya masing-masing. Sehingga, dengan data ini pihak bank dapat menentukan kepada nasabah mana dan tindakan seperti apa yang dilakukan agar nasabah tidak churn."
   ]
  },
  {
   "cell_type": "code",
   "execution_count": 93,
   "metadata": {
    "colab": {
     "base_uri": "https://localhost:8080/",
     "height": 488
    },
    "id": "--KZKCS_P9z0",
    "outputId": "74d1651d-f37d-45ea-e1fc-f14a559a7bc9"
   },
   "outputs": [
    {
     "data": {
      "text/html": [
       "\n",
       "  <div id=\"df-7f43af12-ee8b-4382-be80-10fd64baef1d\">\n",
       "    <div class=\"colab-df-container\">\n",
       "      <div>\n",
       "<style scoped>\n",
       "    .dataframe tbody tr th:only-of-type {\n",
       "        vertical-align: middle;\n",
       "    }\n",
       "\n",
       "    .dataframe tbody tr th {\n",
       "        vertical-align: top;\n",
       "    }\n",
       "\n",
       "    .dataframe thead th {\n",
       "        text-align: right;\n",
       "    }\n",
       "</style>\n",
       "<table border=\"1\" class=\"dataframe\">\n",
       "  <thead>\n",
       "    <tr style=\"text-align: right;\">\n",
       "      <th></th>\n",
       "      <th>CreditScore</th>\n",
       "      <th>Geography</th>\n",
       "      <th>Gender</th>\n",
       "      <th>Age</th>\n",
       "      <th>Tenure</th>\n",
       "      <th>Balance</th>\n",
       "      <th>NumOfProducts</th>\n",
       "      <th>HasCrCard</th>\n",
       "      <th>IsActiveMember</th>\n",
       "      <th>EstimatedSalary</th>\n",
       "      <th>Exited</th>\n",
       "      <th>CreditScoreGivenAge</th>\n",
       "      <th>TenureByAge</th>\n",
       "      <th>BalanceSalaryRatio</th>\n",
       "      <th>ProbaExited</th>\n",
       "      <th>PredictedExited</th>\n",
       "    </tr>\n",
       "  </thead>\n",
       "  <tbody>\n",
       "    <tr>\n",
       "      <th>2351</th>\n",
       "      <td>651</td>\n",
       "      <td>France</td>\n",
       "      <td>Male</td>\n",
       "      <td>35</td>\n",
       "      <td>7</td>\n",
       "      <td>74623.50</td>\n",
       "      <td>3</td>\n",
       "      <td>1</td>\n",
       "      <td>0</td>\n",
       "      <td>129451.29</td>\n",
       "      <td>1</td>\n",
       "      <td>18.600000</td>\n",
       "      <td>0.200000</td>\n",
       "      <td>0.576460</td>\n",
       "      <td>0.598838</td>\n",
       "      <td>1.0</td>\n",
       "    </tr>\n",
       "    <tr>\n",
       "      <th>5704</th>\n",
       "      <td>732</td>\n",
       "      <td>Germany</td>\n",
       "      <td>Female</td>\n",
       "      <td>45</td>\n",
       "      <td>6</td>\n",
       "      <td>98792.40</td>\n",
       "      <td>1</td>\n",
       "      <td>1</td>\n",
       "      <td>0</td>\n",
       "      <td>81491.70</td>\n",
       "      <td>1</td>\n",
       "      <td>16.266667</td>\n",
       "      <td>0.133333</td>\n",
       "      <td>1.212300</td>\n",
       "      <td>0.616505</td>\n",
       "      <td>1.0</td>\n",
       "    </tr>\n",
       "    <tr>\n",
       "      <th>3930</th>\n",
       "      <td>622</td>\n",
       "      <td>Germany</td>\n",
       "      <td>Female</td>\n",
       "      <td>52</td>\n",
       "      <td>9</td>\n",
       "      <td>111973.97</td>\n",
       "      <td>1</td>\n",
       "      <td>1</td>\n",
       "      <td>1</td>\n",
       "      <td>162756.29</td>\n",
       "      <td>1</td>\n",
       "      <td>11.961538</td>\n",
       "      <td>0.173077</td>\n",
       "      <td>0.687986</td>\n",
       "      <td>0.513370</td>\n",
       "      <td>1.0</td>\n",
       "    </tr>\n",
       "    <tr>\n",
       "      <th>1318</th>\n",
       "      <td>598</td>\n",
       "      <td>France</td>\n",
       "      <td>Female</td>\n",
       "      <td>43</td>\n",
       "      <td>5</td>\n",
       "      <td>0.00</td>\n",
       "      <td>3</td>\n",
       "      <td>1</td>\n",
       "      <td>1</td>\n",
       "      <td>100722.72</td>\n",
       "      <td>1</td>\n",
       "      <td>13.906977</td>\n",
       "      <td>0.116279</td>\n",
       "      <td>0.000000</td>\n",
       "      <td>0.681355</td>\n",
       "      <td>1.0</td>\n",
       "    </tr>\n",
       "    <tr>\n",
       "      <th>544</th>\n",
       "      <td>504</td>\n",
       "      <td>France</td>\n",
       "      <td>Female</td>\n",
       "      <td>49</td>\n",
       "      <td>7</td>\n",
       "      <td>0.00</td>\n",
       "      <td>3</td>\n",
       "      <td>0</td>\n",
       "      <td>1</td>\n",
       "      <td>87822.14</td>\n",
       "      <td>1</td>\n",
       "      <td>10.285714</td>\n",
       "      <td>0.142857</td>\n",
       "      <td>0.000000</td>\n",
       "      <td>0.695323</td>\n",
       "      <td>1.0</td>\n",
       "    </tr>\n",
       "    <tr>\n",
       "      <th>...</th>\n",
       "      <td>...</td>\n",
       "      <td>...</td>\n",
       "      <td>...</td>\n",
       "      <td>...</td>\n",
       "      <td>...</td>\n",
       "      <td>...</td>\n",
       "      <td>...</td>\n",
       "      <td>...</td>\n",
       "      <td>...</td>\n",
       "      <td>...</td>\n",
       "      <td>...</td>\n",
       "      <td>...</td>\n",
       "      <td>...</td>\n",
       "      <td>...</td>\n",
       "      <td>...</td>\n",
       "      <td>...</td>\n",
       "    </tr>\n",
       "    <tr>\n",
       "      <th>9991</th>\n",
       "      <td>597</td>\n",
       "      <td>France</td>\n",
       "      <td>Female</td>\n",
       "      <td>53</td>\n",
       "      <td>4</td>\n",
       "      <td>88381.21</td>\n",
       "      <td>1</td>\n",
       "      <td>1</td>\n",
       "      <td>0</td>\n",
       "      <td>69384.71</td>\n",
       "      <td>1</td>\n",
       "      <td>11.264151</td>\n",
       "      <td>0.075472</td>\n",
       "      <td>1.273785</td>\n",
       "      <td>0.643887</td>\n",
       "      <td>1.0</td>\n",
       "    </tr>\n",
       "    <tr>\n",
       "      <th>5683</th>\n",
       "      <td>615</td>\n",
       "      <td>France</td>\n",
       "      <td>Female</td>\n",
       "      <td>61</td>\n",
       "      <td>1</td>\n",
       "      <td>104267.70</td>\n",
       "      <td>1</td>\n",
       "      <td>1</td>\n",
       "      <td>0</td>\n",
       "      <td>62845.64</td>\n",
       "      <td>1</td>\n",
       "      <td>10.081967</td>\n",
       "      <td>0.016393</td>\n",
       "      <td>1.659108</td>\n",
       "      <td>0.662105</td>\n",
       "      <td>1.0</td>\n",
       "    </tr>\n",
       "    <tr>\n",
       "      <th>5105</th>\n",
       "      <td>671</td>\n",
       "      <td>Germany</td>\n",
       "      <td>Male</td>\n",
       "      <td>51</td>\n",
       "      <td>3</td>\n",
       "      <td>96891.46</td>\n",
       "      <td>1</td>\n",
       "      <td>1</td>\n",
       "      <td>0</td>\n",
       "      <td>176403.33</td>\n",
       "      <td>1</td>\n",
       "      <td>13.156863</td>\n",
       "      <td>0.058824</td>\n",
       "      <td>0.549261</td>\n",
       "      <td>0.697665</td>\n",
       "      <td>1.0</td>\n",
       "    </tr>\n",
       "    <tr>\n",
       "      <th>6775</th>\n",
       "      <td>469</td>\n",
       "      <td>France</td>\n",
       "      <td>Female</td>\n",
       "      <td>48</td>\n",
       "      <td>5</td>\n",
       "      <td>0.00</td>\n",
       "      <td>1</td>\n",
       "      <td>1</td>\n",
       "      <td>0</td>\n",
       "      <td>160529.71</td>\n",
       "      <td>1</td>\n",
       "      <td>9.770833</td>\n",
       "      <td>0.104167</td>\n",
       "      <td>0.000000</td>\n",
       "      <td>0.596440</td>\n",
       "      <td>1.0</td>\n",
       "    </tr>\n",
       "    <tr>\n",
       "      <th>555</th>\n",
       "      <td>590</td>\n",
       "      <td>Spain</td>\n",
       "      <td>Female</td>\n",
       "      <td>51</td>\n",
       "      <td>3</td>\n",
       "      <td>154962.99</td>\n",
       "      <td>3</td>\n",
       "      <td>0</td>\n",
       "      <td>1</td>\n",
       "      <td>191932.27</td>\n",
       "      <td>1</td>\n",
       "      <td>11.568627</td>\n",
       "      <td>0.058824</td>\n",
       "      <td>0.807384</td>\n",
       "      <td>0.836580</td>\n",
       "      <td>1.0</td>\n",
       "    </tr>\n",
       "  </tbody>\n",
       "</table>\n",
       "<p>226 rows × 16 columns</p>\n",
       "</div>\n",
       "      <button class=\"colab-df-convert\" onclick=\"convertToInteractive('df-7f43af12-ee8b-4382-be80-10fd64baef1d')\"\n",
       "              title=\"Convert this dataframe to an interactive table.\"\n",
       "              style=\"display:none;\">\n",
       "        \n",
       "  <svg xmlns=\"http://www.w3.org/2000/svg\" height=\"24px\"viewBox=\"0 0 24 24\"\n",
       "       width=\"24px\">\n",
       "    <path d=\"M0 0h24v24H0V0z\" fill=\"none\"/>\n",
       "    <path d=\"M18.56 5.44l.94 2.06.94-2.06 2.06-.94-2.06-.94-.94-2.06-.94 2.06-2.06.94zm-11 1L8.5 8.5l.94-2.06 2.06-.94-2.06-.94L8.5 2.5l-.94 2.06-2.06.94zm10 10l.94 2.06.94-2.06 2.06-.94-2.06-.94-.94-2.06-.94 2.06-2.06.94z\"/><path d=\"M17.41 7.96l-1.37-1.37c-.4-.4-.92-.59-1.43-.59-.52 0-1.04.2-1.43.59L10.3 9.45l-7.72 7.72c-.78.78-.78 2.05 0 2.83L4 21.41c.39.39.9.59 1.41.59.51 0 1.02-.2 1.41-.59l7.78-7.78 2.81-2.81c.8-.78.8-2.07 0-2.86zM5.41 20L4 18.59l7.72-7.72 1.47 1.35L5.41 20z\"/>\n",
       "  </svg>\n",
       "      </button>\n",
       "      \n",
       "  <style>\n",
       "    .colab-df-container {\n",
       "      display:flex;\n",
       "      flex-wrap:wrap;\n",
       "      gap: 12px;\n",
       "    }\n",
       "\n",
       "    .colab-df-convert {\n",
       "      background-color: #E8F0FE;\n",
       "      border: none;\n",
       "      border-radius: 50%;\n",
       "      cursor: pointer;\n",
       "      display: none;\n",
       "      fill: #1967D2;\n",
       "      height: 32px;\n",
       "      padding: 0 0 0 0;\n",
       "      width: 32px;\n",
       "    }\n",
       "\n",
       "    .colab-df-convert:hover {\n",
       "      background-color: #E2EBFA;\n",
       "      box-shadow: 0px 1px 2px rgba(60, 64, 67, 0.3), 0px 1px 3px 1px rgba(60, 64, 67, 0.15);\n",
       "      fill: #174EA6;\n",
       "    }\n",
       "\n",
       "    [theme=dark] .colab-df-convert {\n",
       "      background-color: #3B4455;\n",
       "      fill: #D2E3FC;\n",
       "    }\n",
       "\n",
       "    [theme=dark] .colab-df-convert:hover {\n",
       "      background-color: #434B5C;\n",
       "      box-shadow: 0px 1px 3px 1px rgba(0, 0, 0, 0.15);\n",
       "      filter: drop-shadow(0px 1px 2px rgba(0, 0, 0, 0.3));\n",
       "      fill: #FFFFFF;\n",
       "    }\n",
       "  </style>\n",
       "\n",
       "      <script>\n",
       "        const buttonEl =\n",
       "          document.querySelector('#df-7f43af12-ee8b-4382-be80-10fd64baef1d button.colab-df-convert');\n",
       "        buttonEl.style.display =\n",
       "          google.colab.kernel.accessAllowed ? 'block' : 'none';\n",
       "\n",
       "        async function convertToInteractive(key) {\n",
       "          const element = document.querySelector('#df-7f43af12-ee8b-4382-be80-10fd64baef1d');\n",
       "          const dataTable =\n",
       "            await google.colab.kernel.invokeFunction('convertToInteractive',\n",
       "                                                     [key], {});\n",
       "          if (!dataTable) return;\n",
       "\n",
       "          const docLinkHtml = 'Like what you see? Visit the ' +\n",
       "            '<a target=\"_blank\" href=https://colab.research.google.com/notebooks/data_table.ipynb>data table notebook</a>'\n",
       "            + ' to learn more about interactive tables.';\n",
       "          element.innerHTML = '';\n",
       "          dataTable['output_type'] = 'display_data';\n",
       "          await google.colab.output.renderOutput(dataTable, element);\n",
       "          const docLink = document.createElement('div');\n",
       "          docLink.innerHTML = docLinkHtml;\n",
       "          element.appendChild(docLink);\n",
       "        }\n",
       "      </script>\n",
       "    </div>\n",
       "  </div>\n",
       "  "
      ],
      "text/plain": [
       "      CreditScore Geography  Gender  Age  Tenure    Balance  NumOfProducts  \\\n",
       "2351          651    France    Male   35       7   74623.50              3   \n",
       "5704          732   Germany  Female   45       6   98792.40              1   \n",
       "3930          622   Germany  Female   52       9  111973.97              1   \n",
       "1318          598    France  Female   43       5       0.00              3   \n",
       "544           504    France  Female   49       7       0.00              3   \n",
       "...           ...       ...     ...  ...     ...        ...            ...   \n",
       "9991          597    France  Female   53       4   88381.21              1   \n",
       "5683          615    France  Female   61       1  104267.70              1   \n",
       "5105          671   Germany    Male   51       3   96891.46              1   \n",
       "6775          469    France  Female   48       5       0.00              1   \n",
       "555           590     Spain  Female   51       3  154962.99              3   \n",
       "\n",
       "      HasCrCard  IsActiveMember  EstimatedSalary  Exited  CreditScoreGivenAge  \\\n",
       "2351          1               0        129451.29       1            18.600000   \n",
       "5704          1               0         81491.70       1            16.266667   \n",
       "3930          1               1        162756.29       1            11.961538   \n",
       "1318          1               1        100722.72       1            13.906977   \n",
       "544           0               1         87822.14       1            10.285714   \n",
       "...         ...             ...              ...     ...                  ...   \n",
       "9991          1               0         69384.71       1            11.264151   \n",
       "5683          1               0         62845.64       1            10.081967   \n",
       "5105          1               0        176403.33       1            13.156863   \n",
       "6775          1               0        160529.71       1             9.770833   \n",
       "555           0               1        191932.27       1            11.568627   \n",
       "\n",
       "      TenureByAge  BalanceSalaryRatio  ProbaExited  PredictedExited  \n",
       "2351     0.200000            0.576460     0.598838              1.0  \n",
       "5704     0.133333            1.212300     0.616505              1.0  \n",
       "3930     0.173077            0.687986     0.513370              1.0  \n",
       "1318     0.116279            0.000000     0.681355              1.0  \n",
       "544      0.142857            0.000000     0.695323              1.0  \n",
       "...           ...                 ...          ...              ...  \n",
       "9991     0.075472            1.273785     0.643887              1.0  \n",
       "5683     0.016393            1.659108     0.662105              1.0  \n",
       "5105     0.058824            0.549261     0.697665              1.0  \n",
       "6775     0.104167            0.000000     0.596440              1.0  \n",
       "555      0.058824            0.807384     0.836580              1.0  \n",
       "\n",
       "[226 rows x 16 columns]"
      ]
     },
     "execution_count": 93,
     "metadata": {},
     "output_type": "execute_result"
    }
   ],
   "source": [
    "x_result[(x_result['PredictedExited'] == 1)]"
   ]
  },
  {
   "cell_type": "code",
   "execution_count": 94,
   "metadata": {
    "id": "KkxRziuoRKKl"
   },
   "outputs": [],
   "source": [
    "#apabila ingin memfilter nasabah yang diprediksi churn dengan tingkat probabilitas di atas 0.9 (agar lebih fokus terhadap yang probabilitasnya tinggi)\n",
    "#x_result[(x_result['PredictedExited'] == 1) & (x_result['ProbaExited'] >= 0.9)]"
   ]
  },
  {
   "cell_type": "code",
   "execution_count": 95,
   "metadata": {
    "colab": {
     "base_uri": "https://localhost:8080/",
     "height": 364
    },
    "id": "srnbFGqSSQXs",
    "outputId": "1fc197f6-0b04-48cd-d667-7cb8e07d0e7c"
   },
   "outputs": [
    {
     "data": {
      "text/html": [
       "\n",
       "  <div id=\"df-0a38bf6b-78cf-4398-b603-1ff4b7604c3d\">\n",
       "    <div class=\"colab-df-container\">\n",
       "      <div>\n",
       "<style scoped>\n",
       "    .dataframe tbody tr th:only-of-type {\n",
       "        vertical-align: middle;\n",
       "    }\n",
       "\n",
       "    .dataframe tbody tr th {\n",
       "        vertical-align: top;\n",
       "    }\n",
       "\n",
       "    .dataframe thead th {\n",
       "        text-align: right;\n",
       "    }\n",
       "</style>\n",
       "<table border=\"1\" class=\"dataframe\">\n",
       "  <thead>\n",
       "    <tr style=\"text-align: right;\">\n",
       "      <th></th>\n",
       "      <th>CreditScore</th>\n",
       "      <th>Age</th>\n",
       "      <th>Tenure</th>\n",
       "      <th>Balance</th>\n",
       "      <th>NumOfProducts</th>\n",
       "      <th>HasCrCard</th>\n",
       "      <th>IsActiveMember</th>\n",
       "      <th>EstimatedSalary</th>\n",
       "      <th>Exited</th>\n",
       "      <th>CreditScoreGivenAge</th>\n",
       "      <th>TenureByAge</th>\n",
       "      <th>BalanceSalaryRatio</th>\n",
       "      <th>ProbaExited</th>\n",
       "      <th>PredictedExited</th>\n",
       "    </tr>\n",
       "  </thead>\n",
       "  <tbody>\n",
       "    <tr>\n",
       "      <th>count</th>\n",
       "      <td>226.000000</td>\n",
       "      <td>226.000000</td>\n",
       "      <td>226.000000</td>\n",
       "      <td>226.000000</td>\n",
       "      <td>226.000000</td>\n",
       "      <td>226.000000</td>\n",
       "      <td>226.000000</td>\n",
       "      <td>226.000000</td>\n",
       "      <td>226.000000</td>\n",
       "      <td>226.000000</td>\n",
       "      <td>226.000000</td>\n",
       "      <td>226.000000</td>\n",
       "      <td>226.000000</td>\n",
       "      <td>226.0</td>\n",
       "    </tr>\n",
       "    <tr>\n",
       "      <th>mean</th>\n",
       "      <td>632.261062</td>\n",
       "      <td>50.358407</td>\n",
       "      <td>4.849558</td>\n",
       "      <td>94727.938363</td>\n",
       "      <td>1.792035</td>\n",
       "      <td>0.747788</td>\n",
       "      <td>0.176991</td>\n",
       "      <td>106606.428496</td>\n",
       "      <td>0.809735</td>\n",
       "      <td>12.907565</td>\n",
       "      <td>0.098557</td>\n",
       "      <td>9.649792</td>\n",
       "      <td>0.644402</td>\n",
       "      <td>1.0</td>\n",
       "    </tr>\n",
       "    <tr>\n",
       "      <th>std</th>\n",
       "      <td>93.008329</td>\n",
       "      <td>7.677954</td>\n",
       "      <td>2.995467</td>\n",
       "      <td>57758.985418</td>\n",
       "      <td>1.035429</td>\n",
       "      <td>0.435247</td>\n",
       "      <td>0.382508</td>\n",
       "      <td>59084.227609</td>\n",
       "      <td>0.393382</td>\n",
       "      <td>3.102432</td>\n",
       "      <td>0.062541</td>\n",
       "      <td>91.364143</td>\n",
       "      <td>0.100437</td>\n",
       "      <td>0.0</td>\n",
       "    </tr>\n",
       "    <tr>\n",
       "      <th>min</th>\n",
       "      <td>358.000000</td>\n",
       "      <td>25.000000</td>\n",
       "      <td>0.000000</td>\n",
       "      <td>0.000000</td>\n",
       "      <td>1.000000</td>\n",
       "      <td>0.000000</td>\n",
       "      <td>0.000000</td>\n",
       "      <td>91.750000</td>\n",
       "      <td>0.000000</td>\n",
       "      <td>6.884615</td>\n",
       "      <td>0.000000</td>\n",
       "      <td>0.000000</td>\n",
       "      <td>0.501678</td>\n",
       "      <td>1.0</td>\n",
       "    </tr>\n",
       "    <tr>\n",
       "      <th>25%</th>\n",
       "      <td>576.750000</td>\n",
       "      <td>46.000000</td>\n",
       "      <td>2.000000</td>\n",
       "      <td>64205.247500</td>\n",
       "      <td>1.000000</td>\n",
       "      <td>0.250000</td>\n",
       "      <td>0.000000</td>\n",
       "      <td>61077.567500</td>\n",
       "      <td>1.000000</td>\n",
       "      <td>10.944051</td>\n",
       "      <td>0.045719</td>\n",
       "      <td>0.486150</td>\n",
       "      <td>0.565752</td>\n",
       "      <td>1.0</td>\n",
       "    </tr>\n",
       "    <tr>\n",
       "      <th>50%</th>\n",
       "      <td>636.000000</td>\n",
       "      <td>50.000000</td>\n",
       "      <td>5.000000</td>\n",
       "      <td>114231.145000</td>\n",
       "      <td>1.000000</td>\n",
       "      <td>1.000000</td>\n",
       "      <td>0.000000</td>\n",
       "      <td>107468.665000</td>\n",
       "      <td>1.000000</td>\n",
       "      <td>12.685020</td>\n",
       "      <td>0.087923</td>\n",
       "      <td>0.875729</td>\n",
       "      <td>0.626372</td>\n",
       "      <td>1.0</td>\n",
       "    </tr>\n",
       "    <tr>\n",
       "      <th>75%</th>\n",
       "      <td>690.500000</td>\n",
       "      <td>55.000000</td>\n",
       "      <td>8.000000</td>\n",
       "      <td>132579.235000</td>\n",
       "      <td>3.000000</td>\n",
       "      <td>1.000000</td>\n",
       "      <td>0.000000</td>\n",
       "      <td>159393.775000</td>\n",
       "      <td>1.000000</td>\n",
       "      <td>14.457143</td>\n",
       "      <td>0.144410</td>\n",
       "      <td>1.576452</td>\n",
       "      <td>0.695295</td>\n",
       "      <td>1.0</td>\n",
       "    </tr>\n",
       "    <tr>\n",
       "      <th>max</th>\n",
       "      <td>850.000000</td>\n",
       "      <td>70.000000</td>\n",
       "      <td>10.000000</td>\n",
       "      <td>250898.090000</td>\n",
       "      <td>4.000000</td>\n",
       "      <td>1.000000</td>\n",
       "      <td>1.000000</td>\n",
       "      <td>198874.520000</td>\n",
       "      <td>1.000000</td>\n",
       "      <td>26.032258</td>\n",
       "      <td>0.250000</td>\n",
       "      <td>1326.102779</td>\n",
       "      <td>0.897021</td>\n",
       "      <td>1.0</td>\n",
       "    </tr>\n",
       "  </tbody>\n",
       "</table>\n",
       "</div>\n",
       "      <button class=\"colab-df-convert\" onclick=\"convertToInteractive('df-0a38bf6b-78cf-4398-b603-1ff4b7604c3d')\"\n",
       "              title=\"Convert this dataframe to an interactive table.\"\n",
       "              style=\"display:none;\">\n",
       "        \n",
       "  <svg xmlns=\"http://www.w3.org/2000/svg\" height=\"24px\"viewBox=\"0 0 24 24\"\n",
       "       width=\"24px\">\n",
       "    <path d=\"M0 0h24v24H0V0z\" fill=\"none\"/>\n",
       "    <path d=\"M18.56 5.44l.94 2.06.94-2.06 2.06-.94-2.06-.94-.94-2.06-.94 2.06-2.06.94zm-11 1L8.5 8.5l.94-2.06 2.06-.94-2.06-.94L8.5 2.5l-.94 2.06-2.06.94zm10 10l.94 2.06.94-2.06 2.06-.94-2.06-.94-.94-2.06-.94 2.06-2.06.94z\"/><path d=\"M17.41 7.96l-1.37-1.37c-.4-.4-.92-.59-1.43-.59-.52 0-1.04.2-1.43.59L10.3 9.45l-7.72 7.72c-.78.78-.78 2.05 0 2.83L4 21.41c.39.39.9.59 1.41.59.51 0 1.02-.2 1.41-.59l7.78-7.78 2.81-2.81c.8-.78.8-2.07 0-2.86zM5.41 20L4 18.59l7.72-7.72 1.47 1.35L5.41 20z\"/>\n",
       "  </svg>\n",
       "      </button>\n",
       "      \n",
       "  <style>\n",
       "    .colab-df-container {\n",
       "      display:flex;\n",
       "      flex-wrap:wrap;\n",
       "      gap: 12px;\n",
       "    }\n",
       "\n",
       "    .colab-df-convert {\n",
       "      background-color: #E8F0FE;\n",
       "      border: none;\n",
       "      border-radius: 50%;\n",
       "      cursor: pointer;\n",
       "      display: none;\n",
       "      fill: #1967D2;\n",
       "      height: 32px;\n",
       "      padding: 0 0 0 0;\n",
       "      width: 32px;\n",
       "    }\n",
       "\n",
       "    .colab-df-convert:hover {\n",
       "      background-color: #E2EBFA;\n",
       "      box-shadow: 0px 1px 2px rgba(60, 64, 67, 0.3), 0px 1px 3px 1px rgba(60, 64, 67, 0.15);\n",
       "      fill: #174EA6;\n",
       "    }\n",
       "\n",
       "    [theme=dark] .colab-df-convert {\n",
       "      background-color: #3B4455;\n",
       "      fill: #D2E3FC;\n",
       "    }\n",
       "\n",
       "    [theme=dark] .colab-df-convert:hover {\n",
       "      background-color: #434B5C;\n",
       "      box-shadow: 0px 1px 3px 1px rgba(0, 0, 0, 0.15);\n",
       "      filter: drop-shadow(0px 1px 2px rgba(0, 0, 0, 0.3));\n",
       "      fill: #FFFFFF;\n",
       "    }\n",
       "  </style>\n",
       "\n",
       "      <script>\n",
       "        const buttonEl =\n",
       "          document.querySelector('#df-0a38bf6b-78cf-4398-b603-1ff4b7604c3d button.colab-df-convert');\n",
       "        buttonEl.style.display =\n",
       "          google.colab.kernel.accessAllowed ? 'block' : 'none';\n",
       "\n",
       "        async function convertToInteractive(key) {\n",
       "          const element = document.querySelector('#df-0a38bf6b-78cf-4398-b603-1ff4b7604c3d');\n",
       "          const dataTable =\n",
       "            await google.colab.kernel.invokeFunction('convertToInteractive',\n",
       "                                                     [key], {});\n",
       "          if (!dataTable) return;\n",
       "\n",
       "          const docLinkHtml = 'Like what you see? Visit the ' +\n",
       "            '<a target=\"_blank\" href=https://colab.research.google.com/notebooks/data_table.ipynb>data table notebook</a>'\n",
       "            + ' to learn more about interactive tables.';\n",
       "          element.innerHTML = '';\n",
       "          dataTable['output_type'] = 'display_data';\n",
       "          await google.colab.output.renderOutput(dataTable, element);\n",
       "          const docLink = document.createElement('div');\n",
       "          docLink.innerHTML = docLinkHtml;\n",
       "          element.appendChild(docLink);\n",
       "        }\n",
       "      </script>\n",
       "    </div>\n",
       "  </div>\n",
       "  "
      ],
      "text/plain": [
       "       CreditScore         Age      Tenure        Balance  NumOfProducts  \\\n",
       "count   226.000000  226.000000  226.000000     226.000000     226.000000   \n",
       "mean    632.261062   50.358407    4.849558   94727.938363       1.792035   \n",
       "std      93.008329    7.677954    2.995467   57758.985418       1.035429   \n",
       "min     358.000000   25.000000    0.000000       0.000000       1.000000   \n",
       "25%     576.750000   46.000000    2.000000   64205.247500       1.000000   \n",
       "50%     636.000000   50.000000    5.000000  114231.145000       1.000000   \n",
       "75%     690.500000   55.000000    8.000000  132579.235000       3.000000   \n",
       "max     850.000000   70.000000   10.000000  250898.090000       4.000000   \n",
       "\n",
       "        HasCrCard  IsActiveMember  EstimatedSalary      Exited  \\\n",
       "count  226.000000      226.000000       226.000000  226.000000   \n",
       "mean     0.747788        0.176991    106606.428496    0.809735   \n",
       "std      0.435247        0.382508     59084.227609    0.393382   \n",
       "min      0.000000        0.000000        91.750000    0.000000   \n",
       "25%      0.250000        0.000000     61077.567500    1.000000   \n",
       "50%      1.000000        0.000000    107468.665000    1.000000   \n",
       "75%      1.000000        0.000000    159393.775000    1.000000   \n",
       "max      1.000000        1.000000    198874.520000    1.000000   \n",
       "\n",
       "       CreditScoreGivenAge  TenureByAge  BalanceSalaryRatio  ProbaExited  \\\n",
       "count           226.000000   226.000000          226.000000   226.000000   \n",
       "mean             12.907565     0.098557            9.649792     0.644402   \n",
       "std               3.102432     0.062541           91.364143     0.100437   \n",
       "min               6.884615     0.000000            0.000000     0.501678   \n",
       "25%              10.944051     0.045719            0.486150     0.565752   \n",
       "50%              12.685020     0.087923            0.875729     0.626372   \n",
       "75%              14.457143     0.144410            1.576452     0.695295   \n",
       "max              26.032258     0.250000         1326.102779     0.897021   \n",
       "\n",
       "       PredictedExited  \n",
       "count            226.0  \n",
       "mean               1.0  \n",
       "std                0.0  \n",
       "min                1.0  \n",
       "25%                1.0  \n",
       "50%                1.0  \n",
       "75%                1.0  \n",
       "max                1.0  "
      ]
     },
     "execution_count": 95,
     "metadata": {},
     "output_type": "execute_result"
    }
   ],
   "source": [
    "x_result[(x_result['PredictedExited'] == 1)].describe()"
   ]
  }
 ],
 "metadata": {
  "colab": {
   "collapsed_sections": [],
   "provenance": []
  },
  "kernelspec": {
   "display_name": "Python 3 (ipykernel)",
   "language": "python",
   "name": "python3"
  },
  "language_info": {
   "codemirror_mode": {
    "name": "ipython",
    "version": 3
   },
   "file_extension": ".py",
   "mimetype": "text/x-python",
   "name": "python",
   "nbconvert_exporter": "python",
   "pygments_lexer": "ipython3",
   "version": "3.9.12"
  }
 },
 "nbformat": 4,
 "nbformat_minor": 1
}
